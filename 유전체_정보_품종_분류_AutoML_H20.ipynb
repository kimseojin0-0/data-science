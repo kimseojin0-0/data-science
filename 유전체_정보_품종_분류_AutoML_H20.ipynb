{
  "cells": [
    {
      "cell_type": "markdown",
      "metadata": {
        "id": "GxzH39edqb30"
      },
      "source": [
        "#### H2O AutoML\n",
        "\n",
        "H2O는 오픈소스 머신러닝 플랫폼으로 다양한 머신러닝 모형과 딥러닝 등을 구축하여 AutoML과 같은 최신 알고리즘을 제공한다."
      ]
    },
    {
      "cell_type": "code",
      "execution_count": null,
      "metadata": {
        "colab": {
          "base_uri": "https://localhost:8080/"
        },
        "id": "4PfjfElSmQTo",
        "outputId": "6253e5ca-18c6-4913-938c-72892c147d14"
      },
      "outputs": [
        {
          "output_type": "stream",
          "name": "stdout",
          "text": [
            "Looking in indexes: https://pypi.org/simple, https://us-python.pkg.dev/colab-wheels/public/simple/\n",
            "Collecting h2o\n",
            "  Downloading h2o-3.40.0.4.tar.gz (177.6 MB)\n",
            "\u001b[2K     \u001b[90m━━━━━━━━━━━━━━━━━━━━━━━━━━━━━━━━━━━━━━━\u001b[0m \u001b[32m177.6/177.6 MB\u001b[0m \u001b[31m2.4 MB/s\u001b[0m eta \u001b[36m0:00:00\u001b[0m\n",
            "\u001b[?25h  Preparing metadata (setup.py) ... \u001b[?25l\u001b[?25hdone\n",
            "Requirement already satisfied: requests in /usr/local/lib/python3.10/dist-packages (from h2o) (2.27.1)\n",
            "Requirement already satisfied: tabulate in /usr/local/lib/python3.10/dist-packages (from h2o) (0.8.10)\n",
            "Requirement already satisfied: future in /usr/local/lib/python3.10/dist-packages (from h2o) (0.18.3)\n",
            "Requirement already satisfied: urllib3<1.27,>=1.21.1 in /usr/local/lib/python3.10/dist-packages (from requests->h2o) (1.26.15)\n",
            "Requirement already satisfied: certifi>=2017.4.17 in /usr/local/lib/python3.10/dist-packages (from requests->h2o) (2022.12.7)\n",
            "Requirement already satisfied: charset-normalizer~=2.0.0 in /usr/local/lib/python3.10/dist-packages (from requests->h2o) (2.0.12)\n",
            "Requirement already satisfied: idna<4,>=2.5 in /usr/local/lib/python3.10/dist-packages (from requests->h2o) (3.4)\n",
            "Building wheels for collected packages: h2o\n",
            "  Building wheel for h2o (setup.py) ... \u001b[?25l\u001b[?25hdone\n",
            "  Created wheel for h2o: filename=h2o-3.40.0.4-py2.py3-none-any.whl size=177697886 sha256=860610bf7c99302b1e046f7070ee32304e0716a0f1cc17ab26035d2bcb03c862\n",
            "  Stored in directory: /root/.cache/pip/wheels/43/f2/b0/5bb4d702a0467e82d77c45088db3eef25114c26b0eec8e7f6a\n",
            "Successfully built h2o\n",
            "Installing collected packages: h2o\n",
            "Successfully installed h2o-3.40.0.4\n"
          ]
        }
      ],
      "source": [
        "!pip install h2o"
      ]
    },
    {
      "cell_type": "code",
      "execution_count": null,
      "metadata": {
        "id": "Ew7iSEUNquZu"
      },
      "outputs": [],
      "source": [
        "import sys, os, os.path\n",
        "import warnings\n",
        "warnings.filterwarnings('ignore')\n",
        "\n",
        "import numpy as np\n",
        "import pandas as pd\n",
        "import pickle #파이썬에서 텍스트 이외의 자료형을 파일로 저장하기 위해 사용하는 모듈\n",
        "\n",
        "import h2o\n",
        "from h2o.automl import H2OAutoML\n",
        "\n",
        "import pandas as pd\n",
        "import numpy as np\n",
        "import matplotlib.pyplot as plt\n",
        "import seaborn as sns\n",
        "import random\n",
        "import os\n",
        "\n",
        "from sklearn import preprocessing\n",
        "from sklearn.ensemble import RandomForestClassifier\n",
        "train = pd.read_csv('/content/train.csv')\n",
        "test = pd.read_csv('/content/test.csv')"
      ]
    },
    {
      "cell_type": "markdown",
      "metadata": {
        "id": "2QOdckpYriAj"
      },
      "source": [
        "h2o.init()으로 h20 인스턴스를 생성해야 함\n",
        "\n",
        "h2o에서 사용할 클러스터의 가동 시간, 시간대, 버전, 버전 수명, 클러스터 이름, 할당된 하드웨어 리소스 (노드 수, 메모리, 코어 수), 연결 URL, 노출된 H2O API 확장 및 사용된 파이썬 버전 정보가 출력됨"
      ]
    },
    {
      "cell_type": "code",
      "execution_count": null,
      "metadata": {
        "colab": {
          "base_uri": "https://localhost:8080/",
          "height": 559
        },
        "id": "znIySkwirfQf",
        "outputId": "ec94a15c-d4d4-4e55-ee60-652dc99e57f6"
      },
      "outputs": [
        {
          "output_type": "stream",
          "name": "stdout",
          "text": [
            "Checking whether there is an H2O instance running at http://localhost:54321..... not found.\n",
            "Attempting to start a local H2O server...\n",
            "  Java Version: openjdk version \"11.0.19\" 2023-04-18; OpenJDK Runtime Environment (build 11.0.19+7-post-Ubuntu-0ubuntu120.04.1); OpenJDK 64-Bit Server VM (build 11.0.19+7-post-Ubuntu-0ubuntu120.04.1, mixed mode, sharing)\n",
            "  Starting server from /usr/local/lib/python3.10/dist-packages/h2o/backend/bin/h2o.jar\n",
            "  Ice root: /tmp/tmp4ud307du\n",
            "  JVM stdout: /tmp/tmp4ud307du/h2o_unknownUser_started_from_python.out\n",
            "  JVM stderr: /tmp/tmp4ud307du/h2o_unknownUser_started_from_python.err\n",
            "  Server is running at http://127.0.0.1:54321\n",
            "Connecting to H2O server at http://127.0.0.1:54321 ... successful.\n"
          ]
        },
        {
          "output_type": "display_data",
          "data": {
            "text/plain": [
              "--------------------------  -----------------------------------------------------------------------------------------\n",
              "H2O_cluster_uptime:         02 secs\n",
              "H2O_cluster_timezone:       Etc/UTC\n",
              "H2O_data_parsing_timezone:  UTC\n",
              "H2O_cluster_version:        3.40.0.4\n",
              "H2O_cluster_version_age:    1 month and 14 days\n",
              "H2O_cluster_name:           H2O_from_python_unknownUser_y87ne5\n",
              "H2O_cluster_total_nodes:    1\n",
              "H2O_cluster_free_memory:    12 Gb\n",
              "H2O_cluster_total_cores:    2\n",
              "H2O_cluster_allowed_cores:  2\n",
              "H2O_cluster_status:         locked, healthy\n",
              "H2O_connection_url:         http://127.0.0.1:54321\n",
              "H2O_connection_proxy:       {\"http\": null, \"https\": null, \"colab_language_server\": \"/usr/colab/bin/language_service\"}\n",
              "H2O_internal_security:      False\n",
              "Python_version:             3.10.12 final\n",
              "--------------------------  -----------------------------------------------------------------------------------------"
            ],
            "text/html": [
              "\n",
              "<style>\n",
              "\n",
              "#h2o-table-1.h2o-container {\n",
              "  overflow-x: auto;\n",
              "}\n",
              "#h2o-table-1 .h2o-table {\n",
              "  /* width: 100%; */\n",
              "  margin-top: 1em;\n",
              "  margin-bottom: 1em;\n",
              "}\n",
              "#h2o-table-1 .h2o-table caption {\n",
              "  white-space: nowrap;\n",
              "  caption-side: top;\n",
              "  text-align: left;\n",
              "  /* margin-left: 1em; */\n",
              "  margin: 0;\n",
              "  font-size: larger;\n",
              "}\n",
              "#h2o-table-1 .h2o-table thead {\n",
              "  white-space: nowrap; \n",
              "  position: sticky;\n",
              "  top: 0;\n",
              "  box-shadow: 0 -1px inset;\n",
              "}\n",
              "#h2o-table-1 .h2o-table tbody {\n",
              "  overflow: auto;\n",
              "}\n",
              "#h2o-table-1 .h2o-table th,\n",
              "#h2o-table-1 .h2o-table td {\n",
              "  text-align: right;\n",
              "  /* border: 1px solid; */\n",
              "}\n",
              "#h2o-table-1 .h2o-table tr:nth-child(even) {\n",
              "  /* background: #F5F5F5 */\n",
              "}\n",
              "\n",
              "</style>      \n",
              "<div id=\"h2o-table-1\" class=\"h2o-container\">\n",
              "  <table class=\"h2o-table\">\n",
              "    <caption></caption>\n",
              "    <thead></thead>\n",
              "    <tbody><tr><td>H2O_cluster_uptime:</td>\n",
              "<td>02 secs</td></tr>\n",
              "<tr><td>H2O_cluster_timezone:</td>\n",
              "<td>Etc/UTC</td></tr>\n",
              "<tr><td>H2O_data_parsing_timezone:</td>\n",
              "<td>UTC</td></tr>\n",
              "<tr><td>H2O_cluster_version:</td>\n",
              "<td>3.40.0.4</td></tr>\n",
              "<tr><td>H2O_cluster_version_age:</td>\n",
              "<td>1 month and 14 days</td></tr>\n",
              "<tr><td>H2O_cluster_name:</td>\n",
              "<td>H2O_from_python_unknownUser_y87ne5</td></tr>\n",
              "<tr><td>H2O_cluster_total_nodes:</td>\n",
              "<td>1</td></tr>\n",
              "<tr><td>H2O_cluster_free_memory:</td>\n",
              "<td>12 Gb</td></tr>\n",
              "<tr><td>H2O_cluster_total_cores:</td>\n",
              "<td>2</td></tr>\n",
              "<tr><td>H2O_cluster_allowed_cores:</td>\n",
              "<td>2</td></tr>\n",
              "<tr><td>H2O_cluster_status:</td>\n",
              "<td>locked, healthy</td></tr>\n",
              "<tr><td>H2O_connection_url:</td>\n",
              "<td>http://127.0.0.1:54321</td></tr>\n",
              "<tr><td>H2O_connection_proxy:</td>\n",
              "<td>{\"http\": null, \"https\": null, \"colab_language_server\": \"/usr/colab/bin/language_service\"}</td></tr>\n",
              "<tr><td>H2O_internal_security:</td>\n",
              "<td>False</td></tr>\n",
              "<tr><td>Python_version:</td>\n",
              "<td>3.10.12 final</td></tr></tbody>\n",
              "  </table>\n",
              "</div>\n"
            ]
          },
          "metadata": {}
        }
      ],
      "source": [
        "h2o.init(nthreads=-1, max_mem_size=12)"
      ]
    },
    {
      "cell_type": "markdown",
      "metadata": {
        "id": "5ni29TBPtDik"
      },
      "source": [
        "##### 1. 데이터 준비\n",
        "\n",
        "H2OFrame이라는 자체 데이터프레임이 존재\n",
        "\n"
      ]
    },
    {
      "cell_type": "code",
      "execution_count": null,
      "metadata": {
        "id": "66Dah-Ujsxd7"
      },
      "outputs": [],
      "source": [
        "train=train.iloc[:,4:]\n",
        "test=test.iloc[:,4:]"
      ]
    },
    {
      "cell_type": "code",
      "execution_count": null,
      "metadata": {
        "colab": {
          "base_uri": "https://localhost:8080/",
          "height": 745
        },
        "id": "N2yEo0B2weBm",
        "outputId": "dacb4116-b1dd-4b0a-f88a-473d04a5cbd8"
      },
      "outputs": [
        {
          "output_type": "stream",
          "name": "stdout",
          "text": [
            "Parse progress: |████████████████████████████████████████████████████████████████| (done) 100%\n",
            "Parse progress: |████████████████████████████████████████████████████████████████| (done) 100%\n",
            "Parse progress: |████████████████████████████████████████████████████████████████| (done) 100%\n"
          ]
        },
        {
          "output_type": "display_data",
          "data": {
            "text/plain": [
              "Rows:209\n",
              "Cols:17\n"
            ],
            "text/html": [
              "<pre style='margin: 1em 0 1em 0;'>Rows:209\n",
              "Cols:17\n",
              "</pre>"
            ]
          },
          "metadata": {}
        },
        {
          "output_type": "display_data",
          "data": {
            "text/plain": [
              "         trait    SNP_01    SNP_02    SNP_03    SNP_04    SNP_05    SNP_06    SNP_07    SNP_08    SNP_09    SNP_10    SNP_11    SNP_12    SNP_13    SNP_14    SNP_15    class\n",
              "-------  -------  --------  --------  --------  --------  --------  --------  --------  --------  --------  --------  --------  --------  --------  --------  --------  -------\n",
              "type     enum     enum      enum      enum      enum      enum      enum      enum      enum      enum      enum      enum      enum      enum      enum      enum      enum\n",
              "mins\n",
              "mean\n",
              "maxs\n",
              "sigma\n",
              "zeros\n",
              "missing  0        0         0         0         0         0         0         0         0         0         0         0         0         0         0         0         0\n",
              "0        2        G G       A G       C A       A A       C C       A A       A A       G G       G A       G G       G G       A A       A G       A A       G A       B\n",
              "1        2        A G       A G       C A       A A       C A       A G       A A       G G       A A       G G       A G       G A       A G       A A       A A       B\n",
              "2        2        G G       A G       C C       G A       C A       A G       A A       G G       A A       G G       A A       A A       A A       A A       G A       B\n",
              "3        1        G G       G G       A A       G A       A A       A G       G G       A A       A A       A G       G G       G G       G G       C A       G G       A\n",
              "4        2        G G       A A       C A       A A       C C       A G       A A       G A       A A       A G       A A       A A       A G       A A       G G       C\n",
              "5        2        G G       A A       C C       A A       C A       A A       G A       G A       A A       G G       A A       G A       A G       A A       A A       C\n",
              "6        2        A G       G G       C A       A A       C C       A G       A A       G A       A A       G G       A G       A A       A G       A A       A A       B\n",
              "7        2        G G       A A       C A       A A       A A       A G       A A       G A       A A       A G       A A       A A       A G       A A       A A       C\n",
              "8        2        G G       A G       C C       A A       C C       A A       A A       G G       G A       G G       G G       A A       A A       A A       G A       B\n",
              "9        2        A G       G G       A A       G A       C C       A G       A A       G A       A A       G G       A G       A A       A G       A A       G A       B\n",
              "[209 rows x 17 columns]\n"
            ],
            "text/html": [
              "<table class='dataframe'>\n",
              "<thead>\n",
              "<tr><th>       </th><th>trait  </th><th>SNP_01  </th><th>SNP_02  </th><th>SNP_03  </th><th>SNP_04  </th><th>SNP_05  </th><th>SNP_06  </th><th>SNP_07  </th><th>SNP_08  </th><th>SNP_09  </th><th>SNP_10  </th><th>SNP_11  </th><th>SNP_12  </th><th>SNP_13  </th><th>SNP_14  </th><th>SNP_15  </th><th>class  </th></tr>\n",
              "</thead>\n",
              "<tbody>\n",
              "<tr><td>type   </td><td>enum   </td><td>enum    </td><td>enum    </td><td>enum    </td><td>enum    </td><td>enum    </td><td>enum    </td><td>enum    </td><td>enum    </td><td>enum    </td><td>enum    </td><td>enum    </td><td>enum    </td><td>enum    </td><td>enum    </td><td>enum    </td><td>enum   </td></tr>\n",
              "<tr><td>mins   </td><td>       </td><td>        </td><td>        </td><td>        </td><td>        </td><td>        </td><td>        </td><td>        </td><td>        </td><td>        </td><td>        </td><td>        </td><td>        </td><td>        </td><td>        </td><td>        </td><td>       </td></tr>\n",
              "<tr><td>mean   </td><td>       </td><td>        </td><td>        </td><td>        </td><td>        </td><td>        </td><td>        </td><td>        </td><td>        </td><td>        </td><td>        </td><td>        </td><td>        </td><td>        </td><td>        </td><td>        </td><td>       </td></tr>\n",
              "<tr><td>maxs   </td><td>       </td><td>        </td><td>        </td><td>        </td><td>        </td><td>        </td><td>        </td><td>        </td><td>        </td><td>        </td><td>        </td><td>        </td><td>        </td><td>        </td><td>        </td><td>        </td><td>       </td></tr>\n",
              "<tr><td>sigma  </td><td>       </td><td>        </td><td>        </td><td>        </td><td>        </td><td>        </td><td>        </td><td>        </td><td>        </td><td>        </td><td>        </td><td>        </td><td>        </td><td>        </td><td>        </td><td>        </td><td>       </td></tr>\n",
              "<tr><td>zeros  </td><td>       </td><td>        </td><td>        </td><td>        </td><td>        </td><td>        </td><td>        </td><td>        </td><td>        </td><td>        </td><td>        </td><td>        </td><td>        </td><td>        </td><td>        </td><td>        </td><td>       </td></tr>\n",
              "<tr><td>missing</td><td>0      </td><td>0       </td><td>0       </td><td>0       </td><td>0       </td><td>0       </td><td>0       </td><td>0       </td><td>0       </td><td>0       </td><td>0       </td><td>0       </td><td>0       </td><td>0       </td><td>0       </td><td>0       </td><td>0      </td></tr>\n",
              "<tr><td>0      </td><td>2      </td><td>G G     </td><td>A G     </td><td>C A     </td><td>A A     </td><td>C C     </td><td>A A     </td><td>A A     </td><td>G G     </td><td>G A     </td><td>G G     </td><td>G G     </td><td>A A     </td><td>A G     </td><td>A A     </td><td>G A     </td><td>B      </td></tr>\n",
              "<tr><td>1      </td><td>2      </td><td>A G     </td><td>A G     </td><td>C A     </td><td>A A     </td><td>C A     </td><td>A G     </td><td>A A     </td><td>G G     </td><td>A A     </td><td>G G     </td><td>A G     </td><td>G A     </td><td>A G     </td><td>A A     </td><td>A A     </td><td>B      </td></tr>\n",
              "<tr><td>2      </td><td>2      </td><td>G G     </td><td>A G     </td><td>C C     </td><td>G A     </td><td>C A     </td><td>A G     </td><td>A A     </td><td>G G     </td><td>A A     </td><td>G G     </td><td>A A     </td><td>A A     </td><td>A A     </td><td>A A     </td><td>G A     </td><td>B      </td></tr>\n",
              "<tr><td>3      </td><td>1      </td><td>G G     </td><td>G G     </td><td>A A     </td><td>G A     </td><td>A A     </td><td>A G     </td><td>G G     </td><td>A A     </td><td>A A     </td><td>A G     </td><td>G G     </td><td>G G     </td><td>G G     </td><td>C A     </td><td>G G     </td><td>A      </td></tr>\n",
              "<tr><td>4      </td><td>2      </td><td>G G     </td><td>A A     </td><td>C A     </td><td>A A     </td><td>C C     </td><td>A G     </td><td>A A     </td><td>G A     </td><td>A A     </td><td>A G     </td><td>A A     </td><td>A A     </td><td>A G     </td><td>A A     </td><td>G G     </td><td>C      </td></tr>\n",
              "<tr><td>5      </td><td>2      </td><td>G G     </td><td>A A     </td><td>C C     </td><td>A A     </td><td>C A     </td><td>A A     </td><td>G A     </td><td>G A     </td><td>A A     </td><td>G G     </td><td>A A     </td><td>G A     </td><td>A G     </td><td>A A     </td><td>A A     </td><td>C      </td></tr>\n",
              "<tr><td>6      </td><td>2      </td><td>A G     </td><td>G G     </td><td>C A     </td><td>A A     </td><td>C C     </td><td>A G     </td><td>A A     </td><td>G A     </td><td>A A     </td><td>G G     </td><td>A G     </td><td>A A     </td><td>A G     </td><td>A A     </td><td>A A     </td><td>B      </td></tr>\n",
              "<tr><td>7      </td><td>2      </td><td>G G     </td><td>A A     </td><td>C A     </td><td>A A     </td><td>A A     </td><td>A G     </td><td>A A     </td><td>G A     </td><td>A A     </td><td>A G     </td><td>A A     </td><td>A A     </td><td>A G     </td><td>A A     </td><td>A A     </td><td>C      </td></tr>\n",
              "<tr><td>8      </td><td>2      </td><td>G G     </td><td>A G     </td><td>C C     </td><td>A A     </td><td>C C     </td><td>A A     </td><td>A A     </td><td>G G     </td><td>G A     </td><td>G G     </td><td>G G     </td><td>A A     </td><td>A A     </td><td>A A     </td><td>G A     </td><td>B      </td></tr>\n",
              "<tr><td>9      </td><td>2      </td><td>A G     </td><td>G G     </td><td>A A     </td><td>G A     </td><td>C C     </td><td>A G     </td><td>A A     </td><td>G A     </td><td>A A     </td><td>G G     </td><td>A G     </td><td>A A     </td><td>A G     </td><td>A A     </td><td>G A     </td><td>B      </td></tr>\n",
              "</tbody>\n",
              "</table><pre style='font-size: smaller; margin-bottom: 1em;'>[209 rows x 17 columns]</pre>"
            ]
          },
          "metadata": {}
        }
      ],
      "source": [
        "from sklearn.model_selection import train_test_split\n",
        "train, valid = train_test_split(train, test_size=0.2, shuffle=True)\n",
        "\n",
        "h2o_train = h2o.H2OFrame(train)\n",
        "h2o_test = h2o.H2OFrame(test)\n",
        "h2o_valid = h2o.H2OFrame(valid)\n",
        "\n",
        "for i in h2o_train.columns:\n",
        "  h2o_train[i] = h2o_train[i].asfactor()  #asfactor함수는 데이터 중 label이 어떤 column에 해당하는지 알려줌\n",
        "\n",
        "for i in h2o_test.columns:\n",
        "  h2o_test[i] = h2o_test[i].asfactor()\n",
        "\n",
        "for i in h2o_valid.columns:\n",
        "  h2o_valid[i] = h2o_valid[i].asfactor()\n",
        "\n",
        "h2o_train.describe()"
      ]
    },
    {
      "cell_type": "markdown",
      "metadata": {
        "id": "46fu7HQMylrY"
      },
      "source": [
        "##### 2. 모델 준비\n",
        "\n",
        "< H20AutoML() 파라미터 >\n",
        "\n",
        "- max_runtime_secs : 최대 몇 초간 탐색을 할 것인지 정하는 파라미터. 컴피티션의 경우 이 값을 키워서 최대의 성능을 가지는 모델을 찾아내는 것이 좋을 수 있음.\n",
        "\n",
        "- exclude_algos : 어떤 알고리즘을 제외할 것인지를 선언할 수 있음. xgboost와 stackedEnsemble을 제외한 이유는 실습용이기 때문에 시간이 너무 오래걸리는 두 모델은 일부러 제외하고 진행. 컴피티션을 진행한다면 모든 모델을 넣고 돌리셔도 무방."
      ]
    },
    {
      "cell_type": "code",
      "execution_count": null,
      "metadata": {
        "id": "4YYVq3_ZyY5Z"
      },
      "outputs": [],
      "source": [
        "aml = H2OAutoML(max_runtime_secs=(6000), max_models=None,\n",
        "                exclude_algos=['XGBoost', 'StackedEnsemble'],\n",
        "                seed=17)"
      ]
    },
    {
      "cell_type": "code",
      "execution_count": null,
      "metadata": {
        "colab": {
          "base_uri": "https://localhost:8080/"
        },
        "id": "97F50XZm0fh4",
        "outputId": "659b75c2-ff16-4351-f9bd-16023e16c3cc"
      },
      "outputs": [
        {
          "output_type": "execute_result",
          "data": {
            "text/plain": [
              "Index(['trait', 'SNP_01', 'SNP_02', 'SNP_03', 'SNP_04', 'SNP_05', 'SNP_06',\n",
              "       'SNP_07', 'SNP_08', 'SNP_09', 'SNP_10', 'SNP_11', 'SNP_12', 'SNP_13',\n",
              "       'SNP_14', 'SNP_15', 'class'],\n",
              "      dtype='object')"
            ]
          },
          "metadata": {},
          "execution_count": 7
        }
      ],
      "source": [
        "train.columns"
      ]
    },
    {
      "cell_type": "code",
      "execution_count": null,
      "metadata": {
        "id": "H6lA5z0F0MZg"
      },
      "outputs": [],
      "source": [
        "columns_list = train.columns\n",
        "columns_list = columns_list.to_list()\n",
        "columns_list.remove('class')"
      ]
    },
    {
      "cell_type": "code",
      "execution_count": null,
      "metadata": {
        "colab": {
          "base_uri": "https://localhost:8080/"
        },
        "id": "2BaaesVC0Zey",
        "outputId": "ec51a54a-32eb-4709-e324-275e09faef97"
      },
      "outputs": [
        {
          "output_type": "stream",
          "name": "stdout",
          "text": [
            "AutoML progress: |\n",
            "01:27:25.814: User specified a validation frame with cross-validation still enabled. Please note that the models will still be validated using cross-validation only, the validation frame will be used to provide purely informative validation metrics on the trained models.\n",
            "\n",
            "██\n",
            "01:27:31.510: GBM_1_AutoML_1_20230612_12725 [GBM def_5] failed: water.exceptions.H2OModelBuilderIllegalArgumentException: Illegal argument(s) for GBM model: GBM_1_AutoML_1_20230612_12725.  Details: ERRR on field: _min_rows: The dataset size is too small to split for min_rows=100.0: must have at least 200.0 (weighted) rows, but have only 167.0.\n",
            "ERRR on field: _min_rows: The dataset size is too small to split for min_rows=100.0: must have at least 200.0 (weighted) rows, but have only 167.0.\n",
            "ERRR on field: _min_rows: The dataset size is too small to split for min_rows=100.0: must have at least 200.0 (weighted) rows, but have only 167.0.\n",
            "ERRR on field: _min_rows: The dataset size is too small to split for min_rows=100.0: must have at least 200.0 (weighted) rows, but have only 167.0.\n",
            "ERRR on field: _min_rows: The dataset size is too small to split for min_rows=100.0: must have at least 200.0 (weighted) rows, but have only 168.0.\n",
            "\n",
            "\n",
            "███████████████████████████████████████████████████████████"
          ]
        }
      ],
      "source": [
        "aml.train(x=columns_list, y='class',\n",
        "          training_frame=h2o_train,\n",
        "          validation_frame=h2o_valid)\n",
        "\n",
        "lb = aml.leaderboard\n",
        "model_ids = list(lb['model_id'].as_data_frame().iloc[:,0])\n",
        "out_path = './save_h2omodel'\n",
        "\n",
        "for m_id in model_ids:\n",
        "  mdl = h2o.get_model(m_id)\n",
        "  h2o.save_model(model=mdl, path=out_path, force=True)\n",
        "\n",
        "h2o.export_file(lb, os.path.join(out_path, 'aml_leaderboard.h2o'), force=True)"
      ]
    },
    {
      "cell_type": "markdown",
      "metadata": {
        "id": "IpRPFhpw3bwu"
      },
      "source": [
        "leaderboard: 모델의 성능을 보기 위해 쓰는 함수\n",
        "\n",
        "export_file: leaderboard를 저장해 언제든 불러올 수 있음"
      ]
    },
    {
      "cell_type": "markdown",
      "metadata": {
        "id": "nm7-M1LU30Nd"
      },
      "source": [
        "##### 3. 모델 선정\n",
        "\n",
        "학습이 끝나고 import_file()을 통해 export한 leaderboard를 불러올 수 있음"
      ]
    },
    {
      "cell_type": "code",
      "execution_count": null,
      "metadata": {
        "id": "3CL2btR33URC"
      },
      "outputs": [],
      "source": [
        "lb = h2o.import_file('./save_h20model/aml_leaderboard.h2o')\n",
        "lb.head(rows=10)"
      ]
    },
    {
      "cell_type": "code",
      "execution_count": null,
      "metadata": {
        "id": "BIuQjC8C4Mhd"
      },
      "outputs": [],
      "source": [
        "performance = aml.leader.model_performance(h2o.valid)"
      ]
    },
    {
      "cell_type": "code",
      "execution_count": null,
      "metadata": {
        "id": "z2FXDAjf4Mdg"
      },
      "outputs": [],
      "source": [
        "model_id = aml.leader.model_id #최고 모델명\n",
        "print(model_id)"
      ]
    },
    {
      "cell_type": "markdown",
      "metadata": {
        "id": "JYGrOhJF7C_A"
      },
      "source": [
        "h2o.load_model()을 통해 저장해둔 경로의 best model을 load하기"
      ]
    },
    {
      "cell_type": "code",
      "execution_count": null,
      "metadata": {
        "id": "ulVS1DED4MYh"
      },
      "outputs": [],
      "source": [
        "model_01 = h2o.load_model('')"
      ]
    },
    {
      "cell_type": "code",
      "execution_count": null,
      "metadata": {
        "id": "rzGHygeO6_dM"
      },
      "outputs": [],
      "source": [
        "model_01"
      ]
    },
    {
      "cell_type": "markdown",
      "metadata": {
        "id": "67JJE7qP7JHS"
      },
      "source": [
        "##### 4. 피처 중요도"
      ]
    },
    {
      "cell_type": "code",
      "execution_count": null,
      "metadata": {
        "id": "LIER7dod6_Zz"
      },
      "outputs": [],
      "source": [
        "aml.leader.varimp_plot()"
      ]
    },
    {
      "cell_type": "markdown",
      "metadata": {
        "id": "VTVEwPMY7VlX"
      },
      "source": [
        "##### 5. 예측하기\n",
        "\n",
        "그냥 model_01.predict를 하게되면 h2o 자체 데이터프레임으로 반환되므로 pd의 dataframe 형식으로 반환해주기 위해 as_data_frame을 사용해줌"
      ]
    },
    {
      "cell_type": "code",
      "execution_count": null,
      "metadata": {
        "id": "ZtVNcKZw7UZw"
      },
      "outputs": [],
      "source": [
        "best_pred = model_01.predict(h2o_test).as_data_frame().predict"
      ]
    },
    {
      "cell_type": "code",
      "execution_count": null,
      "metadata": {
        "id": "k41oPeKy7USq"
      },
      "outputs": [],
      "source": [
        "best_pred"
      ]
    },
    {
      "cell_type": "code",
      "execution_count": null,
      "metadata": {
        "id": "2T6waEna8Yrl"
      },
      "outputs": [],
      "source": [
        "submit = pd.read_csv('/content/sample_submission.csv')\n",
        "submit"
      ]
    },
    {
      "cell_type": "code",
      "execution_count": null,
      "metadata": {
        "id": "Dw4LjXS98gtM"
      },
      "outputs": [],
      "source": [
        "submit['class'] = best_pred\n",
        "submit.to_csv('h2o_best.csv', inplace=False)"
      ]
    },
    {
      "cell_type": "markdown",
      "metadata": {
        "id": "iX1o-XFA9QVD"
      },
      "source": [
        "피쳐엔지니어링 하나 없이 양호한 성능이 나오는 것으로 확인됨"
      ]
    },
    {
      "cell_type": "code",
      "execution_count": null,
      "metadata": {
        "id": "5IliQAoa9RLd"
      },
      "outputs": [],
      "source": []
    }
  ],
  "metadata": {
    "colab": {
      "provenance": []
    },
    "kernelspec": {
      "display_name": "Python 3",
      "name": "python3"
    },
    "language_info": {
      "name": "python"
    }
  },
  "nbformat": 4,
  "nbformat_minor": 0
}