{
  "nbformat": 4,
  "nbformat_minor": 0,
  "metadata": {
    "colab": {
      "provenance": [],
      "toc_visible": true
    },
    "kernelspec": {
      "name": "python3",
      "display_name": "Python 3"
    },
    "language_info": {
      "name": "python"
    }
  },
  "cells": [
    {
      "cell_type": "markdown",
      "source": [
        "https://dacon.io/competitions/official/236109/codeshare/8416?page=1&dtype=recent"
      ],
      "metadata": {
        "id": "HrKu_tUadc7z"
      }
    },
    {
      "cell_type": "code",
      "execution_count": null,
      "metadata": {
        "id": "qNpsYHUoNe-5"
      },
      "outputs": [],
      "source": [
        "import pandas as pd\n",
        "import numpy as np\n",
        "import random\n",
        "import os\n",
        "from sklearn.preprocessing import LabelEncoder"
      ]
    },
    {
      "cell_type": "markdown",
      "source": [
        "#### Fixed Seed\n",
        "\n",
        "모델링할 때, 모델 간 성능 비교를 위해서 seed 값 고정이 매우 중요함\n",
        "\n",
        "\n",
        "seed가 고정되어 있어야 내가 제안한 모델의 성능이 좋은지 안좋은지 확인이 가능함"
      ],
      "metadata": {
        "id": "ihYYLZIvOS5I"
      }
    },
    {
      "cell_type": "code",
      "source": [
        "def seed_everything(seed):\n",
        "  random.seed(seed)\n",
        "  os.environ['PYTHONHASHSEED'] = str(seed)\n",
        "  np.random.seed(seed)\n",
        "\n",
        "seed_everything(42)"
      ],
      "metadata": {
        "id": "4ZaVYZAcR2SU"
      },
      "execution_count": null,
      "outputs": []
    },
    {
      "cell_type": "markdown",
      "source": [
        "#### 데이터 불러오기"
      ],
      "metadata": {
        "id": "QJ6FT5kiT7rK"
      }
    },
    {
      "cell_type": "code",
      "source": [
        "train = pd.read_csv('train.csv')\n",
        "test = pd.read_csv('test.csv')"
      ],
      "metadata": {
        "id": "efiZnyDoR2N1"
      },
      "execution_count": null,
      "outputs": []
    },
    {
      "cell_type": "code",
      "source": [
        "train.head(5)"
      ],
      "metadata": {
        "colab": {
          "base_uri": "https://localhost:8080/",
          "height": 354
        },
        "id": "ygF_r2j7Su68",
        "outputId": "5ffe9da3-0eb5-4c43-ce50-2e4cadd7e6f0"
      },
      "execution_count": null,
      "outputs": [
        {
          "output_type": "execute_result",
          "data": {
            "text/plain": [
              "            ID   월   요일  시간  소관경찰서  소관지역    사건발생거리  강수량(mm)  강설량(mm)  적설량(cm)  \\\n",
              "0  TRAIN_00000   9  화요일  10    137   8.0  2.611124    0.000      0.0      0.0   \n",
              "1  TRAIN_00001  11  화요일   6    438  13.0  3.209093    0.000      0.0      0.0   \n",
              "2  TRAIN_00002   8  일요일   6   1729  47.0  1.619597    0.000      0.0      0.0   \n",
              "3  TRAIN_00003   5  월요일   6   2337  53.0  1.921615   11.375      0.0      0.0   \n",
              "4  TRAIN_00004   9  일요일  11   1439  41.0  1.789721    0.000      0.0      0.0   \n",
              "\n",
              "      풍향   안개  짙은안개   번개  진눈깨비   서리  연기/연무  눈날림 범죄발생지  TARGET  \n",
              "0  245.0  0.0   0.0  0.0   0.0  0.0    0.0  0.0    차도       2  \n",
              "1  200.0  0.0   0.0  0.0   0.0  0.0    0.0  0.0    차도       0  \n",
              "2   40.0  1.0   0.0  0.0   0.0  0.0    1.0  0.0    인도       1  \n",
              "3  225.0  1.0   1.0  0.0   0.0  0.0    0.0  0.0   주거지       1  \n",
              "4  255.0  0.0   0.0  0.0   0.0  0.0    0.0  0.0   주유소       2  "
            ],
            "text/html": [
              "\n",
              "  <div id=\"df-10c23211-f070-44df-a123-14991f455fef\">\n",
              "    <div class=\"colab-df-container\">\n",
              "      <div>\n",
              "<style scoped>\n",
              "    .dataframe tbody tr th:only-of-type {\n",
              "        vertical-align: middle;\n",
              "    }\n",
              "\n",
              "    .dataframe tbody tr th {\n",
              "        vertical-align: top;\n",
              "    }\n",
              "\n",
              "    .dataframe thead th {\n",
              "        text-align: right;\n",
              "    }\n",
              "</style>\n",
              "<table border=\"1\" class=\"dataframe\">\n",
              "  <thead>\n",
              "    <tr style=\"text-align: right;\">\n",
              "      <th></th>\n",
              "      <th>ID</th>\n",
              "      <th>월</th>\n",
              "      <th>요일</th>\n",
              "      <th>시간</th>\n",
              "      <th>소관경찰서</th>\n",
              "      <th>소관지역</th>\n",
              "      <th>사건발생거리</th>\n",
              "      <th>강수량(mm)</th>\n",
              "      <th>강설량(mm)</th>\n",
              "      <th>적설량(cm)</th>\n",
              "      <th>풍향</th>\n",
              "      <th>안개</th>\n",
              "      <th>짙은안개</th>\n",
              "      <th>번개</th>\n",
              "      <th>진눈깨비</th>\n",
              "      <th>서리</th>\n",
              "      <th>연기/연무</th>\n",
              "      <th>눈날림</th>\n",
              "      <th>범죄발생지</th>\n",
              "      <th>TARGET</th>\n",
              "    </tr>\n",
              "  </thead>\n",
              "  <tbody>\n",
              "    <tr>\n",
              "      <th>0</th>\n",
              "      <td>TRAIN_00000</td>\n",
              "      <td>9</td>\n",
              "      <td>화요일</td>\n",
              "      <td>10</td>\n",
              "      <td>137</td>\n",
              "      <td>8.0</td>\n",
              "      <td>2.611124</td>\n",
              "      <td>0.000</td>\n",
              "      <td>0.0</td>\n",
              "      <td>0.0</td>\n",
              "      <td>245.0</td>\n",
              "      <td>0.0</td>\n",
              "      <td>0.0</td>\n",
              "      <td>0.0</td>\n",
              "      <td>0.0</td>\n",
              "      <td>0.0</td>\n",
              "      <td>0.0</td>\n",
              "      <td>0.0</td>\n",
              "      <td>차도</td>\n",
              "      <td>2</td>\n",
              "    </tr>\n",
              "    <tr>\n",
              "      <th>1</th>\n",
              "      <td>TRAIN_00001</td>\n",
              "      <td>11</td>\n",
              "      <td>화요일</td>\n",
              "      <td>6</td>\n",
              "      <td>438</td>\n",
              "      <td>13.0</td>\n",
              "      <td>3.209093</td>\n",
              "      <td>0.000</td>\n",
              "      <td>0.0</td>\n",
              "      <td>0.0</td>\n",
              "      <td>200.0</td>\n",
              "      <td>0.0</td>\n",
              "      <td>0.0</td>\n",
              "      <td>0.0</td>\n",
              "      <td>0.0</td>\n",
              "      <td>0.0</td>\n",
              "      <td>0.0</td>\n",
              "      <td>0.0</td>\n",
              "      <td>차도</td>\n",
              "      <td>0</td>\n",
              "    </tr>\n",
              "    <tr>\n",
              "      <th>2</th>\n",
              "      <td>TRAIN_00002</td>\n",
              "      <td>8</td>\n",
              "      <td>일요일</td>\n",
              "      <td>6</td>\n",
              "      <td>1729</td>\n",
              "      <td>47.0</td>\n",
              "      <td>1.619597</td>\n",
              "      <td>0.000</td>\n",
              "      <td>0.0</td>\n",
              "      <td>0.0</td>\n",
              "      <td>40.0</td>\n",
              "      <td>1.0</td>\n",
              "      <td>0.0</td>\n",
              "      <td>0.0</td>\n",
              "      <td>0.0</td>\n",
              "      <td>0.0</td>\n",
              "      <td>1.0</td>\n",
              "      <td>0.0</td>\n",
              "      <td>인도</td>\n",
              "      <td>1</td>\n",
              "    </tr>\n",
              "    <tr>\n",
              "      <th>3</th>\n",
              "      <td>TRAIN_00003</td>\n",
              "      <td>5</td>\n",
              "      <td>월요일</td>\n",
              "      <td>6</td>\n",
              "      <td>2337</td>\n",
              "      <td>53.0</td>\n",
              "      <td>1.921615</td>\n",
              "      <td>11.375</td>\n",
              "      <td>0.0</td>\n",
              "      <td>0.0</td>\n",
              "      <td>225.0</td>\n",
              "      <td>1.0</td>\n",
              "      <td>1.0</td>\n",
              "      <td>0.0</td>\n",
              "      <td>0.0</td>\n",
              "      <td>0.0</td>\n",
              "      <td>0.0</td>\n",
              "      <td>0.0</td>\n",
              "      <td>주거지</td>\n",
              "      <td>1</td>\n",
              "    </tr>\n",
              "    <tr>\n",
              "      <th>4</th>\n",
              "      <td>TRAIN_00004</td>\n",
              "      <td>9</td>\n",
              "      <td>일요일</td>\n",
              "      <td>11</td>\n",
              "      <td>1439</td>\n",
              "      <td>41.0</td>\n",
              "      <td>1.789721</td>\n",
              "      <td>0.000</td>\n",
              "      <td>0.0</td>\n",
              "      <td>0.0</td>\n",
              "      <td>255.0</td>\n",
              "      <td>0.0</td>\n",
              "      <td>0.0</td>\n",
              "      <td>0.0</td>\n",
              "      <td>0.0</td>\n",
              "      <td>0.0</td>\n",
              "      <td>0.0</td>\n",
              "      <td>0.0</td>\n",
              "      <td>주유소</td>\n",
              "      <td>2</td>\n",
              "    </tr>\n",
              "  </tbody>\n",
              "</table>\n",
              "</div>\n",
              "      <button class=\"colab-df-convert\" onclick=\"convertToInteractive('df-10c23211-f070-44df-a123-14991f455fef')\"\n",
              "              title=\"Convert this dataframe to an interactive table.\"\n",
              "              style=\"display:none;\">\n",
              "        \n",
              "  <svg xmlns=\"http://www.w3.org/2000/svg\" height=\"24px\"viewBox=\"0 0 24 24\"\n",
              "       width=\"24px\">\n",
              "    <path d=\"M0 0h24v24H0V0z\" fill=\"none\"/>\n",
              "    <path d=\"M18.56 5.44l.94 2.06.94-2.06 2.06-.94-2.06-.94-.94-2.06-.94 2.06-2.06.94zm-11 1L8.5 8.5l.94-2.06 2.06-.94-2.06-.94L8.5 2.5l-.94 2.06-2.06.94zm10 10l.94 2.06.94-2.06 2.06-.94-2.06-.94-.94-2.06-.94 2.06-2.06.94z\"/><path d=\"M17.41 7.96l-1.37-1.37c-.4-.4-.92-.59-1.43-.59-.52 0-1.04.2-1.43.59L10.3 9.45l-7.72 7.72c-.78.78-.78 2.05 0 2.83L4 21.41c.39.39.9.59 1.41.59.51 0 1.02-.2 1.41-.59l7.78-7.78 2.81-2.81c.8-.78.8-2.07 0-2.86zM5.41 20L4 18.59l7.72-7.72 1.47 1.35L5.41 20z\"/>\n",
              "  </svg>\n",
              "      </button>\n",
              "      \n",
              "  <style>\n",
              "    .colab-df-container {\n",
              "      display:flex;\n",
              "      flex-wrap:wrap;\n",
              "      gap: 12px;\n",
              "    }\n",
              "\n",
              "    .colab-df-convert {\n",
              "      background-color: #E8F0FE;\n",
              "      border: none;\n",
              "      border-radius: 50%;\n",
              "      cursor: pointer;\n",
              "      display: none;\n",
              "      fill: #1967D2;\n",
              "      height: 32px;\n",
              "      padding: 0 0 0 0;\n",
              "      width: 32px;\n",
              "    }\n",
              "\n",
              "    .colab-df-convert:hover {\n",
              "      background-color: #E2EBFA;\n",
              "      box-shadow: 0px 1px 2px rgba(60, 64, 67, 0.3), 0px 1px 3px 1px rgba(60, 64, 67, 0.15);\n",
              "      fill: #174EA6;\n",
              "    }\n",
              "\n",
              "    [theme=dark] .colab-df-convert {\n",
              "      background-color: #3B4455;\n",
              "      fill: #D2E3FC;\n",
              "    }\n",
              "\n",
              "    [theme=dark] .colab-df-convert:hover {\n",
              "      background-color: #434B5C;\n",
              "      box-shadow: 0px 1px 3px 1px rgba(0, 0, 0, 0.15);\n",
              "      filter: drop-shadow(0px 1px 2px rgba(0, 0, 0, 0.3));\n",
              "      fill: #FFFFFF;\n",
              "    }\n",
              "  </style>\n",
              "\n",
              "      <script>\n",
              "        const buttonEl =\n",
              "          document.querySelector('#df-10c23211-f070-44df-a123-14991f455fef button.colab-df-convert');\n",
              "        buttonEl.style.display =\n",
              "          google.colab.kernel.accessAllowed ? 'block' : 'none';\n",
              "\n",
              "        async function convertToInteractive(key) {\n",
              "          const element = document.querySelector('#df-10c23211-f070-44df-a123-14991f455fef');\n",
              "          const dataTable =\n",
              "            await google.colab.kernel.invokeFunction('convertToInteractive',\n",
              "                                                     [key], {});\n",
              "          if (!dataTable) return;\n",
              "\n",
              "          const docLinkHtml = 'Like what you see? Visit the ' +\n",
              "            '<a target=\"_blank\" href=https://colab.research.google.com/notebooks/data_table.ipynb>data table notebook</a>'\n",
              "            + ' to learn more about interactive tables.';\n",
              "          element.innerHTML = '';\n",
              "          dataTable['output_type'] = 'display_data';\n",
              "          await google.colab.output.renderOutput(dataTable, element);\n",
              "          const docLink = document.createElement('div');\n",
              "          docLink.innerHTML = docLinkHtml;\n",
              "          element.appendChild(docLink);\n",
              "        }\n",
              "      </script>\n",
              "    </div>\n",
              "  </div>\n",
              "  "
            ]
          },
          "metadata": {},
          "execution_count": 22
        }
      ]
    },
    {
      "cell_type": "markdown",
      "source": [
        "#### 라벨 인코딩"
      ],
      "metadata": {
        "id": "v1HzY5JcUF3Y"
      }
    },
    {
      "cell_type": "code",
      "source": [
        "ordinal_features = ['요일', '범죄발생지']\n",
        "\n",
        "for feature in ordinal_features:\n",
        "    le = LabelEncoder()\n",
        "    le = le.fit(train[feature])\n",
        "    train[feature] = le.transform(train[feature])\n",
        "\n",
        "    for label in np.unique(test[feature]):\n",
        "        if label not in le.classes_:\n",
        "            le.classes_ = np.append(le.classes_, label)\n",
        "    test[feature] = le.transform(test[feature])"
      ],
      "metadata": {
        "id": "_YOJnpE4Sw9E"
      },
      "execution_count": null,
      "outputs": []
    },
    {
      "cell_type": "code",
      "source": [
        "train = train.drop('ID', axis = 1)\n",
        "test = test.drop('ID', axis = 1)"
      ],
      "metadata": {
        "id": "DHdm-Xf2T4Mt"
      },
      "execution_count": null,
      "outputs": []
    },
    {
      "cell_type": "code",
      "source": [
        "y_train = train['TARGET']\n",
        "X_train = train.drop('TARGET', axis=1)"
      ],
      "metadata": {
        "id": "D_9NpOe9URSH"
      },
      "execution_count": null,
      "outputs": []
    },
    {
      "cell_type": "markdown",
      "source": [
        "#### Sample Weight 샘플 가중치\n",
        "\n",
        "- 타켓 변수 y_train을 기반으로 균형 잡힌 데이터셋을 만들기 위해 샘플 가중치를 계산한다\n",
        "\n",
        "- CreateBalancedSampleWeights 함수는 y_train과 largest_class_weight_coef 두 가지 인자를 받는다\n",
        "\n",
        "- 샘플 가중치를 학습에 사용함으로써, 소수 클래스에 더 많은 중요성을 부여하거나 데이터셋의 다른 클래스로의 영향을 균형있게 조절할 수 있다\n",
        "\n",
        "  https://scikit-learn.org/stable/modules/generated/sklearn.utils.class_weight.compute_sample_weight.html"
      ],
      "metadata": {
        "id": "_1RM7oDjVSQn"
      }
    },
    {
      "cell_type": "markdown",
      "source": [
        "y_train에서 고유한 클래스를 식별하고 unique 함수를 사용하여 정렬합니다.\n",
        "\n",
        "np.bincount를 사용하여 각 클래스의 샘플 수를 계산합니다.\n",
        "\n",
        "전체 샘플 수와 클래스 수를 계산합니다.\n",
        "\n",
        "각 클래스의 가중치를 전체 샘플 수를 클래스 수와 각 클래스의 샘플 수의 곱으로 나눈 비율로 계산합니다.\n",
        "\n",
        "각 클래스와 해당 가중치를 매핑하는 class_weight_dict 사전을 생성합니다.\n",
        "\n",
        "두 번째 클래스 (classes[1])의 가중치를 largest_class_weight_coef로 곱합니다.\n",
        "\n",
        "class_weight_dict에서 y_train의 각 샘플에 대한 가중치를 조회하여 sample_weights 리스트를 생성합니다."
      ],
      "metadata": {
        "id": "pNo4HWhBWakD"
      }
    },
    {
      "cell_type": "code",
      "source": [
        "def CreateBalancedSampleWeights(y_train, largest_class_weight_coef):\n",
        "  classes = y_train.unique()\n",
        "  classes.sort()\n",
        "  class_samples = np.bincount(y_train)\n",
        "  total_samples = class_samples.sum()\n",
        "  n_classes = len(class_samples)\n",
        "  weights = total_samples / (n_classes * class_samples * 1.0)\n",
        "  class_weight_dict = {key:value for (key, value) in zip(classes, weights)}\n",
        "  class_weight_dict[classes[1]] = class_weight_dict[classes[1]] * largest_class_weight_coef\n",
        "  sample_weights = [class_weight_dict[y] for y in y_train]\n",
        "\n",
        "  return sample_weights\n",
        "\n",
        "train_sample_weight = CreateBalancedSampleWeights(train['TARGET'], largest_class_weight_coef=1)\n",
        "train_sample_weight[:10]"
      ],
      "metadata": {
        "colab": {
          "base_uri": "https://localhost:8080/"
        },
        "id": "MCTrlrugUSzz",
        "outputId": "fbe4bbf0-8d7c-4add-b65a-f4ec8e4a39c8"
      },
      "execution_count": null,
      "outputs": [
        {
          "output_type": "execute_result",
          "data": {
            "text/plain": [
              "[1.2473547319264644,\n",
              " 0.7718249069578178,\n",
              " 1.1078211337297057,\n",
              " 1.1078211337297057,\n",
              " 1.2473547319264644,\n",
              " 0.7718249069578178,\n",
              " 1.1078211337297057,\n",
              " 0.7718249069578178,\n",
              " 1.2473547319264644,\n",
              " 1.2473547319264644]"
            ]
          },
          "metadata": {},
          "execution_count": 26
        }
      ]
    },
    {
      "cell_type": "markdown",
      "source": [
        "#### XGBoost(optuna based)"
      ],
      "metadata": {
        "id": "hyi0DTi0ZDqz"
      }
    },
    {
      "cell_type": "code",
      "source": [
        "!pip install xgboost"
      ],
      "metadata": {
        "colab": {
          "base_uri": "https://localhost:8080/"
        },
        "id": "wx2UyXblbFDt",
        "outputId": "4f900383-477d-4415-8907-b03327754eaf"
      },
      "execution_count": null,
      "outputs": [
        {
          "output_type": "stream",
          "name": "stdout",
          "text": [
            "Looking in indexes: https://pypi.org/simple, https://us-python.pkg.dev/colab-wheels/public/simple/\n",
            "Requirement already satisfied: xgboost in /usr/local/lib/python3.10/dist-packages (1.7.5)\n",
            "Requirement already satisfied: numpy in /usr/local/lib/python3.10/dist-packages (from xgboost) (1.22.4)\n",
            "Requirement already satisfied: scipy in /usr/local/lib/python3.10/dist-packages (from xgboost) (1.10.1)\n"
          ]
        }
      ]
    },
    {
      "cell_type": "code",
      "source": [
        "import xgboost as xgb\n",
        "from xgboost import XGBClassifier\n",
        "\n",
        "model = XGBClassifier(random_state=1004, n_estimators=8228, max_depth=12,\n",
        "                      min_child_weight=1, gamma=3, learning_rate=0.0001,\n",
        "                      colsample_bytree=1.0, reg_lambda=0.767800554, \n",
        "                      reg_alpha=0.01232, subsample=0.6)\n",
        "\n",
        "model.fit(X_train, y_train, sample_weight=train_sample_weight)"
      ],
      "metadata": {
        "id": "L8nbh-ZCZBfb"
      },
      "execution_count": null,
      "outputs": []
    },
    {
      "cell_type": "markdown",
      "source": [
        "#### Predict"
      ],
      "metadata": {
        "id": "roikpthhb-LG"
      }
    },
    {
      "cell_type": "code",
      "source": [
        "preds = model.predict(test)"
      ],
      "metadata": {
        "id": "dX-rf2sYayS9"
      },
      "execution_count": null,
      "outputs": []
    },
    {
      "cell_type": "code",
      "source": [
        "submit = pd.read_csv('/content/sample_submission.csv')\n",
        "\n",
        "submit['TARGET'] = preds\n",
        "submit.head()"
      ],
      "metadata": {
        "id": "nenZTzqUcmlh"
      },
      "execution_count": null,
      "outputs": []
    },
    {
      "cell_type": "code",
      "source": [
        "submit.to_csv('crime_submit_xgb.csv', index=False)"
      ],
      "metadata": {
        "id": "4a2SZo-xc0yp"
      },
      "execution_count": null,
      "outputs": []
    },
    {
      "cell_type": "markdown",
      "source": [
        "#### optuna 시각화"
      ],
      "metadata": {
        "id": "m0OMfIwq7nbe"
      }
    },
    {
      "cell_type": "code",
      "source": [],
      "metadata": {
        "id": "ybl7FYN17pnY"
      },
      "execution_count": null,
      "outputs": []
    }
  ]
}