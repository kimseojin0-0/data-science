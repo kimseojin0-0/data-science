{
  "nbformat": 4,
  "nbformat_minor": 0,
  "metadata": {
    "colab": {
      "provenance": [],
      "toc_visible": true
    },
    "kernelspec": {
      "name": "python3",
      "display_name": "Python 3"
    },
    "language_info": {
      "name": "python"
    }
  },
  "cells": [
    {
      "cell_type": "markdown",
      "source": [
        "#### 캐글 신용카드 사기 검출\n",
        "\n",
        "- https://www.kaggle.com/datasets/mlg-ulb/creditcardfraud\n",
        "\n",
        "- 이 데이터셋의 레이블 class 속성은 매우 불균형한 분포를 가짐\n",
        "\n",
        "- class는 0이 정상 거래, 1이 사기 거래\n",
        "\n",
        "- 전체 데이터의 0.172%만이 사기 거래인 1임"
      ],
      "metadata": {
        "id": "IuAjGc-wh1xW"
      }
    },
    {
      "cell_type": "markdown",
      "source": [
        "##### 언더 샘플링과 오버 샘플링의 이해\n",
        "\n",
        "- 이상 레이블보다 정상 레이블 수가 매우 많이 때문에 일방적으로 정상 레이블로 치우친 학습을 수행하게돼서 이상 데이터 검출이 어려움\n",
        "\n",
        "<적절한 학습 데이터를 확보하는 방안>\n",
        "\n",
        "1. 오버 샘플링(Oversampling) >> 더 많이 사용\n",
        "\n",
        "- 적은 데이터셋을 증식시키는 것, 동일한 데이터를 단순히 증식시키면 과적합 위험이 있으므로 피처값을 약간만 변형시켜서 증식시킴\n",
        "\n",
        "- SMOTE: 적은 데이터셋의 개별 데이터들의 K최근접 이웃을 찾아서 해당 데이터와 K개 이웃의 차이를 일정값으로 만들어 약간만 차이나게 새로운 데이터를 생성하는 방식\n",
        "\n",
        "  imbalanced-learn 패키지\n",
        "\n",
        "2. 언더 샘플링(Undersampling)\n",
        "\n",
        "- 많은 데이터셋을 적은 데이터셋 수준으로 감소시키는 것\n",
        "\n",
        "  ex) 정상 1000개, 이상 100개 있으면 정상도 100개로 줄임\n"
      ],
      "metadata": {
        "id": "t4Jjz3aOiwzy"
      }
    },
    {
      "cell_type": "markdown",
      "source": [
        "##### 데이터 1차 가공 및 모델 학습, 예측, 평가"
      ],
      "metadata": {
        "id": "iNaeNe1UkVg9"
      }
    },
    {
      "cell_type": "code",
      "execution_count": 1,
      "metadata": {
        "colab": {
          "base_uri": "https://localhost:8080/",
          "height": 236
        },
        "id": "5hL2W1BJdOmW",
        "outputId": "b3d636ad-9920-4b5a-b20e-e1c3a9d2cc77"
      },
      "outputs": [
        {
          "output_type": "execute_result",
          "data": {
            "text/plain": [
              "   Time        V1        V2        V3        V4        V5        V6        V7  \\\n",
              "0   0.0 -1.359807 -0.072781  2.536347  1.378155 -0.338321  0.462388  0.239599   \n",
              "1   0.0  1.191857  0.266151  0.166480  0.448154  0.060018 -0.082361 -0.078803   \n",
              "2   1.0 -1.358354 -1.340163  1.773209  0.379780 -0.503198  1.800499  0.791461   \n",
              "\n",
              "         V8        V9  ...       V21       V22       V23       V24       V25  \\\n",
              "0  0.098698  0.363787  ... -0.018307  0.277838 -0.110474  0.066928  0.128539   \n",
              "1  0.085102 -0.255425  ... -0.225775 -0.638672  0.101288 -0.339846  0.167170   \n",
              "2  0.247676 -1.514654  ...  0.247998  0.771679  0.909412 -0.689281 -0.327642   \n",
              "\n",
              "        V26       V27       V28  Amount  Class  \n",
              "0 -0.189115  0.133558 -0.021053  149.62      0  \n",
              "1  0.125895 -0.008983  0.014724    2.69      0  \n",
              "2 -0.139097 -0.055353 -0.059752  378.66      0  \n",
              "\n",
              "[3 rows x 31 columns]"
            ],
            "text/html": [
              "\n",
              "  <div id=\"df-b96bd05c-6be9-4859-a93c-f58286746ffa\">\n",
              "    <div class=\"colab-df-container\">\n",
              "      <div>\n",
              "<style scoped>\n",
              "    .dataframe tbody tr th:only-of-type {\n",
              "        vertical-align: middle;\n",
              "    }\n",
              "\n",
              "    .dataframe tbody tr th {\n",
              "        vertical-align: top;\n",
              "    }\n",
              "\n",
              "    .dataframe thead th {\n",
              "        text-align: right;\n",
              "    }\n",
              "</style>\n",
              "<table border=\"1\" class=\"dataframe\">\n",
              "  <thead>\n",
              "    <tr style=\"text-align: right;\">\n",
              "      <th></th>\n",
              "      <th>Time</th>\n",
              "      <th>V1</th>\n",
              "      <th>V2</th>\n",
              "      <th>V3</th>\n",
              "      <th>V4</th>\n",
              "      <th>V5</th>\n",
              "      <th>V6</th>\n",
              "      <th>V7</th>\n",
              "      <th>V8</th>\n",
              "      <th>V9</th>\n",
              "      <th>...</th>\n",
              "      <th>V21</th>\n",
              "      <th>V22</th>\n",
              "      <th>V23</th>\n",
              "      <th>V24</th>\n",
              "      <th>V25</th>\n",
              "      <th>V26</th>\n",
              "      <th>V27</th>\n",
              "      <th>V28</th>\n",
              "      <th>Amount</th>\n",
              "      <th>Class</th>\n",
              "    </tr>\n",
              "  </thead>\n",
              "  <tbody>\n",
              "    <tr>\n",
              "      <th>0</th>\n",
              "      <td>0.0</td>\n",
              "      <td>-1.359807</td>\n",
              "      <td>-0.072781</td>\n",
              "      <td>2.536347</td>\n",
              "      <td>1.378155</td>\n",
              "      <td>-0.338321</td>\n",
              "      <td>0.462388</td>\n",
              "      <td>0.239599</td>\n",
              "      <td>0.098698</td>\n",
              "      <td>0.363787</td>\n",
              "      <td>...</td>\n",
              "      <td>-0.018307</td>\n",
              "      <td>0.277838</td>\n",
              "      <td>-0.110474</td>\n",
              "      <td>0.066928</td>\n",
              "      <td>0.128539</td>\n",
              "      <td>-0.189115</td>\n",
              "      <td>0.133558</td>\n",
              "      <td>-0.021053</td>\n",
              "      <td>149.62</td>\n",
              "      <td>0</td>\n",
              "    </tr>\n",
              "    <tr>\n",
              "      <th>1</th>\n",
              "      <td>0.0</td>\n",
              "      <td>1.191857</td>\n",
              "      <td>0.266151</td>\n",
              "      <td>0.166480</td>\n",
              "      <td>0.448154</td>\n",
              "      <td>0.060018</td>\n",
              "      <td>-0.082361</td>\n",
              "      <td>-0.078803</td>\n",
              "      <td>0.085102</td>\n",
              "      <td>-0.255425</td>\n",
              "      <td>...</td>\n",
              "      <td>-0.225775</td>\n",
              "      <td>-0.638672</td>\n",
              "      <td>0.101288</td>\n",
              "      <td>-0.339846</td>\n",
              "      <td>0.167170</td>\n",
              "      <td>0.125895</td>\n",
              "      <td>-0.008983</td>\n",
              "      <td>0.014724</td>\n",
              "      <td>2.69</td>\n",
              "      <td>0</td>\n",
              "    </tr>\n",
              "    <tr>\n",
              "      <th>2</th>\n",
              "      <td>1.0</td>\n",
              "      <td>-1.358354</td>\n",
              "      <td>-1.340163</td>\n",
              "      <td>1.773209</td>\n",
              "      <td>0.379780</td>\n",
              "      <td>-0.503198</td>\n",
              "      <td>1.800499</td>\n",
              "      <td>0.791461</td>\n",
              "      <td>0.247676</td>\n",
              "      <td>-1.514654</td>\n",
              "      <td>...</td>\n",
              "      <td>0.247998</td>\n",
              "      <td>0.771679</td>\n",
              "      <td>0.909412</td>\n",
              "      <td>-0.689281</td>\n",
              "      <td>-0.327642</td>\n",
              "      <td>-0.139097</td>\n",
              "      <td>-0.055353</td>\n",
              "      <td>-0.059752</td>\n",
              "      <td>378.66</td>\n",
              "      <td>0</td>\n",
              "    </tr>\n",
              "  </tbody>\n",
              "</table>\n",
              "<p>3 rows × 31 columns</p>\n",
              "</div>\n",
              "      <button class=\"colab-df-convert\" onclick=\"convertToInteractive('df-b96bd05c-6be9-4859-a93c-f58286746ffa')\"\n",
              "              title=\"Convert this dataframe to an interactive table.\"\n",
              "              style=\"display:none;\">\n",
              "        \n",
              "  <svg xmlns=\"http://www.w3.org/2000/svg\" height=\"24px\"viewBox=\"0 0 24 24\"\n",
              "       width=\"24px\">\n",
              "    <path d=\"M0 0h24v24H0V0z\" fill=\"none\"/>\n",
              "    <path d=\"M18.56 5.44l.94 2.06.94-2.06 2.06-.94-2.06-.94-.94-2.06-.94 2.06-2.06.94zm-11 1L8.5 8.5l.94-2.06 2.06-.94-2.06-.94L8.5 2.5l-.94 2.06-2.06.94zm10 10l.94 2.06.94-2.06 2.06-.94-2.06-.94-.94-2.06-.94 2.06-2.06.94z\"/><path d=\"M17.41 7.96l-1.37-1.37c-.4-.4-.92-.59-1.43-.59-.52 0-1.04.2-1.43.59L10.3 9.45l-7.72 7.72c-.78.78-.78 2.05 0 2.83L4 21.41c.39.39.9.59 1.41.59.51 0 1.02-.2 1.41-.59l7.78-7.78 2.81-2.81c.8-.78.8-2.07 0-2.86zM5.41 20L4 18.59l7.72-7.72 1.47 1.35L5.41 20z\"/>\n",
              "  </svg>\n",
              "      </button>\n",
              "      \n",
              "  <style>\n",
              "    .colab-df-container {\n",
              "      display:flex;\n",
              "      flex-wrap:wrap;\n",
              "      gap: 12px;\n",
              "    }\n",
              "\n",
              "    .colab-df-convert {\n",
              "      background-color: #E8F0FE;\n",
              "      border: none;\n",
              "      border-radius: 50%;\n",
              "      cursor: pointer;\n",
              "      display: none;\n",
              "      fill: #1967D2;\n",
              "      height: 32px;\n",
              "      padding: 0 0 0 0;\n",
              "      width: 32px;\n",
              "    }\n",
              "\n",
              "    .colab-df-convert:hover {\n",
              "      background-color: #E2EBFA;\n",
              "      box-shadow: 0px 1px 2px rgba(60, 64, 67, 0.3), 0px 1px 3px 1px rgba(60, 64, 67, 0.15);\n",
              "      fill: #174EA6;\n",
              "    }\n",
              "\n",
              "    [theme=dark] .colab-df-convert {\n",
              "      background-color: #3B4455;\n",
              "      fill: #D2E3FC;\n",
              "    }\n",
              "\n",
              "    [theme=dark] .colab-df-convert:hover {\n",
              "      background-color: #434B5C;\n",
              "      box-shadow: 0px 1px 3px 1px rgba(0, 0, 0, 0.15);\n",
              "      filter: drop-shadow(0px 1px 2px rgba(0, 0, 0, 0.3));\n",
              "      fill: #FFFFFF;\n",
              "    }\n",
              "  </style>\n",
              "\n",
              "      <script>\n",
              "        const buttonEl =\n",
              "          document.querySelector('#df-b96bd05c-6be9-4859-a93c-f58286746ffa button.colab-df-convert');\n",
              "        buttonEl.style.display =\n",
              "          google.colab.kernel.accessAllowed ? 'block' : 'none';\n",
              "\n",
              "        async function convertToInteractive(key) {\n",
              "          const element = document.querySelector('#df-b96bd05c-6be9-4859-a93c-f58286746ffa');\n",
              "          const dataTable =\n",
              "            await google.colab.kernel.invokeFunction('convertToInteractive',\n",
              "                                                     [key], {});\n",
              "          if (!dataTable) return;\n",
              "\n",
              "          const docLinkHtml = 'Like what you see? Visit the ' +\n",
              "            '<a target=\"_blank\" href=https://colab.research.google.com/notebooks/data_table.ipynb>data table notebook</a>'\n",
              "            + ' to learn more about interactive tables.';\n",
              "          element.innerHTML = '';\n",
              "          dataTable['output_type'] = 'display_data';\n",
              "          await google.colab.output.renderOutput(dataTable, element);\n",
              "          const docLink = document.createElement('div');\n",
              "          docLink.innerHTML = docLinkHtml;\n",
              "          element.appendChild(docLink);\n",
              "        }\n",
              "      </script>\n",
              "    </div>\n",
              "  </div>\n",
              "  "
            ]
          },
          "metadata": {},
          "execution_count": 1
        }
      ],
      "source": [
        "import pandas as pd\n",
        "import numpy as np\n",
        "import matplotlib.pyplot as plt\n",
        "\n",
        "card_df = pd.read_csv('/content/creditcard.csv')\n",
        "card_df.head(3)"
      ]
    },
    {
      "cell_type": "markdown",
      "source": [
        "- V로 시작하는 피처의 의미는 모름\n",
        "\n",
        "- time: 데이터 생성 관련 작업용 속성이라 의미없음 >> 제거\n",
        "\n",
        "- Amount: 신용카드 거래 금액"
      ],
      "metadata": {
        "id": "pMnlcBuEmW1H"
      }
    },
    {
      "cell_type": "code",
      "source": [
        "card_df.info()"
      ],
      "metadata": {
        "colab": {
          "base_uri": "https://localhost:8080/"
        },
        "id": "zKcCGucsmQvq",
        "outputId": "0b576446-fe09-402e-eea6-b3339418e905"
      },
      "execution_count": 2,
      "outputs": [
        {
          "output_type": "stream",
          "name": "stdout",
          "text": [
            "<class 'pandas.core.frame.DataFrame'>\n",
            "RangeIndex: 284807 entries, 0 to 284806\n",
            "Data columns (total 31 columns):\n",
            " #   Column  Non-Null Count   Dtype  \n",
            "---  ------  --------------   -----  \n",
            " 0   Time    284807 non-null  float64\n",
            " 1   V1      284807 non-null  float64\n",
            " 2   V2      284807 non-null  float64\n",
            " 3   V3      284807 non-null  float64\n",
            " 4   V4      284807 non-null  float64\n",
            " 5   V5      284807 non-null  float64\n",
            " 6   V6      284807 non-null  float64\n",
            " 7   V7      284807 non-null  float64\n",
            " 8   V8      284807 non-null  float64\n",
            " 9   V9      284807 non-null  float64\n",
            " 10  V10     284807 non-null  float64\n",
            " 11  V11     284807 non-null  float64\n",
            " 12  V12     284807 non-null  float64\n",
            " 13  V13     284807 non-null  float64\n",
            " 14  V14     284807 non-null  float64\n",
            " 15  V15     284807 non-null  float64\n",
            " 16  V16     284807 non-null  float64\n",
            " 17  V17     284807 non-null  float64\n",
            " 18  V18     284807 non-null  float64\n",
            " 19  V19     284807 non-null  float64\n",
            " 20  V20     284807 non-null  float64\n",
            " 21  V21     284807 non-null  float64\n",
            " 22  V22     284807 non-null  float64\n",
            " 23  V23     284807 non-null  float64\n",
            " 24  V24     284807 non-null  float64\n",
            " 25  V25     284807 non-null  float64\n",
            " 26  V26     284807 non-null  float64\n",
            " 27  V27     284807 non-null  float64\n",
            " 28  V28     284807 non-null  float64\n",
            " 29  Amount  284807 non-null  float64\n",
            " 30  Class   284807 non-null  int64  \n",
            "dtypes: float64(30), int64(1)\n",
            "memory usage: 67.4 MB\n"
          ]
        }
      ]
    },
    {
      "cell_type": "markdown",
      "source": [
        "- 결측치 없고 Class 레이블만 int형"
      ],
      "metadata": {
        "id": "jAlDJnp7nI9J"
      }
    },
    {
      "cell_type": "markdown",
      "source": [
        "- 다양한 데이터 가공을 해보기 위해 DataFrame을 복사하고 이를 가공하여 반환하는 함수를 생성하자\n",
        "\n",
        "- 그리고 불필요한 time 피처만 삭제하는 함수도 생성"
      ],
      "metadata": {
        "id": "H8e9WMgonukS"
      }
    },
    {
      "cell_type": "code",
      "source": [
        "from sklearn.model_selection import train_test_split\n",
        "\n",
        "def get_preprocessed_df(df=None):\n",
        "  df_copy = df.copy()\n",
        "  df_copy.drop('Time', axis=1, inplace=True)\n",
        "  return df_copy"
      ],
      "metadata": {
        "id": "kz5WJiu7nFUq"
      },
      "execution_count": 3,
      "outputs": []
    },
    {
      "cell_type": "markdown",
      "source": [
        "det_train_test_dataset 함수는 get_preprocessed_df를 호출하고 내부에서 train_test_split 함수를 호출함\n",
        "\n",
        "테스트데이터셋을 전체의 30%인 stratified 방식으로 추출해 학습, 테스트데이터셋 간의 분포를 동일하게 만들어줌"
      ],
      "metadata": {
        "id": "3cioFJBloD_1"
      }
    },
    {
      "cell_type": "code",
      "source": [
        "def get_train_test_dataset(df=None):\n",
        "  df_copy = get_preprocessed_df(df)\n",
        "  X_features = df_copy.iloc[:, :-1]\n",
        "  y_target = df_copy.iloc[:, -1]\n",
        "  X_train, X_test, y_train, y_test = train_test_split(X_features, y_target, test_size=0.3, random_state=0, stratify=y_target)\n",
        "\n",
        "  return X_train, X_test, y_train, y_test\n",
        "\n",
        "X_train, X_test, y_train, y_test = get_train_test_dataset(card_df)"
      ],
      "metadata": {
        "id": "z8zRX7zpnsol"
      },
      "execution_count": 23,
      "outputs": []
    },
    {
      "cell_type": "code",
      "source": [
        "print('학습 데이터 레이블 값 비율')\n",
        "print(y_train.value_counts()/y_train.shape[0] * 100)\n",
        "print('테스트 데이터 레이블 값 비율')\n",
        "print(y_test.value_counts()/y_test.shape[0] * 100)"
      ],
      "metadata": {
        "colab": {
          "base_uri": "https://localhost:8080/"
        },
        "id": "ULOKOxmXpUTR",
        "outputId": "d15dadaa-f503-4588-a6b2-0b014edffc50"
      },
      "execution_count": 5,
      "outputs": [
        {
          "output_type": "stream",
          "name": "stdout",
          "text": [
            "학습 데이터 레이블 값 비율\n",
            "0    99.827451\n",
            "1     0.172549\n",
            "Name: Class, dtype: float64\n",
            "테스트 데이터 레이블 값 비율\n",
            "0    99.826785\n",
            "1     0.173215\n",
            "Name: Class, dtype: float64\n"
          ]
        }
      ]
    },
    {
      "cell_type": "markdown",
      "source": [
        "- 큰 차이없이 잘 분할됌"
      ],
      "metadata": {
        "id": "M5y-J46qq2IH"
      }
    },
    {
      "cell_type": "markdown",
      "source": [
        "###### 로지스틱 회귀"
      ],
      "metadata": {
        "id": "_b3i-DPqrD1J"
      }
    },
    {
      "cell_type": "code",
      "source": [
        "from sklearn.metrics import accuracy_score, precision_score, recall_score, roc_auc_score\n",
        "from sklearn.metrics import f1_score, confusion_matrix, precision_recall_curve, roc_curve\n",
        "\n",
        "def get_clf_eval(y_test, pred, pred_proba):\n",
        "    confusion = confusion_matrix(y_test, pred)\n",
        "    accuracy = accuracy_score(y_test, pred)\n",
        "    precision = precision_score(y_test, pred)\n",
        "    recall = recall_score(y_test, pred)\n",
        "    f1 = f1_score(y_test, pred)\n",
        "    roc_auc = roc_auc_score(y_test, pred_proba)\n",
        "    print('오차 행렬')\n",
        "    print(confusion)\n",
        "    print('정확도: {0:.4f}, 정밀도: {1:.4f}, 재현율: {2:.4f}, F1:{3:.4f}, AUC: {4:.4f}'.format(accuracy, precision, recall, f1, roc_auc))"
      ],
      "metadata": {
        "id": "kN_IEdwHrtQi"
      },
      "execution_count": 6,
      "outputs": []
    },
    {
      "cell_type": "code",
      "source": [
        "from sklearn.linear_model import LogisticRegression\n",
        "\n",
        "lr_clf = LogisticRegression(max_iter=1000)\n",
        "lr_clf.fit(X_train, y_train)\n",
        "lr_pred = lr_clf.predict(X_test)\n",
        "lr_pred_proba = lr_clf.predict_proba(X_test)[:, 1]\n",
        "\n",
        "get_clf_eval(y_test, lr_pred, lr_pred_proba)"
      ],
      "metadata": {
        "colab": {
          "base_uri": "https://localhost:8080/"
        },
        "id": "_YIKKgt7qx6m",
        "outputId": "b76e0d4b-c56d-4c4a-dcc8-f1d14759a023"
      },
      "execution_count": 7,
      "outputs": [
        {
          "output_type": "stream",
          "name": "stdout",
          "text": [
            "오차 행렬\n",
            "[[85281    14]\n",
            " [   57    91]]\n",
            "정확도: 0.9992, 정밀도: 0.8667, 재현율: 0.6149, F1:0.7194, AUC: 0.9704\n"
          ]
        }
      ]
    },
    {
      "cell_type": "markdown",
      "source": [
        "###### LightGBM\n",
        "\n",
        "- 앞으로 수행할 코드에서 반복적으로 모델을 변경할 것이므로 이를 위한 별도의 함수를 생성하자"
      ],
      "metadata": {
        "id": "SlOKHBHgsQZr"
      }
    },
    {
      "cell_type": "code",
      "source": [
        "def get_model_train_eval(model, ftr_train=None, ftr_test=None, tgt_train=None, tgt_test=None):\n",
        "  model.fit(ftr_train, tgt_train)\n",
        "  pred = model.predict(ftr_test)\n",
        "  pred_proba = model.predict_proba(ftr_test)[:, 1]\n",
        "  get_clf_eval(tgt_test, pred, pred_proba)"
      ],
      "metadata": {
        "id": "Clyxb7crrzZO"
      },
      "execution_count": 8,
      "outputs": []
    },
    {
      "cell_type": "markdown",
      "source": [
        "- 이 데이터는 극도로 불균형한 레이블 분포를 가지고 있으므로 LightGBMClassifier에 boost_from_average=False라는 파라미터를 설정해야함"
      ],
      "metadata": {
        "id": "_J8SvXfdtApy"
      }
    },
    {
      "cell_type": "code",
      "source": [
        "from lightgbm import LGBMClassifier\n",
        "\n",
        "lgbm_clf = LGBMClassifier(n_estimators=1000, num_leaves=64, n_jobs=-1,  boost_from_average=False)\n",
        "\n",
        "get_model_train_eval(lgbm_clf, ftr_train=X_train, ftr_test=X_test, tgt_train=y_train, tgt_test=y_test)"
      ],
      "metadata": {
        "colab": {
          "base_uri": "https://localhost:8080/"
        },
        "id": "qRM1E45ds-Yz",
        "outputId": "5b9d5545-5a99-43d1-bffa-c53e15720ea6"
      },
      "execution_count": 9,
      "outputs": [
        {
          "output_type": "stream",
          "name": "stdout",
          "text": [
            "오차 행렬\n",
            "[[85290     5]\n",
            " [   36   112]]\n",
            "정확도: 0.9995, 정밀도: 0.9573, 재현율: 0.7568, F1:0.8453, AUC: 0.9790\n"
          ]
        }
      ]
    },
    {
      "cell_type": "markdown",
      "source": [
        "- 로지스틱 회귀보다는 높은 재현율을 나타냄"
      ],
      "metadata": {
        "id": "DVO_Kt3bvTB2"
      }
    },
    {
      "cell_type": "markdown",
      "source": [
        "##### 데이터 분포도 변환 후 모델 학습, 예측, 평가\n",
        "\n",
        "- 데이터를 재가공해보고 다시 모델을 테스트해보자\n",
        "\n",
        "중요 피처값의 분포도를 살펴보기"
      ],
      "metadata": {
        "id": "wrNsIEfvvmBZ"
      }
    },
    {
      "cell_type": "code",
      "source": [
        "import seaborn as sns\n",
        "\n",
        "plt.figure(figsize=(8,4))\n",
        "plt.xticks(range(0, 30000, 1000), rotation=60)\n",
        "sns.histplot(card_df['Amount'], bins=100, kde=True)\n",
        "plt.show()"
      ],
      "metadata": {
        "colab": {
          "base_uri": "https://localhost:8080/",
          "height": 419
        },
        "id": "oLYII9s9vKkp",
        "outputId": "8217889a-be5b-49a4-93e4-047833c1076e"
      },
      "execution_count": 10,
      "outputs": [
        {
          "output_type": "display_data",
          "data": {
            "text/plain": [
              "<Figure size 800x400 with 1 Axes>"
            ],
            "image/png": "[encoded data removed]"
          },
          "metadata": {}
        }
      ]
    },
    {
      "cell_type": "markdown",
      "source": [
        "카드 사용 금액이 1000불 이하인 데이터가 대부분임\n",
        "\n",
        "드물지만 26000불까지 많은 금액을 사용한 경우가 있음\n"
      ],
      "metadata": {
        "id": "uDrlEnOCw1D-"
      }
    },
    {
      "cell_type": "markdown",
      "source": [
        "-  StandardScaler를 이용하여 Amount 피처값을 표준정규분포 형태로 변환하자"
      ],
      "metadata": {
        "id": "mCgYHhNKxqi8"
      }
    },
    {
      "cell_type": "code",
      "source": [
        "from sklearn.preprocessing import StandardScaler\n",
        "\n",
        "def get_preprocessed_df(df=None):\n",
        "  df_copy = df.copy()\n",
        "  scaler= StandardScaler()\n",
        "  amount_n = scaler.fit_transform(df_copy['Amount'].values.reshape(-1, 1))\n",
        "  df_copy.insert(0, 'Amount_Scaled', amount_n)\n",
        "  df_copy.drop(['Time', 'Amount'], axis=1, inplace=True)\n",
        "  return df_copy"
      ],
      "metadata": {
        "id": "aDA55Kk6wTrW"
      },
      "execution_count": 29,
      "outputs": []
    },
    {
      "cell_type": "code",
      "source": [
        "X_train, X_test, y_train, y_test = get_train_test_dataset(card_df)\n",
        "\n",
        "print('## 로지스틱 회귀 예측 성능 ##')\n",
        "lr_clf = LogisticRegression(max_iter=1000)\n",
        "get_model_train_eval(lr_clf, ftr_train=X_train, ftr_test=X_test, tgt_train=y_train, tgt_test=y_test)\n",
        "\n",
        "print('## LightGBM 예측 성능 ##')\n",
        "lgbm_clf = LGBMClassifier(n_estimators=1000, num_leaves=64, n_jobs=-1, boost_from_average=False)\n",
        "get_model_train_eval(lgbm_clf, ftr_train=X_train, ftr_test=X_test, tgt_train=y_train, tgt_test=y_test)"
      ],
      "metadata": {
        "colab": {
          "base_uri": "https://localhost:8080/"
        },
        "id": "pdQJjX8uydFJ",
        "outputId": "e72bd0bb-7fa1-4c2f-9566-77d9e114419a"
      },
      "execution_count": 30,
      "outputs": [
        {
          "output_type": "stream",
          "name": "stdout",
          "text": [
            "## 로지스틱 회귀 예측 성능 ##\n",
            "오차 행렬\n",
            "[[85281    14]\n",
            " [   58    90]]\n",
            "정확도: 0.9992, 정밀도: 0.8654, 재현율: 0.6081, F1:0.7143, AUC: 0.9702\n",
            "## LightGBM 예측 성능 ##\n",
            "오차 행렬\n",
            "[[85290     5]\n",
            " [   37   111]]\n",
            "정확도: 0.9995, 정밀도: 0.9569, 재현율: 0.7500, F1:0.8409, AUC: 0.9779\n"
          ]
        }
      ]
    },
    {
      "cell_type": "markdown",
      "source": [
        "로지스틱 회귀는 정밀도, 재현율이 오히려 좀 떨어졌고\n",
        "LightGBM도 약간 떨어졌지만 성능상의 변경은 크게 없음"
      ],
      "metadata": {
        "id": "z3hDJ1U32E_6"
      }
    },
    {
      "cell_type": "markdown",
      "source": [
        "- 로그 변환을 사용하여 데이터 분포도 왜곡을 개선해보자 >> numpy log1p()함수를 이용 "
      ],
      "metadata": {
        "id": "aOFBWDO40R1F"
      }
    },
    {
      "cell_type": "code",
      "source": [
        "def get_preprocessed_df(df=None):\n",
        "  df_copy = df.copy()\n",
        "  amount_n = np.log1p(df_copy['Amount'])\n",
        "  df_copy.insert(0, 'Amount_Scaled', amount_n)\n",
        "  df_copy.drop(['Time', 'Amount'], axis=1, inplace=True)\n",
        "  return df_copy"
      ],
      "metadata": {
        "id": "fw-I5ktrzVSz"
      },
      "execution_count": 24,
      "outputs": []
    },
    {
      "cell_type": "code",
      "source": [
        "X_train, X_test, y_train, y_test = get_train_test_dataset(card_df)\n",
        "\n",
        "print('## 로지스틱 회귀 예측 성능 ##')\n",
        "get_model_train_eval(lr_clf, ftr_train=X_train, ftr_test=X_test, tgt_train=y_train, tgt_test=y_test)\n",
        "\n",
        "print('## LightGBM 예측 성능 ##')\n",
        "get_model_train_eval(lgbm_clf, ftr_train=X_train, ftr_test=X_test, tgt_train=y_train, tgt_test=y_test)"
      ],
      "metadata": {
        "colab": {
          "base_uri": "https://localhost:8080/"
        },
        "id": "Lo5DBele1lby",
        "outputId": "57be0eb0-a83e-41a3-819c-77a53fd71d2c"
      },
      "execution_count": 25,
      "outputs": [
        {
          "output_type": "stream",
          "name": "stdout",
          "text": [
            "## 로지스틱 회귀 예측 성능 ##\n",
            "오차 행렬\n",
            "[[85283    12]\n",
            " [   59    89]]\n",
            "정확도: 0.9992, 정밀도: 0.8812, 재현율: 0.6014, F1:0.7149, AUC: 0.9727\n",
            "## LightGBM 예측 성능 ##\n",
            "오차 행렬\n",
            "[[85290     5]\n",
            " [   35   113]]\n",
            "정확도: 0.9995, 정밀도: 0.9576, 재현율: 0.7635, F1:0.8496, AUC: 0.9796\n"
          ]
        }
      ]
    },
    {
      "cell_type": "markdown",
      "source": [
        "로지스틱 회귀은 재현율이 떨어짐\n",
        "\n",
        "LightGBM은 재현율이 올라감"
      ],
      "metadata": {
        "id": "jFWHK1bQ2TYP"
      }
    },
    {
      "cell_type": "markdown",
      "source": [
        "> 레이블이 극도로 불균일한 데이터셋에서 로지스틱 회귀는 데이터 변환시 불안정함"
      ],
      "metadata": {
        "id": "Qt3PqK8y10YX"
      }
    },
    {
      "cell_type": "markdown",
      "source": [
        "##### 이상치 제거 후 모델 학습, 예측, 평가"
      ],
      "metadata": {
        "id": "Bf__B8cM2cqS"
      }
    },
    {
      "cell_type": "markdown",
      "source": [
        "- 이상치를 찾는 방법\n",
        " \n",
        " IQR 방식: 사분위값의 편차를 이용하는 기법으로 Box Plot으로 시각화할 수 있음\n",
        "\n",
        " Q1 - IQR * 1.5 <= x <= Q3 + IQR * 1.5 를 벗어나면 이상치로 간주"
      ],
      "metadata": {
        "id": "BUd925832l58"
      }
    },
    {
      "cell_type": "markdown",
      "source": [
        "- 어떤 피처의 이상치 데이터를 검출할 것인지 선택해야함\n",
        "  \n",
        "  → 결정값과 가장 상관성이 높은 피처 위주로"
      ],
      "metadata": {
        "id": "NmXdmZzdXkRK"
      }
    },
    {
      "cell_type": "code",
      "source": [
        "import seaborn as sns\n",
        "\n",
        "plt.figure(figsize=(9,9))\n",
        "corr = card_df.corr()\n",
        "sns.heatmap(corr, cmap='RdBu')"
      ],
      "metadata": {
        "colab": {
          "base_uri": "https://localhost:8080/",
          "height": 817
        },
        "id": "VFc1sj6p1vMa",
        "outputId": "4874b412-8cf6-4225-a0a3-f42d95ddc8cd"
      },
      "execution_count": 17,
      "outputs": [
        {
          "output_type": "execute_result",
          "data": {
            "text/plain": [
              "<Axes: >"
            ]
          },
          "metadata": {},
          "execution_count": 17
        },
        {
          "output_type": "display_data",
          "data": {
            "text/plain": [
              "<Figure size 900x900 with 2 Axes>"
            ],
            "image/png": "[encoded data removed]"
          },
          "metadata": {}
        }
      ]
    },
    {
      "cell_type": "markdown",
      "source": [
        "- class와 상관이 높은 피처는 V14, V17이다.\n",
        "\n",
        "- 이중에서 V14만 이상치를 찾아서 제거해보자\n",
        "\n",
        "- 이상치를 반환하는 함수 생성"
      ],
      "metadata": {
        "id": "PN7A6oF0YTuy"
      }
    },
    {
      "cell_type": "code",
      "source": [
        "from dask.dataframe.core import quantile\n",
        "import numpy as np\n",
        "\n",
        "def get_outlier(df=None, column=None, weight=1.5):\n",
        "\n",
        "  #fraud에 해당하는 칼럼데이터만 추출, 1/4분위와 3/4분위 지점을 np.percentile로 구함\n",
        "  fraud = df[df['Class']==1][column]\n",
        "  quantile_25 = np.percentile(fraud.values, 25)\n",
        "  quantile_75 = np.percentile(fraud.values, 75)\n",
        "\n",
        "  iqr = quantile_75 - quantile_25\n",
        "  iqr_weight = iqr * weight\n",
        "  lowest_val = quantile_25 - iqr_weight\n",
        "  highest_val = quantile_75 + iqr_weight\n",
        "\n",
        "  outlier_index = fraud[(fraud < lowest_val) | (fraud > highest_val)].index\n",
        "\n",
        "  return outlier_index"
      ],
      "metadata": {
        "id": "V2jtOI6gX_bB"
      },
      "execution_count": 26,
      "outputs": []
    },
    {
      "cell_type": "code",
      "source": [
        "outlier_index = get_outlier(df=card_df, column='V14', weight=1.5)\n",
        "print('이상치 데이터 인덱스:', outlier_index)"
      ],
      "metadata": {
        "colab": {
          "base_uri": "https://localhost:8080/"
        },
        "id": "Vi2ryYJGZuPY",
        "outputId": "e20ab3f2-55e8-406b-ff70-d272da30dfdf"
      },
      "execution_count": 27,
      "outputs": [
        {
          "output_type": "stream",
          "name": "stdout",
          "text": [
            "이상치 데이터 인덱스: Int64Index([8296, 8615, 9035, 9252], dtype='int64')\n"
          ]
        }
      ]
    },
    {
      "cell_type": "markdown",
      "source": [
        "- 이상치를 삭제하는 로직을 get_processed_df함수에 추가하기"
      ],
      "metadata": {
        "id": "mNhQShk4YThE"
      }
    },
    {
      "cell_type": "markdown",
      "source": [
        "책이랑 결과 다르게 나옴"
      ],
      "metadata": {
        "id": "U5fYhjpfrEck"
      }
    },
    {
      "cell_type": "code",
      "source": [
        "def get_processed_df(df=None):\n",
        "  df_copy = df.copy()\n",
        "  amount_n = np.log1p(df_copy['Amount'])\n",
        "  df_copy.insert(0, 'Amount Scaled', amount_n)\n",
        "  df_copy.drop(['Time', 'Amount'], axis=1, inplace=True)\n",
        "\n",
        "  #이상치 데이터 삭제하는 로직 추가\n",
        "  outlier_index = get_outlier(df=df_copy, column='V14', weight=1.5)\n",
        "  df_copy.drop(outlier_index, axis=0, inplace=True)\n",
        "  return df_copy\n",
        "\n",
        "X_train, X_test, y_train, y_test = get_train_test_dataset(card_df)\n",
        "print('## 로지스틱 회귀 예측 성능 ##')\n",
        "get_model_train_eval(lr_clf, ftr_train=X_train, ftr_test=X_test, tgt_train=y_train, tgt_test=y_test)\n",
        "print('##  LightGBM 예측 성능 ##')\n",
        "get_model_train_eval(lgbm_clf, ftr_train=X_train, ftr_test=X_test, tgt_train=y_train, tgt_test=y_test)"
      ],
      "metadata": {
        "colab": {
          "base_uri": "https://localhost:8080/"
        },
        "id": "y7LeZGJ-aXxk",
        "outputId": "8ed92204-546a-4de5-e7a7-821eb0677025"
      },
      "execution_count": 28,
      "outputs": [
        {
          "output_type": "stream",
          "name": "stdout",
          "text": [
            "## 로지스틱 회귀 예측 성능 ##\n",
            "오차 행렬\n",
            "[[85283    12]\n",
            " [   59    89]]\n",
            "정확도: 0.9992, 정밀도: 0.8812, 재현율: 0.6014, F1:0.7149, AUC: 0.9727\n",
            "##  LightGBM 예측 성능 ##\n",
            "오차 행렬\n",
            "[[85290     5]\n",
            " [   35   113]]\n",
            "정확도: 0.9995, 정밀도: 0.9576, 재현율: 0.7635, F1:0.8496, AUC: 0.9796\n"
          ]
        }
      ]
    },
    {
      "cell_type": "markdown",
      "source": [
        "##### SMOTE 오버 샘플링 적용 후 모델 학습, 예측, 평가\n",
        "\n",
        "- 반드시 학습데이터셋만 오버 샘플링해야 함"
      ],
      "metadata": {
        "id": "1SCEFok3rMLO"
      }
    },
    {
      "cell_type": "code",
      "source": [
        "from imblearn.over_sampling import SMOTE\n",
        "\n",
        "smote = SMOTE(random_state=0)\n",
        "X_train_over, y_train_over = smote.fit_resample(X_train, y_train)\n",
        "print('SMOTE 적용 전 학습용 피처/레이블 데이터셋:', X_train.shape, y_train.shape)\n",
        "print('SMOTE 적용 후 학습용 피처/레이블 데이터셋:', X_train_over.shape, y_train_over.shape)\n",
        "print('SMOTE 적용 후 레이블값 분포: \\n', pd.Series(y_train_over).value_counts())"
      ],
      "metadata": {
        "colab": {
          "base_uri": "https://localhost:8080/"
        },
        "id": "Qejv8MfsgVIZ",
        "outputId": "607bc73d-c0be-45be-e2e7-ca12f19f8503"
      },
      "execution_count": 32,
      "outputs": [
        {
          "output_type": "stream",
          "name": "stdout",
          "text": [
            "SMOTE 적용 전 학습용 피처/레이블 데이터셋: (199364, 29) (199364,)\n",
            "SMOTE 적용 후 학습용 피처/레이블 데이터셋: (398040, 29) (398040,)\n",
            "SMOTE 적용 후 레이블값 분포: \n",
            " 0    199020\n",
            "1    199020\n",
            "Name: Class, dtype: int64\n"
          ]
        }
      ]
    },
    {
      "cell_type": "markdown",
      "source": [
        "학습용데이터가 증식됐고 적용 후 레이블값 분포도 동일하게 생성됌"
      ],
      "metadata": {
        "id": "owAH3J6fs0AQ"
      }
    },
    {
      "cell_type": "markdown",
      "source": [
        "- 로지스틱 회귀"
      ],
      "metadata": {
        "id": "2pmLT_oMwpaV"
      }
    },
    {
      "cell_type": "code",
      "source": [
        "lr_clf = LogisticRegression(max_iter=1000)\n",
        "get_model_train_eval(lr_clf, ftr_train=X_train_over, ftr_test=X_test, tgt_train=y_train_over, tgt_test=y_test)"
      ],
      "metadata": {
        "colab": {
          "base_uri": "https://localhost:8080/"
        },
        "id": "J6ImmFlsrnZW",
        "outputId": "dde17089-1df5-490c-80f9-477c379b107b"
      },
      "execution_count": 33,
      "outputs": [
        {
          "output_type": "stream",
          "name": "stdout",
          "text": [
            "오차 행렬\n",
            "[[83315  1980]\n",
            " [   15   133]]\n",
            "정확도: 0.9767, 정밀도: 0.0629, 재현율: 0.8986, F1:0.1176, AUC: 0.9796\n"
          ]
        }
      ]
    },
    {
      "cell_type": "markdown",
      "source": [
        "로지스틱 회귀의 경우 재현율이 크게 증가하지만 정밀도는 급격하게 저하된다\n",
        "\n",
        "→ 오버샘플링으로 인해 실제 원본보다 너무 많은 Class=1 데이터를 학습하면서 실제 테스트 데이터에 예측을 지나치게 1로 해버렸기 때문"
      ],
      "metadata": {
        "id": "9sp5FgaFtVz_"
      }
    },
    {
      "cell_type": "markdown",
      "source": [
        "- 정밀도와 재현율 곡선으로 어떤 문제가 있는지 살펴보자"
      ],
      "metadata": {
        "id": "PZwoA6U0t0Tk"
      }
    },
    {
      "cell_type": "code",
      "source": [
        "def precision_recall_curve_plot(y_test, pred_proba_c1):\n",
        "    precisions, recalls, thresholds = precision_recall_curve(y_test, pred_proba_c1)\n",
        "    \n",
        "    plt.figure(figsize=(8,6))\n",
        "    plt.style.use('fivethirtyeight')\n",
        "    threshold_boundary = thresholds.shape[0]\n",
        "    plt.plot(thresholds, precisions[0:threshold_boundary], linestyle='--', label='precision')\n",
        "    plt.plot(thresholds, recalls[0:threshold_boundary], label='recall')\n",
        "    \n",
        "    start, end = plt.xlim()\n",
        "    plt.xticks(np.round(np.arange(start, end, 0.1), 2))\n",
        "    \n",
        "    plt.xlabel('Threshold value')\n",
        "    plt.ylabel('Precision and Recall value')\n",
        "    plt.legend()\n",
        "    plt.grid\n",
        "    plt.show()\n",
        "    \n",
        "precision_recall_curve_plot( y_test, lr_clf.predict_proba(X_test)[:, 1])"
      ],
      "metadata": {
        "colab": {
          "base_uri": "https://localhost:8080/",
          "height": 551
        },
        "id": "NlLiCBD_tVFA",
        "outputId": "86df21e1-5541-4f53-ed81-950b78c2d7f9"
      },
      "execution_count": 39,
      "outputs": [
        {
          "output_type": "display_data",
          "data": {
            "text/plain": [
              "<Figure size 800x600 with 1 Axes>"
            ],
            "image/png": "[encoded data removed]"
          },
          "metadata": {}
        }
      ]
    },
    {
      "cell_type": "markdown",
      "source": [
        "임계값 0.99이하에선 재현율이 매우 좋고 정밀도가 매우 낮다가 0.99이상에선 반대로 나타난다\n",
        "\n",
        "임계값의 민감도가 너무 심해 올바른 재현율/정밀도 성능을 얻을 수 없음"
      ],
      "metadata": {
        "id": "QyOaXaU6wVWt"
      }
    },
    {
      "cell_type": "markdown",
      "source": [
        "- LightGBM"
      ],
      "metadata": {
        "id": "aGn0zLB4wsPf"
      }
    },
    {
      "cell_type": "code",
      "source": [
        "lgbm_clf = LGBMClassifier(n_estimators=1000, num_leaves=64, n_jobs=-1, boost_from_average=False)\n",
        "get_model_train_eval(lgbm_clf, ftr_train=X_train_over, ftr_test=X_test, tgt_train=y_train_over, tgt_test=y_test)"
      ],
      "metadata": {
        "colab": {
          "base_uri": "https://localhost:8080/"
        },
        "id": "CsW8mwOjwMUX",
        "outputId": "0c29b98c-d2cf-40e1-d3bb-e66975251282"
      },
      "execution_count": 41,
      "outputs": [
        {
          "output_type": "stream",
          "name": "stdout",
          "text": [
            "오차 행렬\n",
            "[[85284    11]\n",
            " [   32   116]]\n",
            "정확도: 0.9995, 정밀도: 0.9134, 재현율: 0.7838, F1:0.8436, AUC: 0.9761\n"
          ]
        }
      ]
    },
    {
      "cell_type": "markdown",
      "source": [
        "이상치만 제거했을 때보다 재현율이 높아졌으나 정밀도는 낮아짐\n",
        "\n",
        "!! SMOTE를 적용하면 재현율 높아지고 정밀도 낮아지는게 일반적임\n",
        "\n",
        "따라서, 정밀도보다는 '재현율' 지표를 높이는게 주 목적일 때 쓰는게 좋음"
      ],
      "metadata": {
        "id": "fwN4j89Ow6xi"
      }
    },
    {
      "cell_type": "code",
      "source": [],
      "metadata": {
        "id": "qURCov9Jw12q"
      },
      "execution_count": null,
      "outputs": []
    }
  ]
}