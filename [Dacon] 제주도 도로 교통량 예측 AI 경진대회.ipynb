{
 "cells": [
  {
   "cell_type": "markdown",
   "id": "7138ef03",
   "metadata": {},
   "source": [
    "### 제주도 도로 교통량 예측 AI 경진대회\n",
    "\n",
    "- https://dacon.io/competitions/official/235985/data"
   ]
  },
  {
   "cell_type": "code",
   "execution_count": 2,
   "id": "227a1897",
   "metadata": {
    "scrolled": false
   },
   "outputs": [
    {
     "data": {
      "text/html": [
       "<div>\n",
       "<style scoped>\n",
       "    .dataframe tbody tr th:only-of-type {\n",
       "        vertical-align: middle;\n",
       "    }\n",
       "\n",
       "    .dataframe tbody tr th {\n",
       "        vertical-align: top;\n",
       "    }\n",
       "\n",
       "    .dataframe thead th {\n",
       "        text-align: right;\n",
       "    }\n",
       "</style>\n",
       "<table border=\"1\" class=\"dataframe\">\n",
       "  <thead>\n",
       "    <tr style=\"text-align: right;\">\n",
       "      <th></th>\n",
       "      <th>변수명</th>\n",
       "      <th>변수 설명</th>\n",
       "    </tr>\n",
       "  </thead>\n",
       "  <tbody>\n",
       "    <tr>\n",
       "      <th>0</th>\n",
       "      <td>id</td>\n",
       "      <td>아이디</td>\n",
       "    </tr>\n",
       "    <tr>\n",
       "      <th>1</th>\n",
       "      <td>base_date</td>\n",
       "      <td>날짜</td>\n",
       "    </tr>\n",
       "    <tr>\n",
       "      <th>2</th>\n",
       "      <td>day_of_week</td>\n",
       "      <td>요일</td>\n",
       "    </tr>\n",
       "    <tr>\n",
       "      <th>3</th>\n",
       "      <td>base_hour</td>\n",
       "      <td>시간대</td>\n",
       "    </tr>\n",
       "    <tr>\n",
       "      <th>4</th>\n",
       "      <td>road_in_use</td>\n",
       "      <td>도로사용여부</td>\n",
       "    </tr>\n",
       "    <tr>\n",
       "      <th>5</th>\n",
       "      <td>lane_count</td>\n",
       "      <td>차로수</td>\n",
       "    </tr>\n",
       "    <tr>\n",
       "      <th>6</th>\n",
       "      <td>road_rating</td>\n",
       "      <td>도로등급</td>\n",
       "    </tr>\n",
       "    <tr>\n",
       "      <th>7</th>\n",
       "      <td>multi_linked</td>\n",
       "      <td>중용구간 여부</td>\n",
       "    </tr>\n",
       "    <tr>\n",
       "      <th>8</th>\n",
       "      <td>connect_code</td>\n",
       "      <td>연결로 코드</td>\n",
       "    </tr>\n",
       "    <tr>\n",
       "      <th>9</th>\n",
       "      <td>maximum_speed_limit</td>\n",
       "      <td>최고속도제한</td>\n",
       "    </tr>\n",
       "    <tr>\n",
       "      <th>10</th>\n",
       "      <td>weight_restricted</td>\n",
       "      <td>통과제한하중</td>\n",
       "    </tr>\n",
       "    <tr>\n",
       "      <th>11</th>\n",
       "      <td>height_restricted</td>\n",
       "      <td>통과제한높이</td>\n",
       "    </tr>\n",
       "    <tr>\n",
       "      <th>12</th>\n",
       "      <td>road_type</td>\n",
       "      <td>도로유형</td>\n",
       "    </tr>\n",
       "    <tr>\n",
       "      <th>13</th>\n",
       "      <td>start_latitude</td>\n",
       "      <td>시작지점의 위도</td>\n",
       "    </tr>\n",
       "    <tr>\n",
       "      <th>14</th>\n",
       "      <td>start_longitude</td>\n",
       "      <td>시작지점의 경도</td>\n",
       "    </tr>\n",
       "    <tr>\n",
       "      <th>15</th>\n",
       "      <td>start_turn_restricted</td>\n",
       "      <td>시작 지점의 회전제한 유무</td>\n",
       "    </tr>\n",
       "    <tr>\n",
       "      <th>16</th>\n",
       "      <td>end_latitude</td>\n",
       "      <td>도착지점의 위도</td>\n",
       "    </tr>\n",
       "    <tr>\n",
       "      <th>17</th>\n",
       "      <td>end_longitude</td>\n",
       "      <td>도착지점의 경도</td>\n",
       "    </tr>\n",
       "    <tr>\n",
       "      <th>18</th>\n",
       "      <td>end_turn_restricted</td>\n",
       "      <td>도작지점의 회전제한 유무</td>\n",
       "    </tr>\n",
       "    <tr>\n",
       "      <th>19</th>\n",
       "      <td>road_name</td>\n",
       "      <td>도로명</td>\n",
       "    </tr>\n",
       "    <tr>\n",
       "      <th>20</th>\n",
       "      <td>start_node_name</td>\n",
       "      <td>시작지점명</td>\n",
       "    </tr>\n",
       "    <tr>\n",
       "      <th>21</th>\n",
       "      <td>end_node_name</td>\n",
       "      <td>도착지점명</td>\n",
       "    </tr>\n",
       "    <tr>\n",
       "      <th>22</th>\n",
       "      <td>vehicle_restricted</td>\n",
       "      <td>통과제한차량</td>\n",
       "    </tr>\n",
       "    <tr>\n",
       "      <th>23</th>\n",
       "      <td>target</td>\n",
       "      <td>평균속도(km)</td>\n",
       "    </tr>\n",
       "  </tbody>\n",
       "</table>\n",
       "</div>"
      ],
      "text/plain": [
       "                      변수명           변수 설명\n",
       "0                      id             아이디\n",
       "1               base_date              날짜\n",
       "2             day_of_week              요일\n",
       "3               base_hour             시간대\n",
       "4             road_in_use          도로사용여부\n",
       "5              lane_count             차로수\n",
       "6             road_rating            도로등급\n",
       "7            multi_linked         중용구간 여부\n",
       "8            connect_code          연결로 코드\n",
       "9     maximum_speed_limit          최고속도제한\n",
       "10      weight_restricted          통과제한하중\n",
       "11      height_restricted          통과제한높이\n",
       "12              road_type            도로유형\n",
       "13         start_latitude        시작지점의 위도\n",
       "14        start_longitude        시작지점의 경도\n",
       "15  start_turn_restricted  시작 지점의 회전제한 유무\n",
       "16           end_latitude        도착지점의 위도\n",
       "17          end_longitude        도착지점의 경도\n",
       "18    end_turn_restricted   도작지점의 회전제한 유무\n",
       "19              road_name             도로명\n",
       "20        start_node_name           시작지점명\n",
       "21          end_node_name           도착지점명\n",
       "22     vehicle_restricted          통과제한차량\n",
       "23                 target        평균속도(km)"
      ]
     },
     "execution_count": 2,
     "metadata": {},
     "output_type": "execute_result"
    }
   ],
   "source": [
    "import pandas as pd\n",
    "\n",
    "data_info = pd.read_csv('./jeju_traffic/data_info.csv')\n",
    "data_info"
   ]
  },
  {
   "cell_type": "code",
   "execution_count": null,
   "id": "65c59b3e",
   "metadata": {},
   "outputs": [],
   "source": [
    "import gc\n",
    "\n",
    "def csv_to_parquet(csv_path, save_name):\n",
    "    df = pd.read_csv(csv_path)\n",
    "    df.to_parquet(f'./{save_name}.parquet')\n",
    "    del df\n",
    "    gc.collect()\n",
    "    print(save_name, 'Done')"
   ]
  },
  {
   "cell_type": "code",
   "execution_count": 10,
   "id": "92ef4245",
   "metadata": {},
   "outputs": [
    {
     "ename": "ImportError",
     "evalue": "Unable to find a usable engine; tried using: 'pyarrow', 'fastparquet'.\nA suitable version of pyarrow or fastparquet is required for parquet support.\nTrying to import the above resulted in these errors:\n - Missing optional dependency 'pyarrow'. pyarrow is required for parquet support. Use pip or conda to install pyarrow.\n - Missing optional dependency 'fastparquet'. fastparquet is required for parquet support. Use pip or conda to install fastparquet.",
     "output_type": "error",
     "traceback": [
      "\u001b[1;31m---------------------------------------------------------------------------\u001b[0m",
      "\u001b[1;31mImportError\u001b[0m                               Traceback (most recent call last)",
      "\u001b[1;32m~\\AppData\\Local\\Temp\\ipykernel_16732\\743813396.py\u001b[0m in \u001b[0;36m<module>\u001b[1;34m\u001b[0m\n\u001b[1;32m----> 1\u001b[1;33m \u001b[0mcsv_to_parquet\u001b[0m\u001b[1;33m(\u001b[0m\u001b[1;34m'./jeju_traffic/train.csv'\u001b[0m\u001b[1;33m,\u001b[0m \u001b[1;34m'train'\u001b[0m\u001b[1;33m)\u001b[0m\u001b[1;33m\u001b[0m\u001b[1;33m\u001b[0m\u001b[0m\n\u001b[0m\u001b[0;32m      2\u001b[0m \u001b[0mcsv_to_parquet\u001b[0m\u001b[1;33m(\u001b[0m\u001b[1;34m'./jeju_traffic/test.csv'\u001b[0m\u001b[1;33m,\u001b[0m \u001b[1;34m'test'\u001b[0m\u001b[1;33m)\u001b[0m\u001b[1;33m\u001b[0m\u001b[1;33m\u001b[0m\u001b[0m\n",
      "\u001b[1;32m~\\AppData\\Local\\Temp\\ipykernel_16732\\1491607281.py\u001b[0m in \u001b[0;36mcsv_to_parquet\u001b[1;34m(csv_path, save_name)\u001b[0m\n\u001b[0;32m      3\u001b[0m \u001b[1;32mdef\u001b[0m \u001b[0mcsv_to_parquet\u001b[0m\u001b[1;33m(\u001b[0m\u001b[0mcsv_path\u001b[0m\u001b[1;33m,\u001b[0m \u001b[0msave_name\u001b[0m\u001b[1;33m)\u001b[0m\u001b[1;33m:\u001b[0m\u001b[1;33m\u001b[0m\u001b[1;33m\u001b[0m\u001b[0m\n\u001b[0;32m      4\u001b[0m     \u001b[0mdf\u001b[0m \u001b[1;33m=\u001b[0m \u001b[0mpd\u001b[0m\u001b[1;33m.\u001b[0m\u001b[0mread_csv\u001b[0m\u001b[1;33m(\u001b[0m\u001b[0mcsv_path\u001b[0m\u001b[1;33m)\u001b[0m\u001b[1;33m\u001b[0m\u001b[1;33m\u001b[0m\u001b[0m\n\u001b[1;32m----> 5\u001b[1;33m     \u001b[0mdf\u001b[0m\u001b[1;33m.\u001b[0m\u001b[0mto_parquet\u001b[0m\u001b[1;33m(\u001b[0m\u001b[1;34mf'./{save_name}.parquet'\u001b[0m\u001b[1;33m)\u001b[0m\u001b[1;33m\u001b[0m\u001b[1;33m\u001b[0m\u001b[0m\n\u001b[0m\u001b[0;32m      6\u001b[0m     \u001b[1;32mdel\u001b[0m \u001b[0mdf\u001b[0m\u001b[1;33m\u001b[0m\u001b[1;33m\u001b[0m\u001b[0m\n\u001b[0;32m      7\u001b[0m     \u001b[0mgc_collect\u001b[0m\u001b[1;33m(\u001b[0m\u001b[1;33m)\u001b[0m\u001b[1;33m\u001b[0m\u001b[1;33m\u001b[0m\u001b[0m\n",
      "\u001b[1;32m~\\anaconda3\\envs\\test\\lib\\site-packages\\pandas\\util\\_decorators.py\u001b[0m in \u001b[0;36mwrapper\u001b[1;34m(*args, **kwargs)\u001b[0m\n\u001b[0;32m    209\u001b[0m                 \u001b[1;32melse\u001b[0m\u001b[1;33m:\u001b[0m\u001b[1;33m\u001b[0m\u001b[1;33m\u001b[0m\u001b[0m\n\u001b[0;32m    210\u001b[0m                     \u001b[0mkwargs\u001b[0m\u001b[1;33m[\u001b[0m\u001b[0mnew_arg_name\u001b[0m\u001b[1;33m]\u001b[0m \u001b[1;33m=\u001b[0m \u001b[0mnew_arg_value\u001b[0m\u001b[1;33m\u001b[0m\u001b[1;33m\u001b[0m\u001b[0m\n\u001b[1;32m--> 211\u001b[1;33m             \u001b[1;32mreturn\u001b[0m \u001b[0mfunc\u001b[0m\u001b[1;33m(\u001b[0m\u001b[1;33m*\u001b[0m\u001b[0margs\u001b[0m\u001b[1;33m,\u001b[0m \u001b[1;33m**\u001b[0m\u001b[0mkwargs\u001b[0m\u001b[1;33m)\u001b[0m\u001b[1;33m\u001b[0m\u001b[1;33m\u001b[0m\u001b[0m\n\u001b[0m\u001b[0;32m    212\u001b[0m \u001b[1;33m\u001b[0m\u001b[0m\n\u001b[0;32m    213\u001b[0m         \u001b[1;32mreturn\u001b[0m \u001b[0mcast\u001b[0m\u001b[1;33m(\u001b[0m\u001b[0mF\u001b[0m\u001b[1;33m,\u001b[0m \u001b[0mwrapper\u001b[0m\u001b[1;33m)\u001b[0m\u001b[1;33m\u001b[0m\u001b[1;33m\u001b[0m\u001b[0m\n",
      "\u001b[1;32m~\\anaconda3\\envs\\test\\lib\\site-packages\\pandas\\core\\frame.py\u001b[0m in \u001b[0;36mto_parquet\u001b[1;34m(self, path, engine, compression, index, partition_cols, storage_options, **kwargs)\u001b[0m\n\u001b[0;32m   2973\u001b[0m         \u001b[1;32mfrom\u001b[0m \u001b[0mpandas\u001b[0m\u001b[1;33m.\u001b[0m\u001b[0mio\u001b[0m\u001b[1;33m.\u001b[0m\u001b[0mparquet\u001b[0m \u001b[1;32mimport\u001b[0m \u001b[0mto_parquet\u001b[0m\u001b[1;33m\u001b[0m\u001b[1;33m\u001b[0m\u001b[0m\n\u001b[0;32m   2974\u001b[0m \u001b[1;33m\u001b[0m\u001b[0m\n\u001b[1;32m-> 2975\u001b[1;33m         return to_parquet(\n\u001b[0m\u001b[0;32m   2976\u001b[0m             \u001b[0mself\u001b[0m\u001b[1;33m,\u001b[0m\u001b[1;33m\u001b[0m\u001b[1;33m\u001b[0m\u001b[0m\n\u001b[0;32m   2977\u001b[0m             \u001b[0mpath\u001b[0m\u001b[1;33m,\u001b[0m\u001b[1;33m\u001b[0m\u001b[1;33m\u001b[0m\u001b[0m\n",
      "\u001b[1;32m~\\anaconda3\\envs\\test\\lib\\site-packages\\pandas\\io\\parquet.py\u001b[0m in \u001b[0;36mto_parquet\u001b[1;34m(df, path, engine, compression, index, storage_options, partition_cols, **kwargs)\u001b[0m\n\u001b[0;32m    424\u001b[0m     \u001b[1;32mif\u001b[0m \u001b[0misinstance\u001b[0m\u001b[1;33m(\u001b[0m\u001b[0mpartition_cols\u001b[0m\u001b[1;33m,\u001b[0m \u001b[0mstr\u001b[0m\u001b[1;33m)\u001b[0m\u001b[1;33m:\u001b[0m\u001b[1;33m\u001b[0m\u001b[1;33m\u001b[0m\u001b[0m\n\u001b[0;32m    425\u001b[0m         \u001b[0mpartition_cols\u001b[0m \u001b[1;33m=\u001b[0m \u001b[1;33m[\u001b[0m\u001b[0mpartition_cols\u001b[0m\u001b[1;33m]\u001b[0m\u001b[1;33m\u001b[0m\u001b[1;33m\u001b[0m\u001b[0m\n\u001b[1;32m--> 426\u001b[1;33m     \u001b[0mimpl\u001b[0m \u001b[1;33m=\u001b[0m \u001b[0mget_engine\u001b[0m\u001b[1;33m(\u001b[0m\u001b[0mengine\u001b[0m\u001b[1;33m)\u001b[0m\u001b[1;33m\u001b[0m\u001b[1;33m\u001b[0m\u001b[0m\n\u001b[0m\u001b[0;32m    427\u001b[0m \u001b[1;33m\u001b[0m\u001b[0m\n\u001b[0;32m    428\u001b[0m     \u001b[0mpath_or_buf\u001b[0m\u001b[1;33m:\u001b[0m \u001b[0mFilePath\u001b[0m \u001b[1;33m|\u001b[0m \u001b[0mWriteBuffer\u001b[0m\u001b[1;33m[\u001b[0m\u001b[0mbytes\u001b[0m\u001b[1;33m]\u001b[0m \u001b[1;33m=\u001b[0m \u001b[0mio\u001b[0m\u001b[1;33m.\u001b[0m\u001b[0mBytesIO\u001b[0m\u001b[1;33m(\u001b[0m\u001b[1;33m)\u001b[0m \u001b[1;32mif\u001b[0m \u001b[0mpath\u001b[0m \u001b[1;32mis\u001b[0m \u001b[1;32mNone\u001b[0m \u001b[1;32melse\u001b[0m \u001b[0mpath\u001b[0m\u001b[1;33m\u001b[0m\u001b[1;33m\u001b[0m\u001b[0m\n",
      "\u001b[1;32m~\\anaconda3\\envs\\test\\lib\\site-packages\\pandas\\io\\parquet.py\u001b[0m in \u001b[0;36mget_engine\u001b[1;34m(engine)\u001b[0m\n\u001b[0;32m     50\u001b[0m                 \u001b[0merror_msgs\u001b[0m \u001b[1;33m+=\u001b[0m \u001b[1;34m\"\\n - \"\u001b[0m \u001b[1;33m+\u001b[0m \u001b[0mstr\u001b[0m\u001b[1;33m(\u001b[0m\u001b[0merr\u001b[0m\u001b[1;33m)\u001b[0m\u001b[1;33m\u001b[0m\u001b[1;33m\u001b[0m\u001b[0m\n\u001b[0;32m     51\u001b[0m \u001b[1;33m\u001b[0m\u001b[0m\n\u001b[1;32m---> 52\u001b[1;33m         raise ImportError(\n\u001b[0m\u001b[0;32m     53\u001b[0m             \u001b[1;34m\"Unable to find a usable engine; \"\u001b[0m\u001b[1;33m\u001b[0m\u001b[1;33m\u001b[0m\u001b[0m\n\u001b[0;32m     54\u001b[0m             \u001b[1;34m\"tried using: 'pyarrow', 'fastparquet'.\\n\"\u001b[0m\u001b[1;33m\u001b[0m\u001b[1;33m\u001b[0m\u001b[0m\n",
      "\u001b[1;31mImportError\u001b[0m: Unable to find a usable engine; tried using: 'pyarrow', 'fastparquet'.\nA suitable version of pyarrow or fastparquet is required for parquet support.\nTrying to import the above resulted in these errors:\n - Missing optional dependency 'pyarrow'. pyarrow is required for parquet support. Use pip or conda to install pyarrow.\n - Missing optional dependency 'fastparquet'. fastparquet is required for parquet support. Use pip or conda to install fastparquet."
     ]
    }
   ],
   "source": [
    "csv_to_parquet('./jeju_traffic/train.csv', 'train')\n",
    "csv_to_parquet('./jeju_traffic/test.csv', 'test')"
   ]
  },
  {
   "cell_type": "code",
   "execution_count": 3,
   "id": "2eb1045c",
   "metadata": {},
   "outputs": [],
   "source": [
    "train = pd.read_csv('./jeju_traffic/train.csv')\n",
    "test = pd.read_csv('./jeju_traffic/test.csv')"
   ]
  },
  {
   "cell_type": "code",
   "execution_count": 4,
   "id": "cb6bc3c4",
   "metadata": {
    "scrolled": true
   },
   "outputs": [
    {
     "data": {
      "text/html": [
       "<div>\n",
       "<style scoped>\n",
       "    .dataframe tbody tr th:only-of-type {\n",
       "        vertical-align: middle;\n",
       "    }\n",
       "\n",
       "    .dataframe tbody tr th {\n",
       "        vertical-align: top;\n",
       "    }\n",
       "\n",
       "    .dataframe thead th {\n",
       "        text-align: right;\n",
       "    }\n",
       "</style>\n",
       "<table border=\"1\" class=\"dataframe\">\n",
       "  <thead>\n",
       "    <tr style=\"text-align: right;\">\n",
       "      <th></th>\n",
       "      <th>id</th>\n",
       "      <th>base_date</th>\n",
       "      <th>day_of_week</th>\n",
       "      <th>base_hour</th>\n",
       "      <th>lane_count</th>\n",
       "      <th>road_rating</th>\n",
       "      <th>road_name</th>\n",
       "      <th>multi_linked</th>\n",
       "      <th>connect_code</th>\n",
       "      <th>maximum_speed_limit</th>\n",
       "      <th>...</th>\n",
       "      <th>road_type</th>\n",
       "      <th>start_node_name</th>\n",
       "      <th>start_latitude</th>\n",
       "      <th>start_longitude</th>\n",
       "      <th>start_turn_restricted</th>\n",
       "      <th>end_node_name</th>\n",
       "      <th>end_latitude</th>\n",
       "      <th>end_longitude</th>\n",
       "      <th>end_turn_restricted</th>\n",
       "      <th>target</th>\n",
       "    </tr>\n",
       "  </thead>\n",
       "  <tbody>\n",
       "    <tr>\n",
       "      <th>0</th>\n",
       "      <td>TRAIN_0000000</td>\n",
       "      <td>20220623</td>\n",
       "      <td>목</td>\n",
       "      <td>17</td>\n",
       "      <td>1</td>\n",
       "      <td>106</td>\n",
       "      <td>지방도1112호선</td>\n",
       "      <td>0</td>\n",
       "      <td>0</td>\n",
       "      <td>60.0</td>\n",
       "      <td>...</td>\n",
       "      <td>3</td>\n",
       "      <td>제3교래교</td>\n",
       "      <td>33.427747</td>\n",
       "      <td>126.662612</td>\n",
       "      <td>없음</td>\n",
       "      <td>제3교래교</td>\n",
       "      <td>33.427749</td>\n",
       "      <td>126.662335</td>\n",
       "      <td>없음</td>\n",
       "      <td>52.0</td>\n",
       "    </tr>\n",
       "    <tr>\n",
       "      <th>1</th>\n",
       "      <td>TRAIN_0000001</td>\n",
       "      <td>20220728</td>\n",
       "      <td>목</td>\n",
       "      <td>21</td>\n",
       "      <td>2</td>\n",
       "      <td>103</td>\n",
       "      <td>일반국도11호선</td>\n",
       "      <td>0</td>\n",
       "      <td>0</td>\n",
       "      <td>60.0</td>\n",
       "      <td>...</td>\n",
       "      <td>0</td>\n",
       "      <td>광양사거리</td>\n",
       "      <td>33.500730</td>\n",
       "      <td>126.529107</td>\n",
       "      <td>있음</td>\n",
       "      <td>KAL사거리</td>\n",
       "      <td>33.504811</td>\n",
       "      <td>126.526240</td>\n",
       "      <td>없음</td>\n",
       "      <td>30.0</td>\n",
       "    </tr>\n",
       "    <tr>\n",
       "      <th>2</th>\n",
       "      <td>TRAIN_0000002</td>\n",
       "      <td>20211010</td>\n",
       "      <td>일</td>\n",
       "      <td>7</td>\n",
       "      <td>2</td>\n",
       "      <td>103</td>\n",
       "      <td>일반국도16호선</td>\n",
       "      <td>0</td>\n",
       "      <td>0</td>\n",
       "      <td>80.0</td>\n",
       "      <td>...</td>\n",
       "      <td>0</td>\n",
       "      <td>창고천교</td>\n",
       "      <td>33.279145</td>\n",
       "      <td>126.368598</td>\n",
       "      <td>없음</td>\n",
       "      <td>상창육교</td>\n",
       "      <td>33.280072</td>\n",
       "      <td>126.362147</td>\n",
       "      <td>없음</td>\n",
       "      <td>61.0</td>\n",
       "    </tr>\n",
       "    <tr>\n",
       "      <th>3</th>\n",
       "      <td>TRAIN_0000003</td>\n",
       "      <td>20220311</td>\n",
       "      <td>금</td>\n",
       "      <td>13</td>\n",
       "      <td>2</td>\n",
       "      <td>107</td>\n",
       "      <td>태평로</td>\n",
       "      <td>0</td>\n",
       "      <td>0</td>\n",
       "      <td>50.0</td>\n",
       "      <td>...</td>\n",
       "      <td>0</td>\n",
       "      <td>남양리조트</td>\n",
       "      <td>33.246081</td>\n",
       "      <td>126.567204</td>\n",
       "      <td>없음</td>\n",
       "      <td>서현주택</td>\n",
       "      <td>33.245565</td>\n",
       "      <td>126.566228</td>\n",
       "      <td>없음</td>\n",
       "      <td>20.0</td>\n",
       "    </tr>\n",
       "    <tr>\n",
       "      <th>4</th>\n",
       "      <td>TRAIN_0000004</td>\n",
       "      <td>20211005</td>\n",
       "      <td>화</td>\n",
       "      <td>8</td>\n",
       "      <td>2</td>\n",
       "      <td>103</td>\n",
       "      <td>일반국도12호선</td>\n",
       "      <td>0</td>\n",
       "      <td>0</td>\n",
       "      <td>80.0</td>\n",
       "      <td>...</td>\n",
       "      <td>0</td>\n",
       "      <td>애월샷시</td>\n",
       "      <td>33.462214</td>\n",
       "      <td>126.326551</td>\n",
       "      <td>없음</td>\n",
       "      <td>애월입구</td>\n",
       "      <td>33.462677</td>\n",
       "      <td>126.330152</td>\n",
       "      <td>없음</td>\n",
       "      <td>38.0</td>\n",
       "    </tr>\n",
       "  </tbody>\n",
       "</table>\n",
       "<p>5 rows × 23 columns</p>\n",
       "</div>"
      ],
      "text/plain": [
       "              id  base_date day_of_week  base_hour  lane_count  road_rating  \\\n",
       "0  TRAIN_0000000   20220623           목         17           1          106   \n",
       "1  TRAIN_0000001   20220728           목         21           2          103   \n",
       "2  TRAIN_0000002   20211010           일          7           2          103   \n",
       "3  TRAIN_0000003   20220311           금         13           2          107   \n",
       "4  TRAIN_0000004   20211005           화          8           2          103   \n",
       "\n",
       "   road_name  multi_linked  connect_code  maximum_speed_limit  ...  road_type  \\\n",
       "0  지방도1112호선             0             0                 60.0  ...          3   \n",
       "1   일반국도11호선             0             0                 60.0  ...          0   \n",
       "2   일반국도16호선             0             0                 80.0  ...          0   \n",
       "3        태평로             0             0                 50.0  ...          0   \n",
       "4   일반국도12호선             0             0                 80.0  ...          0   \n",
       "\n",
       "   start_node_name  start_latitude  start_longitude start_turn_restricted  \\\n",
       "0            제3교래교       33.427747       126.662612                    없음   \n",
       "1            광양사거리       33.500730       126.529107                    있음   \n",
       "2             창고천교       33.279145       126.368598                    없음   \n",
       "3            남양리조트       33.246081       126.567204                    없음   \n",
       "4             애월샷시       33.462214       126.326551                    없음   \n",
       "\n",
       "   end_node_name  end_latitude end_longitude end_turn_restricted  target  \n",
       "0          제3교래교     33.427749    126.662335                  없음    52.0  \n",
       "1         KAL사거리     33.504811    126.526240                  없음    30.0  \n",
       "2           상창육교     33.280072    126.362147                  없음    61.0  \n",
       "3           서현주택     33.245565    126.566228                  없음    20.0  \n",
       "4           애월입구     33.462677    126.330152                  없음    38.0  \n",
       "\n",
       "[5 rows x 23 columns]"
      ]
     },
     "execution_count": 4,
     "metadata": {},
     "output_type": "execute_result"
    }
   ],
   "source": [
    "train.head()"
   ]
  },
  {
   "cell_type": "code",
   "execution_count": 5,
   "id": "7605a177",
   "metadata": {},
   "outputs": [
    {
     "data": {
      "text/html": [
       "<div>\n",
       "<style scoped>\n",
       "    .dataframe tbody tr th:only-of-type {\n",
       "        vertical-align: middle;\n",
       "    }\n",
       "\n",
       "    .dataframe tbody tr th {\n",
       "        vertical-align: top;\n",
       "    }\n",
       "\n",
       "    .dataframe thead th {\n",
       "        text-align: right;\n",
       "    }\n",
       "</style>\n",
       "<table border=\"1\" class=\"dataframe\">\n",
       "  <thead>\n",
       "    <tr style=\"text-align: right;\">\n",
       "      <th></th>\n",
       "      <th>id</th>\n",
       "      <th>base_date</th>\n",
       "      <th>day_of_week</th>\n",
       "      <th>base_hour</th>\n",
       "      <th>lane_count</th>\n",
       "      <th>road_rating</th>\n",
       "      <th>road_name</th>\n",
       "      <th>multi_linked</th>\n",
       "      <th>connect_code</th>\n",
       "      <th>maximum_speed_limit</th>\n",
       "      <th>...</th>\n",
       "      <th>height_restricted</th>\n",
       "      <th>road_type</th>\n",
       "      <th>start_node_name</th>\n",
       "      <th>start_latitude</th>\n",
       "      <th>start_longitude</th>\n",
       "      <th>start_turn_restricted</th>\n",
       "      <th>end_node_name</th>\n",
       "      <th>end_latitude</th>\n",
       "      <th>end_longitude</th>\n",
       "      <th>end_turn_restricted</th>\n",
       "    </tr>\n",
       "  </thead>\n",
       "  <tbody>\n",
       "    <tr>\n",
       "      <th>0</th>\n",
       "      <td>TEST_000000</td>\n",
       "      <td>20220825</td>\n",
       "      <td>목</td>\n",
       "      <td>17</td>\n",
       "      <td>3</td>\n",
       "      <td>107</td>\n",
       "      <td>연삼로</td>\n",
       "      <td>0</td>\n",
       "      <td>0</td>\n",
       "      <td>70.0</td>\n",
       "      <td>...</td>\n",
       "      <td>0.0</td>\n",
       "      <td>0</td>\n",
       "      <td>산지2교</td>\n",
       "      <td>33.499427</td>\n",
       "      <td>126.541298</td>\n",
       "      <td>없음</td>\n",
       "      <td>제주은행사거리</td>\n",
       "      <td>33.500772</td>\n",
       "      <td>126.543837</td>\n",
       "      <td>있음</td>\n",
       "    </tr>\n",
       "    <tr>\n",
       "      <th>1</th>\n",
       "      <td>TEST_000001</td>\n",
       "      <td>20220809</td>\n",
       "      <td>화</td>\n",
       "      <td>12</td>\n",
       "      <td>2</td>\n",
       "      <td>103</td>\n",
       "      <td>일반국도12호선</td>\n",
       "      <td>0</td>\n",
       "      <td>0</td>\n",
       "      <td>70.0</td>\n",
       "      <td>...</td>\n",
       "      <td>0.0</td>\n",
       "      <td>3</td>\n",
       "      <td>중문입구</td>\n",
       "      <td>33.258507</td>\n",
       "      <td>126.427003</td>\n",
       "      <td>없음</td>\n",
       "      <td>관광단지입구</td>\n",
       "      <td>33.258119</td>\n",
       "      <td>126.415840</td>\n",
       "      <td>없음</td>\n",
       "    </tr>\n",
       "    <tr>\n",
       "      <th>2</th>\n",
       "      <td>TEST_000002</td>\n",
       "      <td>20220805</td>\n",
       "      <td>금</td>\n",
       "      <td>2</td>\n",
       "      <td>1</td>\n",
       "      <td>103</td>\n",
       "      <td>일반국도16호선</td>\n",
       "      <td>0</td>\n",
       "      <td>0</td>\n",
       "      <td>60.0</td>\n",
       "      <td>...</td>\n",
       "      <td>0.0</td>\n",
       "      <td>0</td>\n",
       "      <td>도순3교</td>\n",
       "      <td>33.258960</td>\n",
       "      <td>126.476508</td>\n",
       "      <td>없음</td>\n",
       "      <td>도순2교</td>\n",
       "      <td>33.259206</td>\n",
       "      <td>126.474687</td>\n",
       "      <td>없음</td>\n",
       "    </tr>\n",
       "    <tr>\n",
       "      <th>3</th>\n",
       "      <td>TEST_000003</td>\n",
       "      <td>20220818</td>\n",
       "      <td>목</td>\n",
       "      <td>23</td>\n",
       "      <td>3</td>\n",
       "      <td>103</td>\n",
       "      <td>일반국도11호선</td>\n",
       "      <td>0</td>\n",
       "      <td>0</td>\n",
       "      <td>70.0</td>\n",
       "      <td>...</td>\n",
       "      <td>0.0</td>\n",
       "      <td>0</td>\n",
       "      <td>아라주공아파트</td>\n",
       "      <td>33.473494</td>\n",
       "      <td>126.545647</td>\n",
       "      <td>없음</td>\n",
       "      <td>인다마을</td>\n",
       "      <td>33.471061</td>\n",
       "      <td>126.545467</td>\n",
       "      <td>없음</td>\n",
       "    </tr>\n",
       "    <tr>\n",
       "      <th>4</th>\n",
       "      <td>TEST_000004</td>\n",
       "      <td>20220810</td>\n",
       "      <td>수</td>\n",
       "      <td>17</td>\n",
       "      <td>3</td>\n",
       "      <td>106</td>\n",
       "      <td>번영로</td>\n",
       "      <td>0</td>\n",
       "      <td>0</td>\n",
       "      <td>70.0</td>\n",
       "      <td>...</td>\n",
       "      <td>0.0</td>\n",
       "      <td>0</td>\n",
       "      <td>부록교 시종점</td>\n",
       "      <td>33.501477</td>\n",
       "      <td>126.569223</td>\n",
       "      <td>없음</td>\n",
       "      <td>봉개교 시종점</td>\n",
       "      <td>33.496863</td>\n",
       "      <td>126.581230</td>\n",
       "      <td>없음</td>\n",
       "    </tr>\n",
       "  </tbody>\n",
       "</table>\n",
       "<p>5 rows × 22 columns</p>\n",
       "</div>"
      ],
      "text/plain": [
       "            id  base_date day_of_week  base_hour  lane_count  road_rating  \\\n",
       "0  TEST_000000   20220825           목         17           3          107   \n",
       "1  TEST_000001   20220809           화         12           2          103   \n",
       "2  TEST_000002   20220805           금          2           1          103   \n",
       "3  TEST_000003   20220818           목         23           3          103   \n",
       "4  TEST_000004   20220810           수         17           3          106   \n",
       "\n",
       "  road_name  multi_linked  connect_code  maximum_speed_limit  ...  \\\n",
       "0       연삼로             0             0                 70.0  ...   \n",
       "1  일반국도12호선             0             0                 70.0  ...   \n",
       "2  일반국도16호선             0             0                 60.0  ...   \n",
       "3  일반국도11호선             0             0                 70.0  ...   \n",
       "4       번영로             0             0                 70.0  ...   \n",
       "\n",
       "   height_restricted  road_type  start_node_name  start_latitude  \\\n",
       "0                0.0          0             산지2교       33.499427   \n",
       "1                0.0          3             중문입구       33.258507   \n",
       "2                0.0          0             도순3교       33.258960   \n",
       "3                0.0          0          아라주공아파트       33.473494   \n",
       "4                0.0          0          부록교 시종점       33.501477   \n",
       "\n",
       "  start_longitude  start_turn_restricted  end_node_name end_latitude  \\\n",
       "0      126.541298                     없음        제주은행사거리    33.500772   \n",
       "1      126.427003                     없음         관광단지입구    33.258119   \n",
       "2      126.476508                     없음           도순2교    33.259206   \n",
       "3      126.545647                     없음           인다마을    33.471061   \n",
       "4      126.569223                     없음        봉개교 시종점    33.496863   \n",
       "\n",
       "  end_longitude  end_turn_restricted  \n",
       "0    126.543837                   있음  \n",
       "1    126.415840                   없음  \n",
       "2    126.474687                   없음  \n",
       "3    126.545467                   없음  \n",
       "4    126.581230                   없음  \n",
       "\n",
       "[5 rows x 22 columns]"
      ]
     },
     "execution_count": 5,
     "metadata": {},
     "output_type": "execute_result"
    }
   ],
   "source": [
    "test.head()"
   ]
  },
  {
   "cell_type": "code",
   "execution_count": 13,
   "id": "2263b7ca",
   "metadata": {
    "scrolled": false
   },
   "outputs": [
    {
     "name": "stdout",
     "output_type": "stream",
     "text": [
      "<class 'pandas.core.frame.DataFrame'>\n",
      "RangeIndex: 4701217 entries, 0 to 4701216\n",
      "Data columns (total 23 columns):\n",
      " #   Column                 Dtype  \n",
      "---  ------                 -----  \n",
      " 0   id                     object \n",
      " 1   base_date              int64  \n",
      " 2   day_of_week            object \n",
      " 3   base_hour              int64  \n",
      " 4   lane_count             int64  \n",
      " 5   road_rating            int64  \n",
      " 6   road_name              object \n",
      " 7   multi_linked           int64  \n",
      " 8   connect_code           int64  \n",
      " 9   maximum_speed_limit    float64\n",
      " 10  vehicle_restricted     float64\n",
      " 11  weight_restricted      float64\n",
      " 12  height_restricted      float64\n",
      " 13  road_type              int64  \n",
      " 14  start_node_name        object \n",
      " 15  start_latitude         float64\n",
      " 16  start_longitude        float64\n",
      " 17  start_turn_restricted  object \n",
      " 18  end_node_name          object \n",
      " 19  end_latitude           float64\n",
      " 20  end_longitude          float64\n",
      " 21  end_turn_restricted    object \n",
      " 22  target                 float64\n",
      "dtypes: float64(9), int64(7), object(7)\n",
      "memory usage: 825.0+ MB\n"
     ]
    }
   ],
   "source": [
    "train.info()"
   ]
  },
  {
   "cell_type": "code",
   "execution_count": 6,
   "id": "43b33926",
   "metadata": {},
   "outputs": [
    {
     "name": "stdout",
     "output_type": "stream",
     "text": [
      "<class 'pandas.core.frame.DataFrame'>\n",
      "RangeIndex: 291241 entries, 0 to 291240\n",
      "Data columns (total 22 columns):\n",
      " #   Column                 Non-Null Count   Dtype  \n",
      "---  ------                 --------------   -----  \n",
      " 0   id                     291241 non-null  object \n",
      " 1   base_date              291241 non-null  int64  \n",
      " 2   day_of_week            291241 non-null  object \n",
      " 3   base_hour              291241 non-null  int64  \n",
      " 4   lane_count             291241 non-null  int64  \n",
      " 5   road_rating            291241 non-null  int64  \n",
      " 6   road_name              291241 non-null  object \n",
      " 7   multi_linked           291241 non-null  int64  \n",
      " 8   connect_code           291241 non-null  int64  \n",
      " 9   maximum_speed_limit    291241 non-null  float64\n",
      " 10  vehicle_restricted     291241 non-null  float64\n",
      " 11  weight_restricted      291241 non-null  float64\n",
      " 12  height_restricted      291241 non-null  float64\n",
      " 13  road_type              291241 non-null  int64  \n",
      " 14  start_node_name        291241 non-null  object \n",
      " 15  start_latitude         291241 non-null  float64\n",
      " 16  start_longitude        291241 non-null  float64\n",
      " 17  start_turn_restricted  291241 non-null  object \n",
      " 18  end_node_name          291241 non-null  object \n",
      " 19  end_latitude           291241 non-null  float64\n",
      " 20  end_longitude          291241 non-null  float64\n",
      " 21  end_turn_restricted    291241 non-null  object \n",
      "dtypes: float64(8), int64(7), object(7)\n",
      "memory usage: 48.9+ MB\n"
     ]
    }
   ],
   "source": [
    "test.info()"
   ]
  },
  {
   "cell_type": "code",
   "execution_count": 8,
   "id": "c90192de",
   "metadata": {},
   "outputs": [
    {
     "data": {
      "text/plain": [
       "id                       0\n",
       "base_date                0\n",
       "day_of_week              0\n",
       "base_hour                0\n",
       "lane_count               0\n",
       "road_rating              0\n",
       "road_name                0\n",
       "multi_linked             0\n",
       "connect_code             0\n",
       "maximum_speed_limit      0\n",
       "vehicle_restricted       0\n",
       "weight_restricted        0\n",
       "height_restricted        0\n",
       "road_type                0\n",
       "start_node_name          0\n",
       "start_latitude           0\n",
       "start_longitude          0\n",
       "start_turn_restricted    0\n",
       "end_node_name            0\n",
       "end_latitude             0\n",
       "end_longitude            0\n",
       "end_turn_restricted      0\n",
       "target                   0\n",
       "dtype: int64"
      ]
     },
     "execution_count": 8,
     "metadata": {},
     "output_type": "execute_result"
    }
   ],
   "source": [
    "train.isnull().sum()"
   ]
  },
  {
   "cell_type": "code",
   "execution_count": 7,
   "id": "0b005342",
   "metadata": {},
   "outputs": [
    {
     "data": {
      "text/plain": [
       "id                       0\n",
       "base_date                0\n",
       "day_of_week              0\n",
       "base_hour                0\n",
       "lane_count               0\n",
       "road_rating              0\n",
       "road_name                0\n",
       "multi_linked             0\n",
       "connect_code             0\n",
       "maximum_speed_limit      0\n",
       "vehicle_restricted       0\n",
       "weight_restricted        0\n",
       "height_restricted        0\n",
       "road_type                0\n",
       "start_node_name          0\n",
       "start_latitude           0\n",
       "start_longitude          0\n",
       "start_turn_restricted    0\n",
       "end_node_name            0\n",
       "end_latitude             0\n",
       "end_longitude            0\n",
       "end_turn_restricted      0\n",
       "dtype: int64"
      ]
     },
     "execution_count": 7,
     "metadata": {},
     "output_type": "execute_result"
    }
   ],
   "source": [
    "test.isnull().sum()"
   ]
  },
  {
   "cell_type": "code",
   "execution_count": 18,
   "id": "573efa91",
   "metadata": {
    "scrolled": true
   },
   "outputs": [
    {
     "data": {
      "text/html": [
       "<div>\n",
       "<style scoped>\n",
       "    .dataframe tbody tr th:only-of-type {\n",
       "        vertical-align: middle;\n",
       "    }\n",
       "\n",
       "    .dataframe tbody tr th {\n",
       "        vertical-align: top;\n",
       "    }\n",
       "\n",
       "    .dataframe thead th {\n",
       "        text-align: right;\n",
       "    }\n",
       "</style>\n",
       "<table border=\"1\" class=\"dataframe\">\n",
       "  <thead>\n",
       "    <tr style=\"text-align: right;\">\n",
       "      <th></th>\n",
       "      <th>base_date</th>\n",
       "      <th>base_hour</th>\n",
       "      <th>lane_count</th>\n",
       "      <th>road_rating</th>\n",
       "      <th>multi_linked</th>\n",
       "      <th>connect_code</th>\n",
       "      <th>maximum_speed_limit</th>\n",
       "      <th>vehicle_restricted</th>\n",
       "      <th>weight_restricted</th>\n",
       "      <th>height_restricted</th>\n",
       "      <th>road_type</th>\n",
       "      <th>start_latitude</th>\n",
       "      <th>start_longitude</th>\n",
       "      <th>end_latitude</th>\n",
       "      <th>end_longitude</th>\n",
       "      <th>target</th>\n",
       "    </tr>\n",
       "  </thead>\n",
       "  <tbody>\n",
       "    <tr>\n",
       "      <th>count</th>\n",
       "      <td>4.701217e+06</td>\n",
       "      <td>4.701217e+06</td>\n",
       "      <td>4.701217e+06</td>\n",
       "      <td>4.701217e+06</td>\n",
       "      <td>4.701217e+06</td>\n",
       "      <td>4.701217e+06</td>\n",
       "      <td>4.701217e+06</td>\n",
       "      <td>4701217.0</td>\n",
       "      <td>4.701217e+06</td>\n",
       "      <td>4701217.0</td>\n",
       "      <td>4.701217e+06</td>\n",
       "      <td>4.701217e+06</td>\n",
       "      <td>4.701217e+06</td>\n",
       "      <td>4.701217e+06</td>\n",
       "      <td>4.701217e+06</td>\n",
       "      <td>4.701217e+06</td>\n",
       "    </tr>\n",
       "    <tr>\n",
       "      <th>mean</th>\n",
       "      <td>2.021672e+07</td>\n",
       "      <td>1.192820e+01</td>\n",
       "      <td>1.836651e+00</td>\n",
       "      <td>1.049585e+02</td>\n",
       "      <td>4.762597e-04</td>\n",
       "      <td>2.660218e-01</td>\n",
       "      <td>6.125329e+01</td>\n",
       "      <td>0.0</td>\n",
       "      <td>5.618742e+03</td>\n",
       "      <td>0.0</td>\n",
       "      <td>6.152237e-01</td>\n",
       "      <td>3.338432e+01</td>\n",
       "      <td>1.265217e+02</td>\n",
       "      <td>3.338432e+01</td>\n",
       "      <td>1.265217e+02</td>\n",
       "      <td>4.278844e+01</td>\n",
       "    </tr>\n",
       "    <tr>\n",
       "      <th>std</th>\n",
       "      <td>4.555709e+03</td>\n",
       "      <td>6.722092e+00</td>\n",
       "      <td>6.877513e-01</td>\n",
       "      <td>1.840107e+00</td>\n",
       "      <td>2.181818e-02</td>\n",
       "      <td>5.227760e+00</td>\n",
       "      <td>1.213354e+01</td>\n",
       "      <td>0.0</td>\n",
       "      <td>1.395343e+04</td>\n",
       "      <td>0.0</td>\n",
       "      <td>1.211268e+00</td>\n",
       "      <td>1.012015e-01</td>\n",
       "      <td>1.563657e-01</td>\n",
       "      <td>1.011948e-01</td>\n",
       "      <td>1.563519e-01</td>\n",
       "      <td>1.595443e+01</td>\n",
       "    </tr>\n",
       "    <tr>\n",
       "      <th>min</th>\n",
       "      <td>2.021090e+07</td>\n",
       "      <td>0.000000e+00</td>\n",
       "      <td>1.000000e+00</td>\n",
       "      <td>1.030000e+02</td>\n",
       "      <td>0.000000e+00</td>\n",
       "      <td>0.000000e+00</td>\n",
       "      <td>3.000000e+01</td>\n",
       "      <td>0.0</td>\n",
       "      <td>0.000000e+00</td>\n",
       "      <td>0.0</td>\n",
       "      <td>0.000000e+00</td>\n",
       "      <td>3.324343e+01</td>\n",
       "      <td>1.261826e+02</td>\n",
       "      <td>3.324343e+01</td>\n",
       "      <td>1.261826e+02</td>\n",
       "      <td>1.000000e+00</td>\n",
       "    </tr>\n",
       "    <tr>\n",
       "      <th>25%</th>\n",
       "      <td>2.021110e+07</td>\n",
       "      <td>6.000000e+00</td>\n",
       "      <td>1.000000e+00</td>\n",
       "      <td>1.030000e+02</td>\n",
       "      <td>0.000000e+00</td>\n",
       "      <td>0.000000e+00</td>\n",
       "      <td>5.000000e+01</td>\n",
       "      <td>0.0</td>\n",
       "      <td>0.000000e+00</td>\n",
       "      <td>0.0</td>\n",
       "      <td>0.000000e+00</td>\n",
       "      <td>3.326422e+01</td>\n",
       "      <td>1.264232e+02</td>\n",
       "      <td>3.326422e+01</td>\n",
       "      <td>1.264232e+02</td>\n",
       "      <td>3.000000e+01</td>\n",
       "    </tr>\n",
       "    <tr>\n",
       "      <th>50%</th>\n",
       "      <td>2.022013e+07</td>\n",
       "      <td>1.200000e+01</td>\n",
       "      <td>2.000000e+00</td>\n",
       "      <td>1.060000e+02</td>\n",
       "      <td>0.000000e+00</td>\n",
       "      <td>0.000000e+00</td>\n",
       "      <td>6.000000e+01</td>\n",
       "      <td>0.0</td>\n",
       "      <td>0.000000e+00</td>\n",
       "      <td>0.0</td>\n",
       "      <td>0.000000e+00</td>\n",
       "      <td>3.341257e+01</td>\n",
       "      <td>1.265112e+02</td>\n",
       "      <td>3.341257e+01</td>\n",
       "      <td>1.265112e+02</td>\n",
       "      <td>4.300000e+01</td>\n",
       "    </tr>\n",
       "    <tr>\n",
       "      <th>75%</th>\n",
       "      <td>2.022050e+07</td>\n",
       "      <td>1.800000e+01</td>\n",
       "      <td>2.000000e+00</td>\n",
       "      <td>1.070000e+02</td>\n",
       "      <td>0.000000e+00</td>\n",
       "      <td>0.000000e+00</td>\n",
       "      <td>7.000000e+01</td>\n",
       "      <td>0.0</td>\n",
       "      <td>0.000000e+00</td>\n",
       "      <td>0.0</td>\n",
       "      <td>0.000000e+00</td>\n",
       "      <td>3.347804e+01</td>\n",
       "      <td>1.265840e+02</td>\n",
       "      <td>3.347804e+01</td>\n",
       "      <td>1.265840e+02</td>\n",
       "      <td>5.400000e+01</td>\n",
       "    </tr>\n",
       "    <tr>\n",
       "      <th>max</th>\n",
       "      <td>2.022073e+07</td>\n",
       "      <td>2.300000e+01</td>\n",
       "      <td>3.000000e+00</td>\n",
       "      <td>1.070000e+02</td>\n",
       "      <td>1.000000e+00</td>\n",
       "      <td>1.030000e+02</td>\n",
       "      <td>8.000000e+01</td>\n",
       "      <td>0.0</td>\n",
       "      <td>5.000000e+04</td>\n",
       "      <td>0.0</td>\n",
       "      <td>3.000000e+00</td>\n",
       "      <td>3.355608e+01</td>\n",
       "      <td>1.269309e+02</td>\n",
       "      <td>3.355608e+01</td>\n",
       "      <td>1.269309e+02</td>\n",
       "      <td>1.130000e+02</td>\n",
       "    </tr>\n",
       "  </tbody>\n",
       "</table>\n",
       "</div>"
      ],
      "text/plain": [
       "          base_date     base_hour    lane_count   road_rating  multi_linked  \\\n",
       "count  4.701217e+06  4.701217e+06  4.701217e+06  4.701217e+06  4.701217e+06   \n",
       "mean   2.021672e+07  1.192820e+01  1.836651e+00  1.049585e+02  4.762597e-04   \n",
       "std    4.555709e+03  6.722092e+00  6.877513e-01  1.840107e+00  2.181818e-02   \n",
       "min    2.021090e+07  0.000000e+00  1.000000e+00  1.030000e+02  0.000000e+00   \n",
       "25%    2.021110e+07  6.000000e+00  1.000000e+00  1.030000e+02  0.000000e+00   \n",
       "50%    2.022013e+07  1.200000e+01  2.000000e+00  1.060000e+02  0.000000e+00   \n",
       "75%    2.022050e+07  1.800000e+01  2.000000e+00  1.070000e+02  0.000000e+00   \n",
       "max    2.022073e+07  2.300000e+01  3.000000e+00  1.070000e+02  1.000000e+00   \n",
       "\n",
       "       connect_code  maximum_speed_limit  vehicle_restricted  \\\n",
       "count  4.701217e+06         4.701217e+06           4701217.0   \n",
       "mean   2.660218e-01         6.125329e+01                 0.0   \n",
       "std    5.227760e+00         1.213354e+01                 0.0   \n",
       "min    0.000000e+00         3.000000e+01                 0.0   \n",
       "25%    0.000000e+00         5.000000e+01                 0.0   \n",
       "50%    0.000000e+00         6.000000e+01                 0.0   \n",
       "75%    0.000000e+00         7.000000e+01                 0.0   \n",
       "max    1.030000e+02         8.000000e+01                 0.0   \n",
       "\n",
       "       weight_restricted  height_restricted     road_type  start_latitude  \\\n",
       "count       4.701217e+06          4701217.0  4.701217e+06    4.701217e+06   \n",
       "mean        5.618742e+03                0.0  6.152237e-01    3.338432e+01   \n",
       "std         1.395343e+04                0.0  1.211268e+00    1.012015e-01   \n",
       "min         0.000000e+00                0.0  0.000000e+00    3.324343e+01   \n",
       "25%         0.000000e+00                0.0  0.000000e+00    3.326422e+01   \n",
       "50%         0.000000e+00                0.0  0.000000e+00    3.341257e+01   \n",
       "75%         0.000000e+00                0.0  0.000000e+00    3.347804e+01   \n",
       "max         5.000000e+04                0.0  3.000000e+00    3.355608e+01   \n",
       "\n",
       "       start_longitude  end_latitude  end_longitude        target  \n",
       "count     4.701217e+06  4.701217e+06   4.701217e+06  4.701217e+06  \n",
       "mean      1.265217e+02  3.338432e+01   1.265217e+02  4.278844e+01  \n",
       "std       1.563657e-01  1.011948e-01   1.563519e-01  1.595443e+01  \n",
       "min       1.261826e+02  3.324343e+01   1.261826e+02  1.000000e+00  \n",
       "25%       1.264232e+02  3.326422e+01   1.264232e+02  3.000000e+01  \n",
       "50%       1.265112e+02  3.341257e+01   1.265112e+02  4.300000e+01  \n",
       "75%       1.265840e+02  3.347804e+01   1.265840e+02  5.400000e+01  \n",
       "max       1.269309e+02  3.355608e+01   1.269309e+02  1.130000e+02  "
      ]
     },
     "execution_count": 18,
     "metadata": {},
     "output_type": "execute_result"
    }
   ],
   "source": [
    "train.describe()"
   ]
  },
  {
   "cell_type": "code",
   "execution_count": 19,
   "id": "ae09cbd2",
   "metadata": {
    "scrolled": true
   },
   "outputs": [
    {
     "data": {
      "text/html": [
       "<div>\n",
       "<style scoped>\n",
       "    .dataframe tbody tr th:only-of-type {\n",
       "        vertical-align: middle;\n",
       "    }\n",
       "\n",
       "    .dataframe tbody tr th {\n",
       "        vertical-align: top;\n",
       "    }\n",
       "\n",
       "    .dataframe thead th {\n",
       "        text-align: right;\n",
       "    }\n",
       "</style>\n",
       "<table border=\"1\" class=\"dataframe\">\n",
       "  <thead>\n",
       "    <tr style=\"text-align: right;\">\n",
       "      <th></th>\n",
       "      <th>base_date</th>\n",
       "      <th>base_hour</th>\n",
       "      <th>lane_count</th>\n",
       "      <th>road_rating</th>\n",
       "      <th>multi_linked</th>\n",
       "      <th>connect_code</th>\n",
       "      <th>maximum_speed_limit</th>\n",
       "      <th>vehicle_restricted</th>\n",
       "      <th>weight_restricted</th>\n",
       "      <th>height_restricted</th>\n",
       "      <th>road_type</th>\n",
       "      <th>start_latitude</th>\n",
       "      <th>start_longitude</th>\n",
       "      <th>end_latitude</th>\n",
       "      <th>end_longitude</th>\n",
       "    </tr>\n",
       "  </thead>\n",
       "  <tbody>\n",
       "    <tr>\n",
       "      <th>count</th>\n",
       "      <td>2.912410e+05</td>\n",
       "      <td>291241.000000</td>\n",
       "      <td>291241.000000</td>\n",
       "      <td>291241.000000</td>\n",
       "      <td>291241.0</td>\n",
       "      <td>291241.0</td>\n",
       "      <td>291241.000000</td>\n",
       "      <td>291241.0</td>\n",
       "      <td>291241.000000</td>\n",
       "      <td>291241.0</td>\n",
       "      <td>291241.000000</td>\n",
       "      <td>291241.000000</td>\n",
       "      <td>291241.000000</td>\n",
       "      <td>291241.000000</td>\n",
       "      <td>291241.000000</td>\n",
       "    </tr>\n",
       "    <tr>\n",
       "      <th>mean</th>\n",
       "      <td>2.022082e+07</td>\n",
       "      <td>11.856854</td>\n",
       "      <td>2.021371</td>\n",
       "      <td>105.245948</td>\n",
       "      <td>0.0</td>\n",
       "      <td>0.0</td>\n",
       "      <td>58.771430</td>\n",
       "      <td>0.0</td>\n",
       "      <td>3651.902033</td>\n",
       "      <td>0.0</td>\n",
       "      <td>0.634845</td>\n",
       "      <td>33.361624</td>\n",
       "      <td>126.512946</td>\n",
       "      <td>33.361651</td>\n",
       "      <td>126.512919</td>\n",
       "    </tr>\n",
       "    <tr>\n",
       "      <th>std</th>\n",
       "      <td>8.886111e+00</td>\n",
       "      <td>6.803378</td>\n",
       "      <td>0.750898</td>\n",
       "      <td>1.862653</td>\n",
       "      <td>0.0</td>\n",
       "      <td>0.0</td>\n",
       "      <td>11.390743</td>\n",
       "      <td>0.0</td>\n",
       "      <td>11327.618389</td>\n",
       "      <td>0.0</td>\n",
       "      <td>1.225362</td>\n",
       "      <td>0.116064</td>\n",
       "      <td>0.061478</td>\n",
       "      <td>0.116067</td>\n",
       "      <td>0.061344</td>\n",
       "    </tr>\n",
       "    <tr>\n",
       "      <th>min</th>\n",
       "      <td>2.022080e+07</td>\n",
       "      <td>0.000000</td>\n",
       "      <td>1.000000</td>\n",
       "      <td>103.000000</td>\n",
       "      <td>0.0</td>\n",
       "      <td>0.0</td>\n",
       "      <td>30.000000</td>\n",
       "      <td>0.0</td>\n",
       "      <td>0.000000</td>\n",
       "      <td>0.0</td>\n",
       "      <td>0.000000</td>\n",
       "      <td>33.243432</td>\n",
       "      <td>126.303780</td>\n",
       "      <td>33.243432</td>\n",
       "      <td>126.303780</td>\n",
       "    </tr>\n",
       "    <tr>\n",
       "      <th>25%</th>\n",
       "      <td>2.022081e+07</td>\n",
       "      <td>6.000000</td>\n",
       "      <td>1.000000</td>\n",
       "      <td>103.000000</td>\n",
       "      <td>0.0</td>\n",
       "      <td>0.0</td>\n",
       "      <td>50.000000</td>\n",
       "      <td>0.0</td>\n",
       "      <td>0.000000</td>\n",
       "      <td>0.0</td>\n",
       "      <td>0.000000</td>\n",
       "      <td>33.254214</td>\n",
       "      <td>126.476508</td>\n",
       "      <td>33.254214</td>\n",
       "      <td>126.476508</td>\n",
       "    </tr>\n",
       "    <tr>\n",
       "      <th>50%</th>\n",
       "      <td>2.022082e+07</td>\n",
       "      <td>12.000000</td>\n",
       "      <td>2.000000</td>\n",
       "      <td>106.000000</td>\n",
       "      <td>0.0</td>\n",
       "      <td>0.0</td>\n",
       "      <td>60.000000</td>\n",
       "      <td>0.0</td>\n",
       "      <td>0.000000</td>\n",
       "      <td>0.0</td>\n",
       "      <td>0.000000</td>\n",
       "      <td>33.272222</td>\n",
       "      <td>126.512046</td>\n",
       "      <td>33.272222</td>\n",
       "      <td>126.512046</td>\n",
       "    </tr>\n",
       "    <tr>\n",
       "      <th>75%</th>\n",
       "      <td>2.022082e+07</td>\n",
       "      <td>18.000000</td>\n",
       "      <td>3.000000</td>\n",
       "      <td>107.000000</td>\n",
       "      <td>0.0</td>\n",
       "      <td>0.0</td>\n",
       "      <td>70.000000</td>\n",
       "      <td>0.0</td>\n",
       "      <td>0.000000</td>\n",
       "      <td>0.0</td>\n",
       "      <td>0.000000</td>\n",
       "      <td>33.492718</td>\n",
       "      <td>126.561830</td>\n",
       "      <td>33.492718</td>\n",
       "      <td>126.561830</td>\n",
       "    </tr>\n",
       "    <tr>\n",
       "      <th>max</th>\n",
       "      <td>2.022083e+07</td>\n",
       "      <td>23.000000</td>\n",
       "      <td>3.000000</td>\n",
       "      <td>107.000000</td>\n",
       "      <td>0.0</td>\n",
       "      <td>0.0</td>\n",
       "      <td>80.000000</td>\n",
       "      <td>0.0</td>\n",
       "      <td>50000.000000</td>\n",
       "      <td>0.0</td>\n",
       "      <td>3.000000</td>\n",
       "      <td>33.521399</td>\n",
       "      <td>126.912948</td>\n",
       "      <td>33.521399</td>\n",
       "      <td>126.912948</td>\n",
       "    </tr>\n",
       "  </tbody>\n",
       "</table>\n",
       "</div>"
      ],
      "text/plain": [
       "          base_date      base_hour     lane_count    road_rating  \\\n",
       "count  2.912410e+05  291241.000000  291241.000000  291241.000000   \n",
       "mean   2.022082e+07      11.856854       2.021371     105.245948   \n",
       "std    8.886111e+00       6.803378       0.750898       1.862653   \n",
       "min    2.022080e+07       0.000000       1.000000     103.000000   \n",
       "25%    2.022081e+07       6.000000       1.000000     103.000000   \n",
       "50%    2.022082e+07      12.000000       2.000000     106.000000   \n",
       "75%    2.022082e+07      18.000000       3.000000     107.000000   \n",
       "max    2.022083e+07      23.000000       3.000000     107.000000   \n",
       "\n",
       "       multi_linked  connect_code  maximum_speed_limit  vehicle_restricted  \\\n",
       "count      291241.0      291241.0        291241.000000            291241.0   \n",
       "mean            0.0           0.0            58.771430                 0.0   \n",
       "std             0.0           0.0            11.390743                 0.0   \n",
       "min             0.0           0.0            30.000000                 0.0   \n",
       "25%             0.0           0.0            50.000000                 0.0   \n",
       "50%             0.0           0.0            60.000000                 0.0   \n",
       "75%             0.0           0.0            70.000000                 0.0   \n",
       "max             0.0           0.0            80.000000                 0.0   \n",
       "\n",
       "       weight_restricted  height_restricted      road_type  start_latitude  \\\n",
       "count      291241.000000           291241.0  291241.000000   291241.000000   \n",
       "mean         3651.902033                0.0       0.634845       33.361624   \n",
       "std         11327.618389                0.0       1.225362        0.116064   \n",
       "min             0.000000                0.0       0.000000       33.243432   \n",
       "25%             0.000000                0.0       0.000000       33.254214   \n",
       "50%             0.000000                0.0       0.000000       33.272222   \n",
       "75%             0.000000                0.0       0.000000       33.492718   \n",
       "max         50000.000000                0.0       3.000000       33.521399   \n",
       "\n",
       "       start_longitude   end_latitude  end_longitude  \n",
       "count    291241.000000  291241.000000  291241.000000  \n",
       "mean        126.512946      33.361651     126.512919  \n",
       "std           0.061478       0.116067       0.061344  \n",
       "min         126.303780      33.243432     126.303780  \n",
       "25%         126.476508      33.254214     126.476508  \n",
       "50%         126.512046      33.272222     126.512046  \n",
       "75%         126.561830      33.492718     126.561830  \n",
       "max         126.912948      33.521399     126.912948  "
      ]
     },
     "execution_count": 19,
     "metadata": {},
     "output_type": "execute_result"
    }
   ],
   "source": [
    "test.describe()"
   ]
  },
  {
   "cell_type": "markdown",
   "id": "843880b2",
   "metadata": {},
   "source": [
    "- 각 피처들 하나씩살펴보기"
   ]
  },
  {
   "cell_type": "markdown",
   "id": "b367a81a",
   "metadata": {},
   "source": [
    "##### 1. base_hour 시간대"
   ]
  },
  {
   "cell_type": "code",
   "execution_count": 22,
   "id": "8cce2938",
   "metadata": {},
   "outputs": [
    {
     "data": {
      "text/plain": [
       "15    214541\n",
       "13    214297\n",
       "14    214182\n",
       "12    211833\n",
       "19    209870\n",
       "11    208515\n",
       "16    208420\n",
       "17    208377\n",
       "18    207500\n",
       "10    206316\n",
       "9     205327\n",
       "20    205059\n",
       "21    203585\n",
       "8     201875\n",
       "22    200629\n",
       "7     199061\n",
       "6     189418\n",
       "23    184229\n",
       "1     182353\n",
       "5     181128\n",
       "2     169322\n",
       "4     165284\n",
       "3     155938\n",
       "0     154158\n",
       "Name: base_hour, dtype: int64"
      ]
     },
     "execution_count": 22,
     "metadata": {},
     "output_type": "execute_result"
    }
   ],
   "source": [
    "train['base_hour'].value_counts()"
   ]
  },
  {
   "cell_type": "code",
   "execution_count": 28,
   "id": "69f22cf6",
   "metadata": {},
   "outputs": [
    {
     "name": "stdout",
     "output_type": "stream",
     "text": [
      "AxesSubplot(0.125,0.11;0.775x0.77)\n"
     ]
    },
    {
     "data": {
      "image/png": "[encoded data removed]",
      "text/plain": [
       "<Figure size 640x480 with 1 Axes>"
      ]
     },
     "metadata": {},
     "output_type": "display_data"
    }
   ],
   "source": [
    "import seaborn as sns\n",
    "base_hour = train.groupby('base_hour')['target'].mean()\n",
    "print(sns.barplot(x=base_hour.index, y=base_hour.values ))"
   ]
  },
  {
   "cell_type": "markdown",
   "id": "1bbf3ecc",
   "metadata": {},
   "source": [
    "- 0~5시가 가장 평균 속도가 높음(차량 수 상대적으로 ↓)\n",
    "\n",
    "\n",
    "- 17~18시가 평균 속도 가장 낮음(차량 수 상대적으로 ↑)"
   ]
  },
  {
   "cell_type": "markdown",
   "id": "3ee85cad",
   "metadata": {},
   "source": [
    "##### 2. lane_count 차로 수"
   ]
  },
  {
   "cell_type": "code",
   "execution_count": 30,
   "id": "9a6d6494",
   "metadata": {},
   "outputs": [
    {
     "data": {
      "text/plain": [
       "2    2352092\n",
       "1    1558531\n",
       "3     790594\n",
       "Name: lane_count, dtype: int64"
      ]
     },
     "execution_count": 30,
     "metadata": {},
     "output_type": "execute_result"
    }
   ],
   "source": [
    "train['lane_count'].value_counts()"
   ]
  },
  {
   "cell_type": "code",
   "execution_count": 32,
   "id": "8b2901b3",
   "metadata": {
    "scrolled": false
   },
   "outputs": [
    {
     "data": {
      "text/plain": [
       "<AxesSubplot: xlabel='lane_count'>"
      ]
     },
     "execution_count": 32,
     "metadata": {},
     "output_type": "execute_result"
    },
    {
     "data": {
      "image/png": "[encoded data removed]",
      "text/plain": [
       "<Figure size 640x480 with 1 Axes>"
      ]
     },
     "metadata": {},
     "output_type": "display_data"
    }
   ],
   "source": [
    "lane_count = train.groupby('lane_count')['target'].mean()\n",
    "sns.barplot(x=lane_count.index, y=lane_count.values)"
   ]
  },
  {
   "cell_type": "markdown",
   "id": "f8e3420d",
   "metadata": {},
   "source": [
    "- 차로 수가 2개일 때, 평균 속도가 상대적으로 높음\n",
    "\n",
    "\n",
    "- 차로 수가 3개일 때는 상대적으로 낮음"
   ]
  },
  {
   "cell_type": "markdown",
   "id": "86db3a4b",
   "metadata": {},
   "source": [
    "##### 3. road_rating 도로 등급"
   ]
  },
  {
   "cell_type": "code",
   "execution_count": 33,
   "id": "f59d81eb",
   "metadata": {},
   "outputs": [
    {
     "name": "stdout",
     "output_type": "stream",
     "text": [
      "2    2352092\n",
      "1    1558531\n",
      "3     790594\n",
      "Name: lane_count, dtype: int64\n"
     ]
    },
    {
     "data": {
      "text/plain": [
       "<AxesSubplot: xlabel='road_rating'>"
      ]
     },
     "execution_count": 33,
     "metadata": {},
     "output_type": "execute_result"
    },
    {
     "data": {
      "image/png": "[encoded data removed]",
      "text/plain": [
       "<Figure size 640x480 with 1 Axes>"
      ]
     },
     "metadata": {},
     "output_type": "display_data"
    }
   ],
   "source": [
    "print(train['lane_count'].value_counts())\n",
    "\n",
    "road_rating = train.groupby('road_rating')['target'].mean()\n",
    "sns.barplot(x=road_rating.index, y=road_rating.values)"
   ]
  },
  {
   "cell_type": "markdown",
   "id": "cc788f98",
   "metadata": {},
   "source": [
    "- 도로등급: 103(일반 국도), 106(지방도), 107(시/군도)\n",
    "\n",
    "\n",
    "- 도로 등급이 106(지방도)일 때, 평균 속도가 상대적으로 높음\n",
    "\n",
    "\n",
    "- 도로 등급이 107(시/군도)일 때, 상대적으로 낮음"
   ]
  },
  {
   "cell_type": "markdown",
   "id": "0d65d2c5",
   "metadata": {},
   "source": [
    "##### 4. multi_linked 중용구간"
   ]
  },
  {
   "cell_type": "code",
   "execution_count": 34,
   "id": "2c787f08",
   "metadata": {},
   "outputs": [
    {
     "data": {
      "text/plain": [
       "0    4698978\n",
       "1       2239\n",
       "Name: multi_linked, dtype: int64"
      ]
     },
     "execution_count": 34,
     "metadata": {},
     "output_type": "execute_result"
    }
   ],
   "source": [
    "train['multi_linked'].value_counts()"
   ]
  },
  {
   "cell_type": "markdown",
   "id": "08c4e586",
   "metadata": {},
   "source": [
    "- 중용구간이 '있음'과 '없음'이 차이가 매우 큼 >> 제거하는게 좋을 듯"
   ]
  },
  {
   "cell_type": "code",
   "execution_count": 40,
   "id": "e8336f15",
   "metadata": {},
   "outputs": [],
   "source": [
    "train = train.drop('multi_linked', axis=1)\n",
    "test = test.drop('multi_linked', axis=1)"
   ]
  },
  {
   "cell_type": "markdown",
   "id": "6329255e",
   "metadata": {},
   "source": [
    "##### 5. connect_code 연결로 코드"
   ]
  },
  {
   "cell_type": "code",
   "execution_count": 35,
   "id": "63cbecd0",
   "metadata": {},
   "outputs": [
    {
     "data": {
      "text/plain": [
       "0      4689075\n",
       "103      12142\n",
       "Name: connect_code, dtype: int64"
      ]
     },
     "execution_count": 35,
     "metadata": {},
     "output_type": "execute_result"
    }
   ],
   "source": [
    "train['connect_code'].value_counts()"
   ]
  },
  {
   "cell_type": "markdown",
   "id": "cb1d515b",
   "metadata": {},
   "source": [
    "- 연결로 코드 0(없음)과 103(있음)의 차이가 매우 큼 >> 마찬가지로 제거"
   ]
  },
  {
   "cell_type": "code",
   "execution_count": 41,
   "id": "12f45a1f",
   "metadata": {},
   "outputs": [],
   "source": [
    "train = train.drop('connect_code', axis=1)\n",
    "test = test.drop('connect_code', axis=1)"
   ]
  },
  {
   "cell_type": "markdown",
   "id": "89400583",
   "metadata": {},
   "source": [
    "##### 6. maximum_speed_limit 최대 속도 제한"
   ]
  },
  {
   "cell_type": "code",
   "execution_count": 49,
   "id": "9f3906b9",
   "metadata": {},
   "outputs": [
    {
     "name": "stdout",
     "output_type": "stream",
     "text": [
      "maximum_speed_limit\n",
      "30.0    32.220825\n",
      "40.0    62.774080\n",
      "50.0    35.492231\n",
      "60.0    42.316287\n",
      "70.0    41.366208\n",
      "80.0    60.703696\n",
      "Name: target, dtype: float64\n"
     ]
    },
    {
     "data": {
      "text/plain": [
       "<AxesSubplot: xlabel='maximum_speed_limit'>"
      ]
     },
     "execution_count": 49,
     "metadata": {},
     "output_type": "execute_result"
    },
    {
     "data": {
      "image/png": "[encoded data removed]",
      "text/plain": [
       "<Figure size 640x480 with 1 Axes>"
      ]
     },
     "metadata": {},
     "output_type": "display_data"
    }
   ],
   "source": [
    "train['maximum_speed_limit'].value_counts()\n",
    "msl = train.groupby('maximum_speed_limit')['target'].mean()\n",
    "print(msl)\n",
    "sns.barplot(x=msl.index, y=msl.values)"
   ]
  },
  {
   "cell_type": "markdown",
   "id": "8f462526",
   "metadata": {},
   "source": [
    "- 최대 속도 제한이 40, 80인 도로에서 평균 속도가 상대적으로 높음\n",
    "\n",
    "\n",
    "- 최대 속도 제한이 30인 도로에서 상대적으로 낮음"
   ]
  },
  {
   "cell_type": "code",
   "execution_count": 51,
   "id": "f79c68b5",
   "metadata": {},
   "outputs": [
    {
     "data": {
      "text/plain": [
       "<AxesSubplot: xlabel='maximum_speed_limit', ylabel='target'>"
      ]
     },
     "execution_count": 51,
     "metadata": {},
     "output_type": "execute_result"
    },
    {
     "data": {
      "image/png": "[encoded data removed]",
      "text/plain": [
       "<Figure size 640x480 with 1 Axes>"
      ]
     },
     "metadata": {},
     "output_type": "display_data"
    }
   ],
   "source": [
    "sns.boxplot(train, x='maximum_speed_limit', y='target')"
   ]
  },
  {
   "cell_type": "markdown",
   "id": "53581f38",
   "metadata": {},
   "source": [
    "- 각 속도 제한 마다 이상치가 매우 많음"
   ]
  },
  {
   "cell_type": "markdown",
   "id": "b0ab21b0",
   "metadata": {},
   "source": [
    "##### 7. vehicle_restricted 통과 제한 차량"
   ]
  },
  {
   "cell_type": "code",
   "execution_count": 39,
   "id": "c947a46e",
   "metadata": {},
   "outputs": [
    {
     "data": {
      "text/plain": [
       "0.0    4701217\n",
       "Name: vehicle_restricted, dtype: int64"
      ]
     },
     "execution_count": 39,
     "metadata": {},
     "output_type": "execute_result"
    }
   ],
   "source": [
    "train['vehicle_restricted'].value_counts()"
   ]
  },
  {
   "cell_type": "markdown",
   "id": "adb3f666",
   "metadata": {},
   "source": [
    "- 유일값이 0.0으로 1개임 >> 제거"
   ]
  },
  {
   "cell_type": "code",
   "execution_count": 42,
   "id": "9a1ba537",
   "metadata": {},
   "outputs": [],
   "source": [
    "train = train.drop('vehicle_restricted', axis=1)\n",
    "test = test.drop('vehicle_restricted', axis=1)"
   ]
  },
  {
   "cell_type": "markdown",
   "id": "8711eab0",
   "metadata": {},
   "source": [
    "##### 8. weight_restricted\t통과 제한 하중"
   ]
  },
  {
   "cell_type": "code",
   "execution_count": 48,
   "id": "eb3525b7",
   "metadata": {},
   "outputs": [
    {
     "name": "stdout",
     "output_type": "stream",
     "text": [
      "0.0        4032874\n",
      "43200.0     410361\n",
      "32400.0     239305\n",
      "50000.0      18677\n",
      "Name: weight_restricted, dtype: int64\n",
      "weight_restricted\n",
      "0.0        40.955696\n",
      "32400.0    47.453350\n",
      "43200.0    57.883888\n",
      "50000.0    47.088665\n",
      "Name: target, dtype: float64\n"
     ]
    }
   ],
   "source": [
    "print(train['weight_restricted'].value_counts())\n",
    "print(train.groupby('weight_restricted')['target'].mean())"
   ]
  },
  {
   "cell_type": "markdown",
   "id": "c1489647",
   "metadata": {},
   "source": [
    "- 통과 제한 하중이 없을 때(0일 때) 평균 속도가 높음"
   ]
  },
  {
   "cell_type": "markdown",
   "id": "9ed4fc1f",
   "metadata": {},
   "source": [
    "##### 9. height_restricted 통과 제한 높이"
   ]
  },
  {
   "cell_type": "code",
   "execution_count": 45,
   "id": "baf59631",
   "metadata": {},
   "outputs": [
    {
     "data": {
      "text/plain": [
       "0.0    4701217\n",
       "Name: height_restricted, dtype: int64"
      ]
     },
     "execution_count": 45,
     "metadata": {},
     "output_type": "execute_result"
    }
   ],
   "source": [
    "train['height_restricted'].value_counts()"
   ]
  },
  {
   "cell_type": "markdown",
   "id": "ec78a410",
   "metadata": {},
   "source": [
    "- 유일값이 0.0으로 1개임 >> 제거"
   ]
  },
  {
   "cell_type": "code",
   "execution_count": 46,
   "id": "b9854816",
   "metadata": {},
   "outputs": [],
   "source": [
    "train = train.drop('height_restricted', axis=1)\n",
    "test = test.drop('height_restricted', axis=1)"
   ]
  },
  {
   "cell_type": "markdown",
   "id": "b37e66e9",
   "metadata": {},
   "source": [
    "##### 10. road_type 도로 유형"
   ]
  },
  {
   "cell_type": "code",
   "execution_count": 53,
   "id": "ec3317e5",
   "metadata": {
    "scrolled": false
   },
   "outputs": [
    {
     "name": "stdout",
     "output_type": "stream",
     "text": [
      "0    3737117\n",
      "3     964100\n",
      "Name: road_type, dtype: int64\n",
      "road_type\n",
      "0    41.160930\n",
      "3    49.097125\n",
      "Name: target, dtype: float64\n",
      "AxesSubplot(0.125,0.11;0.775x0.77)\n"
     ]
    },
    {
     "data": {
      "image/png": "[encoded data removed]",
      "text/plain": [
       "<Figure size 640x480 with 1 Axes>"
      ]
     },
     "metadata": {},
     "output_type": "display_data"
    }
   ],
   "source": [
    "print(train['road_type'].value_counts())\n",
    "road_type = train.groupby('road_type')['target'].mean()\n",
    "print(road_type)\n",
    "print(sns.barplot(x=road_type.index, y=road_type.values))"
   ]
  },
  {
   "cell_type": "markdown",
   "id": "ffce5f81",
   "metadata": {},
   "source": [
    "- 도로 유형이 3일 때 평균 속도가 상대적으로 높음"
   ]
  },
  {
   "cell_type": "markdown",
   "id": "861b807b",
   "metadata": {},
   "source": [
    "##### 11. road_name 도로명"
   ]
  },
  {
   "cell_type": "code",
   "execution_count": 56,
   "id": "8d7f1cf2",
   "metadata": {},
   "outputs": [
    {
     "name": "stdout",
     "output_type": "stream",
     "text": [
      "일반국도12호선    1046092\n",
      "-            569463\n",
      "일반국도16호선     554510\n",
      "일반국도95호선     248181\n",
      "일반국도11호선     215701\n",
      "             ...   \n",
      "애원로            7718\n",
      "아봉로            7342\n",
      "남조로            6813\n",
      "호서중앙로          2819\n",
      "호근로             587\n",
      "Name: road_name, Length: 61, dtype: int64\n"
     ]
    }
   ],
   "source": [
    "print(train['road_name'].value_counts())"
   ]
  },
  {
   "cell_type": "markdown",
   "id": "ec1a0a68",
   "metadata": {},
   "source": [
    "- 도로명 결측치가 569,463개 있음"
   ]
  },
  {
   "cell_type": "markdown",
   "id": "b553f8c4",
   "metadata": {},
   "source": [
    "##### 12. day_of_week 요일"
   ]
  },
  {
   "cell_type": "code",
   "execution_count": 66,
   "id": "359597ab",
   "metadata": {},
   "outputs": [
    {
     "name": "stdout",
     "output_type": "stream",
     "text": [
      "금    684024\n",
      "수    675583\n",
      "목    674070\n",
      "일    673632\n",
      "토    669767\n",
      "화    662498\n",
      "월    661643\n",
      "Name: day_of_week, dtype: int64\n",
      "day_of_week\n",
      "금    42.450328\n",
      "목    42.768345\n",
      "수    42.770372\n",
      "월    42.761365\n",
      "일    43.179300\n",
      "토    42.894117\n",
      "화    42.699198\n",
      "Name: target, dtype: float64\n"
     ]
    },
    {
     "ename": "ValueError",
     "evalue": "DataFrame constructor not properly called!",
     "output_type": "error",
     "traceback": [
      "\u001b[1;31m---------------------------------------------------------------------------\u001b[0m",
      "\u001b[1;31mValueError\u001b[0m                                Traceback (most recent call last)",
      "\u001b[1;32m~\\AppData\\Local\\Temp\\ipykernel_33008\\4123446922.py\u001b[0m in \u001b[0;36m<module>\u001b[1;34m\u001b[0m\n\u001b[0;32m      4\u001b[0m \u001b[0mday_name\u001b[0m \u001b[1;33m=\u001b[0m \u001b[1;33m[\u001b[0m\u001b[1;34m'mon'\u001b[0m\u001b[1;33m,\u001b[0m \u001b[1;34m'tue'\u001b[0m\u001b[1;33m,\u001b[0m \u001b[1;34m'wed'\u001b[0m\u001b[1;33m,\u001b[0m \u001b[1;34m'thu'\u001b[0m\u001b[1;33m,\u001b[0m \u001b[1;34m'fri'\u001b[0m\u001b[1;33m,\u001b[0m \u001b[1;34m'sat'\u001b[0m\u001b[1;33m,\u001b[0m \u001b[1;34m'sun'\u001b[0m\u001b[1;33m]\u001b[0m\u001b[1;33m\u001b[0m\u001b[1;33m\u001b[0m\u001b[0m\n\u001b[0;32m      5\u001b[0m \u001b[1;33m\u001b[0m\u001b[0m\n\u001b[1;32m----> 6\u001b[1;33m \u001b[0mday\u001b[0m \u001b[1;33m=\u001b[0m \u001b[0mpd\u001b[0m\u001b[1;33m.\u001b[0m\u001b[0mDataFrame\u001b[0m\u001b[1;33m(\u001b[0m\u001b[0mtrain\u001b[0m\u001b[1;33m[\u001b[0m\u001b[1;34m'day_of_week'\u001b[0m\u001b[1;33m]\u001b[0m\u001b[1;33m.\u001b[0m\u001b[0mvalue_counts\u001b[0m\u001b[1;33m(\u001b[0m\u001b[1;33m)\u001b[0m\u001b[1;33m.\u001b[0m\u001b[0mmean\u001b[0m\u001b[1;33m(\u001b[0m\u001b[1;33m)\u001b[0m\u001b[1;33m,\u001b[0m \u001b[0mcolumns\u001b[0m\u001b[1;33m=\u001b[0m\u001b[0mday_name\u001b[0m\u001b[1;33m)\u001b[0m\u001b[1;33m\u001b[0m\u001b[1;33m\u001b[0m\u001b[0m\n\u001b[0m\u001b[0;32m      7\u001b[0m \u001b[0mday\u001b[0m\u001b[1;33m\u001b[0m\u001b[1;33m\u001b[0m\u001b[0m\n",
      "\u001b[1;32m~\\anaconda3\\envs\\test\\lib\\site-packages\\pandas\\core\\frame.py\u001b[0m in \u001b[0;36m__init__\u001b[1;34m(self, data, index, columns, dtype, copy)\u001b[0m\n\u001b[0;32m    778\u001b[0m         \u001b[1;32melse\u001b[0m\u001b[1;33m:\u001b[0m\u001b[1;33m\u001b[0m\u001b[1;33m\u001b[0m\u001b[0m\n\u001b[0;32m    779\u001b[0m             \u001b[1;32mif\u001b[0m \u001b[0mindex\u001b[0m \u001b[1;32mis\u001b[0m \u001b[1;32mNone\u001b[0m \u001b[1;32mor\u001b[0m \u001b[0mcolumns\u001b[0m \u001b[1;32mis\u001b[0m \u001b[1;32mNone\u001b[0m\u001b[1;33m:\u001b[0m\u001b[1;33m\u001b[0m\u001b[1;33m\u001b[0m\u001b[0m\n\u001b[1;32m--> 780\u001b[1;33m                 \u001b[1;32mraise\u001b[0m \u001b[0mValueError\u001b[0m\u001b[1;33m(\u001b[0m\u001b[1;34m\"DataFrame constructor not properly called!\"\u001b[0m\u001b[1;33m)\u001b[0m\u001b[1;33m\u001b[0m\u001b[1;33m\u001b[0m\u001b[0m\n\u001b[0m\u001b[0;32m    781\u001b[0m \u001b[1;33m\u001b[0m\u001b[0m\n\u001b[0;32m    782\u001b[0m             \u001b[0mindex\u001b[0m \u001b[1;33m=\u001b[0m \u001b[0mensure_index\u001b[0m\u001b[1;33m(\u001b[0m\u001b[0mindex\u001b[0m\u001b[1;33m)\u001b[0m\u001b[1;33m\u001b[0m\u001b[1;33m\u001b[0m\u001b[0m\n",
      "\u001b[1;31mValueError\u001b[0m: DataFrame constructor not properly called!"
     ]
    }
   ],
   "source": [
    "print(train['day_of_week'].value_counts())\n",
    "print(train.groupby('day_of_week')['target'].mean())\n",
    "\n",
    "day = ['mon', 'tue', 'wed', 'thu', 'fri', 'sat', 'sun']\n",
    "\n",
    "import matplotlib.pyploy as plt\n",
    "\n",
    "\n",
    "sns.barplot(x='')"
   ]
  },
  {
   "cell_type": "code",
   "execution_count": null,
   "id": "f319ef74",
   "metadata": {},
   "outputs": [],
   "source": []
  },
  {
   "cell_type": "code",
   "execution_count": null,
   "id": "df243f6f",
   "metadata": {},
   "outputs": [],
   "source": []
  },
  {
   "cell_type": "code",
   "execution_count": null,
   "id": "65e8d386",
   "metadata": {},
   "outputs": [],
   "source": []
  },
  {
   "cell_type": "code",
   "execution_count": null,
   "id": "f7c1e2d4",
   "metadata": {},
   "outputs": [],
   "source": []
  },
  {
   "cell_type": "code",
   "execution_count": 59,
   "id": "a618fc84",
   "metadata": {},
   "outputs": [],
   "source": [
    "X_train = train.drop(['id', 'base_date', 'road_name', 'start_node_name', 'end_node_name'], axis=1)\n",
    "y_train = train['target']"
   ]
  }
 ],
 "metadata": {
  "kernelspec": {
   "display_name": "Python 3 (ipykernel)",
   "language": "python",
   "name": "python3"
  },
  "language_info": {
   "codemirror_mode": {
    "name": "ipython",
    "version": 3
   },
   "file_extension": ".py",
   "mimetype": "text/x-python",
   "name": "python",
   "nbconvert_exporter": "python",
   "pygments_lexer": "ipython3",
   "version": "3.10.9"
  }
 },
 "nbformat": 4,
 "nbformat_minor": 5
}
