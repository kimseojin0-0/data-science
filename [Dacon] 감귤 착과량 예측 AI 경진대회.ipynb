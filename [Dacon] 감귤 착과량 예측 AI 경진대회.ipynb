{
 "cells": [
  {
   "cell_type": "markdown",
   "id": "2cd8da5c",
   "metadata": {},
   "source": [
    "### 감귤 착과량 예측 AI 경진대회\n",
    "\n",
    "https://dacon.io/competitions/official/236038/overview/description\n",
    "\n",
    "\n",
    "- ID : 과수나무 고유 ID\n",
    "\n",
    "- 착과량(int) : 실제 감귤 착과량 (Target)\n",
    "\n",
    "- 나무 생육 상태 Features (5개): 수고(m), 수관폭1(min), 수관폭2(max), 수관폭평균(수관폭1과 수관폭2의 평균) (데이터 기입은 cm 단위)\n",
    "\n",
    "- 새순 Features (89개): 2022년 09월 01일 ~ 2022년 11월 28일에 일별 측정된 새순 데이터\n",
    "\n",
    "- 엽록소 Features (89개): 2022년 09월 01일 ~ 2022년 11월 28일에 일별 측정된 엽록소 데이터\n",
    "\n"
   ]
  },
  {
   "cell_type": "code",
   "execution_count": null,
   "id": "9e490625",
   "metadata": {},
   "outputs": [],
   "source": []
  }
 ],
 "metadata": {
  "kernelspec": {
   "display_name": "Python 3 (ipykernel)",
   "language": "python",
   "name": "python3"
  },
  "language_info": {
   "codemirror_mode": {
    "name": "ipython",
    "version": 3
   },
   "file_extension": ".py",
   "mimetype": "text/x-python",
   "name": "python",
   "nbconvert_exporter": "python",
   "pygments_lexer": "ipython3",
   "version": "3.10.9"
  }
 },
 "nbformat": 4,
 "nbformat_minor": 5
}
