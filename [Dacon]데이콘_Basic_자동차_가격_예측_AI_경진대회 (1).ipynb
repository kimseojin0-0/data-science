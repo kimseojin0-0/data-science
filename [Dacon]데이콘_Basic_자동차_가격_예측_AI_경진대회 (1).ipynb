{
  "nbformat": 4,
  "nbformat_minor": 0,
  "metadata": {
    "colab": {
      "provenance": []
    },
    "kernelspec": {
      "name": "python3",
      "display_name": "Python 3"
    },
    "language_info": {
      "name": "python"
    }
  },
  "cells": [
    {
      "cell_type": "markdown",
      "source": [
        "### 데이콘 Basic 자동차 가격 예측 AI 경진대회\n",
        "\n",
        "- https://dacon.io/competitions/official/236114/overview/description\n",
        "\n",
        "-  2023.06.12 ~ 2023.06.26 10:00\n",
        "\n",
        "- 자동차 가격을 예측하는 AI 알고리즘 개발\n",
        "\n",
        "  - 자동차 생산년도, 브랜드, 종류 등 자동차와 관련된 데이터를 활용하여 자동차 가격을 예측하는 AI 모델을 개발\n"
      ],
      "metadata": {
        "id": "SnKn6dT7fhhX"
      }
    },
    {
      "cell_type": "markdown",
      "source": [
        "#### 라이브러리 정의"
      ],
      "metadata": {
        "id": "JjYgp4xBlAQn"
      }
    },
    {
      "cell_type": "code",
      "execution_count": 1,
      "metadata": {
        "id": "4C4hyrycePAv"
      },
      "outputs": [],
      "source": [
        "import pandas as pd\n",
        "import random\n",
        "random.seed(30)\n",
        "import os\n",
        "import numpy as np\n",
        "import seaborn as sns\n",
        "import matplotlib.pyplot as plt\n",
        "import warnings\n",
        "warnings.filterwarnings('ignore')"
      ]
    },
    {
      "cell_type": "code",
      "source": [
        "#한글 폰트 사용을 위해\n",
        "!sudo apt-get install -y fonts-nanum\n",
        "!sudo fc-cache -fv\n",
        "!rm ~/.cache/matplotlib -rf"
      ],
      "metadata": {
        "colab": {
          "base_uri": "https://localhost:8080/"
        },
        "id": "d_68OtIihIYw",
        "outputId": "ffe10274-a718-45aa-a291-33356a2a8684"
      },
      "execution_count": 31,
      "outputs": [
        {
          "output_type": "stream",
          "name": "stdout",
          "text": [
            "Reading package lists... Done\n",
            "Building dependency tree       \n",
            "Reading state information... Done\n",
            "fonts-nanum is already the newest version (20180306-3).\n",
            "0 upgraded, 0 newly installed, 0 to remove and 15 not upgraded.\n",
            "/usr/share/fonts: caching, new cache contents: 0 fonts, 1 dirs\n",
            "/usr/share/fonts/truetype: caching, new cache contents: 0 fonts, 3 dirs\n",
            "/usr/share/fonts/truetype/humor-sans: caching, new cache contents: 1 fonts, 0 dirs\n",
            "/usr/share/fonts/truetype/liberation: caching, new cache contents: 16 fonts, 0 dirs\n",
            "/usr/share/fonts/truetype/nanum: caching, new cache contents: 10 fonts, 0 dirs\n",
            "/usr/local/share/fonts: caching, new cache contents: 0 fonts, 0 dirs\n",
            "/root/.local/share/fonts: skipping, no such directory\n",
            "/root/.fonts: skipping, no such directory\n",
            "/usr/share/fonts/truetype: skipping, looped directory detected\n",
            "/usr/share/fonts/truetype/humor-sans: skipping, looped directory detected\n",
            "/usr/share/fonts/truetype/liberation: skipping, looped directory detected\n",
            "/usr/share/fonts/truetype/nanum: skipping, looped directory detected\n",
            "/var/cache/fontconfig: cleaning cache directory\n",
            "/root/.cache/fontconfig: not cleaning non-existent cache directory\n",
            "/root/.fontconfig: not cleaning non-existent cache directory\n",
            "fc-cache: succeeded\n"
          ]
        }
      ]
    },
    {
      "cell_type": "markdown",
      "source": [
        "#### 데이터 불러오기"
      ],
      "metadata": {
        "id": "iBN0elkPlCOZ"
      }
    },
    {
      "cell_type": "code",
      "source": [
        "train = pd.read_csv('/content/train.csv')\n",
        "test = pd.read_csv('/content/test.csv')\n",
        "\n",
        "display(train.head(), test.head())"
      ],
      "metadata": {
        "colab": {
          "base_uri": "https://localhost:8080/",
          "height": 667
        },
        "id": "gc3fK-BvhQRx",
        "outputId": "40a1f618-4a68-450d-e85e-f3fe89219514"
      },
      "execution_count": 2,
      "outputs": [
        {
          "output_type": "display_data",
          "data": {
            "text/plain": [
              "            ID  생산년도  모델출시년도            브랜드      차량모델명 판매도시 판매구역    주행거리  \\\n",
              "0  TRAIN_00000  2018    2014          skoda      fabia  KAT  SLA   85231   \n",
              "1  TRAIN_00001  2010    2006         toyota      auris  RKO  SWI  135000   \n",
              "2  TRAIN_00002  2002    2002  mercedes-benz  clk-klasa  GNI  WIE  255223   \n",
              "3  TRAIN_00003  2006    2001         nissan    x-trail  EHX  WIE  238000   \n",
              "4  TRAIN_00004  2007    2007           fiat      bravo  OSW  MAL  251000   \n",
              "\n",
              "    배기량  압축천연가스(CNG)  경유  가솔린  하이브리드  액화석유가스(LPG)     가격  \n",
              "0   999            0   0    1      0            0  51.74  \n",
              "1  1598            0   0    1      0            0  41.47  \n",
              "2  1796            0   0    1      0            0  17.81  \n",
              "3  2184            0   1    0      0            0  18.20  \n",
              "4  1910            0   1    0      0            0  17.55  "
            ],
            "text/html": [
              "\n",
              "  <div id=\"df-2dc6e22d-a657-457a-bb8b-248f024abd4e\">\n",
              "    <div class=\"colab-df-container\">\n",
              "      <div>\n",
              "<style scoped>\n",
              "    .dataframe tbody tr th:only-of-type {\n",
              "        vertical-align: middle;\n",
              "    }\n",
              "\n",
              "    .dataframe tbody tr th {\n",
              "        vertical-align: top;\n",
              "    }\n",
              "\n",
              "    .dataframe thead th {\n",
              "        text-align: right;\n",
              "    }\n",
              "</style>\n",
              "<table border=\"1\" class=\"dataframe\">\n",
              "  <thead>\n",
              "    <tr style=\"text-align: right;\">\n",
              "      <th></th>\n",
              "      <th>ID</th>\n",
              "      <th>생산년도</th>\n",
              "      <th>모델출시년도</th>\n",
              "      <th>브랜드</th>\n",
              "      <th>차량모델명</th>\n",
              "      <th>판매도시</th>\n",
              "      <th>판매구역</th>\n",
              "      <th>주행거리</th>\n",
              "      <th>배기량</th>\n",
              "      <th>압축천연가스(CNG)</th>\n",
              "      <th>경유</th>\n",
              "      <th>가솔린</th>\n",
              "      <th>하이브리드</th>\n",
              "      <th>액화석유가스(LPG)</th>\n",
              "      <th>가격</th>\n",
              "    </tr>\n",
              "  </thead>\n",
              "  <tbody>\n",
              "    <tr>\n",
              "      <th>0</th>\n",
              "      <td>TRAIN_00000</td>\n",
              "      <td>2018</td>\n",
              "      <td>2014</td>\n",
              "      <td>skoda</td>\n",
              "      <td>fabia</td>\n",
              "      <td>KAT</td>\n",
              "      <td>SLA</td>\n",
              "      <td>85231</td>\n",
              "      <td>999</td>\n",
              "      <td>0</td>\n",
              "      <td>0</td>\n",
              "      <td>1</td>\n",
              "      <td>0</td>\n",
              "      <td>0</td>\n",
              "      <td>51.74</td>\n",
              "    </tr>\n",
              "    <tr>\n",
              "      <th>1</th>\n",
              "      <td>TRAIN_00001</td>\n",
              "      <td>2010</td>\n",
              "      <td>2006</td>\n",
              "      <td>toyota</td>\n",
              "      <td>auris</td>\n",
              "      <td>RKO</td>\n",
              "      <td>SWI</td>\n",
              "      <td>135000</td>\n",
              "      <td>1598</td>\n",
              "      <td>0</td>\n",
              "      <td>0</td>\n",
              "      <td>1</td>\n",
              "      <td>0</td>\n",
              "      <td>0</td>\n",
              "      <td>41.47</td>\n",
              "    </tr>\n",
              "    <tr>\n",
              "      <th>2</th>\n",
              "      <td>TRAIN_00002</td>\n",
              "      <td>2002</td>\n",
              "      <td>2002</td>\n",
              "      <td>mercedes-benz</td>\n",
              "      <td>clk-klasa</td>\n",
              "      <td>GNI</td>\n",
              "      <td>WIE</td>\n",
              "      <td>255223</td>\n",
              "      <td>1796</td>\n",
              "      <td>0</td>\n",
              "      <td>0</td>\n",
              "      <td>1</td>\n",
              "      <td>0</td>\n",
              "      <td>0</td>\n",
              "      <td>17.81</td>\n",
              "    </tr>\n",
              "    <tr>\n",
              "      <th>3</th>\n",
              "      <td>TRAIN_00003</td>\n",
              "      <td>2006</td>\n",
              "      <td>2001</td>\n",
              "      <td>nissan</td>\n",
              "      <td>x-trail</td>\n",
              "      <td>EHX</td>\n",
              "      <td>WIE</td>\n",
              "      <td>238000</td>\n",
              "      <td>2184</td>\n",
              "      <td>0</td>\n",
              "      <td>1</td>\n",
              "      <td>0</td>\n",
              "      <td>0</td>\n",
              "      <td>0</td>\n",
              "      <td>18.20</td>\n",
              "    </tr>\n",
              "    <tr>\n",
              "      <th>4</th>\n",
              "      <td>TRAIN_00004</td>\n",
              "      <td>2007</td>\n",
              "      <td>2007</td>\n",
              "      <td>fiat</td>\n",
              "      <td>bravo</td>\n",
              "      <td>OSW</td>\n",
              "      <td>MAL</td>\n",
              "      <td>251000</td>\n",
              "      <td>1910</td>\n",
              "      <td>0</td>\n",
              "      <td>1</td>\n",
              "      <td>0</td>\n",
              "      <td>0</td>\n",
              "      <td>0</td>\n",
              "      <td>17.55</td>\n",
              "    </tr>\n",
              "  </tbody>\n",
              "</table>\n",
              "</div>\n",
              "      <button class=\"colab-df-convert\" onclick=\"convertToInteractive('df-2dc6e22d-a657-457a-bb8b-248f024abd4e')\"\n",
              "              title=\"Convert this dataframe to an interactive table.\"\n",
              "              style=\"display:none;\">\n",
              "        \n",
              "  <svg xmlns=\"http://www.w3.org/2000/svg\" height=\"24px\"viewBox=\"0 0 24 24\"\n",
              "       width=\"24px\">\n",
              "    <path d=\"M0 0h24v24H0V0z\" fill=\"none\"/>\n",
              "    <path d=\"M18.56 5.44l.94 2.06.94-2.06 2.06-.94-2.06-.94-.94-2.06-.94 2.06-2.06.94zm-11 1L8.5 8.5l.94-2.06 2.06-.94-2.06-.94L8.5 2.5l-.94 2.06-2.06.94zm10 10l.94 2.06.94-2.06 2.06-.94-2.06-.94-.94-2.06-.94 2.06-2.06.94z\"/><path d=\"M17.41 7.96l-1.37-1.37c-.4-.4-.92-.59-1.43-.59-.52 0-1.04.2-1.43.59L10.3 9.45l-7.72 7.72c-.78.78-.78 2.05 0 2.83L4 21.41c.39.39.9.59 1.41.59.51 0 1.02-.2 1.41-.59l7.78-7.78 2.81-2.81c.8-.78.8-2.07 0-2.86zM5.41 20L4 18.59l7.72-7.72 1.47 1.35L5.41 20z\"/>\n",
              "  </svg>\n",
              "      </button>\n",
              "      \n",
              "  <style>\n",
              "    .colab-df-container {\n",
              "      display:flex;\n",
              "      flex-wrap:wrap;\n",
              "      gap: 12px;\n",
              "    }\n",
              "\n",
              "    .colab-df-convert {\n",
              "      background-color: #E8F0FE;\n",
              "      border: none;\n",
              "      border-radius: 50%;\n",
              "      cursor: pointer;\n",
              "      display: none;\n",
              "      fill: #1967D2;\n",
              "      height: 32px;\n",
              "      padding: 0 0 0 0;\n",
              "      width: 32px;\n",
              "    }\n",
              "\n",
              "    .colab-df-convert:hover {\n",
              "      background-color: #E2EBFA;\n",
              "      box-shadow: 0px 1px 2px rgba(60, 64, 67, 0.3), 0px 1px 3px 1px rgba(60, 64, 67, 0.15);\n",
              "      fill: #174EA6;\n",
              "    }\n",
              "\n",
              "    [theme=dark] .colab-df-convert {\n",
              "      background-color: #3B4455;\n",
              "      fill: #D2E3FC;\n",
              "    }\n",
              "\n",
              "    [theme=dark] .colab-df-convert:hover {\n",
              "      background-color: #434B5C;\n",
              "      box-shadow: 0px 1px 3px 1px rgba(0, 0, 0, 0.15);\n",
              "      filter: drop-shadow(0px 1px 2px rgba(0, 0, 0, 0.3));\n",
              "      fill: #FFFFFF;\n",
              "    }\n",
              "  </style>\n",
              "\n",
              "      <script>\n",
              "        const buttonEl =\n",
              "          document.querySelector('#df-2dc6e22d-a657-457a-bb8b-248f024abd4e button.colab-df-convert');\n",
              "        buttonEl.style.display =\n",
              "          google.colab.kernel.accessAllowed ? 'block' : 'none';\n",
              "\n",
              "        async function convertToInteractive(key) {\n",
              "          const element = document.querySelector('#df-2dc6e22d-a657-457a-bb8b-248f024abd4e');\n",
              "          const dataTable =\n",
              "            await google.colab.kernel.invokeFunction('convertToInteractive',\n",
              "                                                     [key], {});\n",
              "          if (!dataTable) return;\n",
              "\n",
              "          const docLinkHtml = 'Like what you see? Visit the ' +\n",
              "            '<a target=\"_blank\" href=https://colab.research.google.com/notebooks/data_table.ipynb>data table notebook</a>'\n",
              "            + ' to learn more about interactive tables.';\n",
              "          element.innerHTML = '';\n",
              "          dataTable['output_type'] = 'display_data';\n",
              "          await google.colab.output.renderOutput(dataTable, element);\n",
              "          const docLink = document.createElement('div');\n",
              "          docLink.innerHTML = docLinkHtml;\n",
              "          element.appendChild(docLink);\n",
              "        }\n",
              "      </script>\n",
              "    </div>\n",
              "  </div>\n",
              "  "
            ]
          },
          "metadata": {}
        },
        {
          "output_type": "display_data",
          "data": {
            "text/plain": [
              "           ID  생산년도  모델출시년도         브랜드   차량모델명 판매도시 판매구역    주행거리   배기량  \\\n",
              "0  TEST_00000  2017    2013       mazda       3  KAL  WIE   57000  1998   \n",
              "1  TEST_00001  2011    2008        ford  fiesta  ROP  POD  159000  1242   \n",
              "2  TEST_00002  2019    2017  volkswagen    polo  LOD  LOD   11284   999   \n",
              "3  TEST_00003  2021    2016     renault  megane  JAW  SLA       9  1332   \n",
              "4  TEST_00004  2010    2011       volvo     v60  WEJ  POM  270000  1999   \n",
              "\n",
              "   압축천연가스(CNG)  경유  가솔린  하이브리드  액화석유가스(LPG)  \n",
              "0            0   0    1      0            0  \n",
              "1            0   0    1      0            0  \n",
              "2            0   0    1      0            0  \n",
              "3            0   0    1      0            0  \n",
              "4            0   0    1      0            0  "
            ],
            "text/html": [
              "\n",
              "  <div id=\"df-d9369740-c00c-4915-83f3-4caa2ac70975\">\n",
              "    <div class=\"colab-df-container\">\n",
              "      <div>\n",
              "<style scoped>\n",
              "    .dataframe tbody tr th:only-of-type {\n",
              "        vertical-align: middle;\n",
              "    }\n",
              "\n",
              "    .dataframe tbody tr th {\n",
              "        vertical-align: top;\n",
              "    }\n",
              "\n",
              "    .dataframe thead th {\n",
              "        text-align: right;\n",
              "    }\n",
              "</style>\n",
              "<table border=\"1\" class=\"dataframe\">\n",
              "  <thead>\n",
              "    <tr style=\"text-align: right;\">\n",
              "      <th></th>\n",
              "      <th>ID</th>\n",
              "      <th>생산년도</th>\n",
              "      <th>모델출시년도</th>\n",
              "      <th>브랜드</th>\n",
              "      <th>차량모델명</th>\n",
              "      <th>판매도시</th>\n",
              "      <th>판매구역</th>\n",
              "      <th>주행거리</th>\n",
              "      <th>배기량</th>\n",
              "      <th>압축천연가스(CNG)</th>\n",
              "      <th>경유</th>\n",
              "      <th>가솔린</th>\n",
              "      <th>하이브리드</th>\n",
              "      <th>액화석유가스(LPG)</th>\n",
              "    </tr>\n",
              "  </thead>\n",
              "  <tbody>\n",
              "    <tr>\n",
              "      <th>0</th>\n",
              "      <td>TEST_00000</td>\n",
              "      <td>2017</td>\n",
              "      <td>2013</td>\n",
              "      <td>mazda</td>\n",
              "      <td>3</td>\n",
              "      <td>KAL</td>\n",
              "      <td>WIE</td>\n",
              "      <td>57000</td>\n",
              "      <td>1998</td>\n",
              "      <td>0</td>\n",
              "      <td>0</td>\n",
              "      <td>1</td>\n",
              "      <td>0</td>\n",
              "      <td>0</td>\n",
              "    </tr>\n",
              "    <tr>\n",
              "      <th>1</th>\n",
              "      <td>TEST_00001</td>\n",
              "      <td>2011</td>\n",
              "      <td>2008</td>\n",
              "      <td>ford</td>\n",
              "      <td>fiesta</td>\n",
              "      <td>ROP</td>\n",
              "      <td>POD</td>\n",
              "      <td>159000</td>\n",
              "      <td>1242</td>\n",
              "      <td>0</td>\n",
              "      <td>0</td>\n",
              "      <td>1</td>\n",
              "      <td>0</td>\n",
              "      <td>0</td>\n",
              "    </tr>\n",
              "    <tr>\n",
              "      <th>2</th>\n",
              "      <td>TEST_00002</td>\n",
              "      <td>2019</td>\n",
              "      <td>2017</td>\n",
              "      <td>volkswagen</td>\n",
              "      <td>polo</td>\n",
              "      <td>LOD</td>\n",
              "      <td>LOD</td>\n",
              "      <td>11284</td>\n",
              "      <td>999</td>\n",
              "      <td>0</td>\n",
              "      <td>0</td>\n",
              "      <td>1</td>\n",
              "      <td>0</td>\n",
              "      <td>0</td>\n",
              "    </tr>\n",
              "    <tr>\n",
              "      <th>3</th>\n",
              "      <td>TEST_00003</td>\n",
              "      <td>2021</td>\n",
              "      <td>2016</td>\n",
              "      <td>renault</td>\n",
              "      <td>megane</td>\n",
              "      <td>JAW</td>\n",
              "      <td>SLA</td>\n",
              "      <td>9</td>\n",
              "      <td>1332</td>\n",
              "      <td>0</td>\n",
              "      <td>0</td>\n",
              "      <td>1</td>\n",
              "      <td>0</td>\n",
              "      <td>0</td>\n",
              "    </tr>\n",
              "    <tr>\n",
              "      <th>4</th>\n",
              "      <td>TEST_00004</td>\n",
              "      <td>2010</td>\n",
              "      <td>2011</td>\n",
              "      <td>volvo</td>\n",
              "      <td>v60</td>\n",
              "      <td>WEJ</td>\n",
              "      <td>POM</td>\n",
              "      <td>270000</td>\n",
              "      <td>1999</td>\n",
              "      <td>0</td>\n",
              "      <td>0</td>\n",
              "      <td>1</td>\n",
              "      <td>0</td>\n",
              "      <td>0</td>\n",
              "    </tr>\n",
              "  </tbody>\n",
              "</table>\n",
              "</div>\n",
              "      <button class=\"colab-df-convert\" onclick=\"convertToInteractive('df-d9369740-c00c-4915-83f3-4caa2ac70975')\"\n",
              "              title=\"Convert this dataframe to an interactive table.\"\n",
              "              style=\"display:none;\">\n",
              "        \n",
              "  <svg xmlns=\"http://www.w3.org/2000/svg\" height=\"24px\"viewBox=\"0 0 24 24\"\n",
              "       width=\"24px\">\n",
              "    <path d=\"M0 0h24v24H0V0z\" fill=\"none\"/>\n",
              "    <path d=\"M18.56 5.44l.94 2.06.94-2.06 2.06-.94-2.06-.94-.94-2.06-.94 2.06-2.06.94zm-11 1L8.5 8.5l.94-2.06 2.06-.94-2.06-.94L8.5 2.5l-.94 2.06-2.06.94zm10 10l.94 2.06.94-2.06 2.06-.94-2.06-.94-.94-2.06-.94 2.06-2.06.94z\"/><path d=\"M17.41 7.96l-1.37-1.37c-.4-.4-.92-.59-1.43-.59-.52 0-1.04.2-1.43.59L10.3 9.45l-7.72 7.72c-.78.78-.78 2.05 0 2.83L4 21.41c.39.39.9.59 1.41.59.51 0 1.02-.2 1.41-.59l7.78-7.78 2.81-2.81c.8-.78.8-2.07 0-2.86zM5.41 20L4 18.59l7.72-7.72 1.47 1.35L5.41 20z\"/>\n",
              "  </svg>\n",
              "      </button>\n",
              "      \n",
              "  <style>\n",
              "    .colab-df-container {\n",
              "      display:flex;\n",
              "      flex-wrap:wrap;\n",
              "      gap: 12px;\n",
              "    }\n",
              "\n",
              "    .colab-df-convert {\n",
              "      background-color: #E8F0FE;\n",
              "      border: none;\n",
              "      border-radius: 50%;\n",
              "      cursor: pointer;\n",
              "      display: none;\n",
              "      fill: #1967D2;\n",
              "      height: 32px;\n",
              "      padding: 0 0 0 0;\n",
              "      width: 32px;\n",
              "    }\n",
              "\n",
              "    .colab-df-convert:hover {\n",
              "      background-color: #E2EBFA;\n",
              "      box-shadow: 0px 1px 2px rgba(60, 64, 67, 0.3), 0px 1px 3px 1px rgba(60, 64, 67, 0.15);\n",
              "      fill: #174EA6;\n",
              "    }\n",
              "\n",
              "    [theme=dark] .colab-df-convert {\n",
              "      background-color: #3B4455;\n",
              "      fill: #D2E3FC;\n",
              "    }\n",
              "\n",
              "    [theme=dark] .colab-df-convert:hover {\n",
              "      background-color: #434B5C;\n",
              "      box-shadow: 0px 1px 3px 1px rgba(0, 0, 0, 0.15);\n",
              "      filter: drop-shadow(0px 1px 2px rgba(0, 0, 0, 0.3));\n",
              "      fill: #FFFFFF;\n",
              "    }\n",
              "  </style>\n",
              "\n",
              "      <script>\n",
              "        const buttonEl =\n",
              "          document.querySelector('#df-d9369740-c00c-4915-83f3-4caa2ac70975 button.colab-df-convert');\n",
              "        buttonEl.style.display =\n",
              "          google.colab.kernel.accessAllowed ? 'block' : 'none';\n",
              "\n",
              "        async function convertToInteractive(key) {\n",
              "          const element = document.querySelector('#df-d9369740-c00c-4915-83f3-4caa2ac70975');\n",
              "          const dataTable =\n",
              "            await google.colab.kernel.invokeFunction('convertToInteractive',\n",
              "                                                     [key], {});\n",
              "          if (!dataTable) return;\n",
              "\n",
              "          const docLinkHtml = 'Like what you see? Visit the ' +\n",
              "            '<a target=\"_blank\" href=https://colab.research.google.com/notebooks/data_table.ipynb>data table notebook</a>'\n",
              "            + ' to learn more about interactive tables.';\n",
              "          element.innerHTML = '';\n",
              "          dataTable['output_type'] = 'display_data';\n",
              "          await google.colab.output.renderOutput(dataTable, element);\n",
              "          const docLink = document.createElement('div');\n",
              "          docLink.innerHTML = docLinkHtml;\n",
              "          element.appendChild(docLink);\n",
              "        }\n",
              "      </script>\n",
              "    </div>\n",
              "  </div>\n",
              "  "
            ]
          },
          "metadata": {}
        }
      ]
    },
    {
      "cell_type": "markdown",
      "source": [
        "#### 기본 정보 확인"
      ],
      "metadata": {
        "id": "7p-CCZNMlEpp"
      }
    },
    {
      "cell_type": "code",
      "source": [
        "display(train.info(), test.info())"
      ],
      "metadata": {
        "colab": {
          "base_uri": "https://localhost:8080/",
          "height": 831
        },
        "id": "ahY5K2w9horq",
        "outputId": "0cf58e72-0389-4f38-c304-f9cc18ce357e"
      },
      "execution_count": 3,
      "outputs": [
        {
          "output_type": "stream",
          "name": "stdout",
          "text": [
            "<class 'pandas.core.frame.DataFrame'>\n",
            "RangeIndex: 57920 entries, 0 to 57919\n",
            "Data columns (total 15 columns):\n",
            " #   Column       Non-Null Count  Dtype  \n",
            "---  ------       --------------  -----  \n",
            " 0   ID           57920 non-null  object \n",
            " 1   생산년도         57920 non-null  int64  \n",
            " 2   모델출시년도       57920 non-null  int64  \n",
            " 3   브랜드          57920 non-null  object \n",
            " 4   차량모델명        57920 non-null  object \n",
            " 5   판매도시         57920 non-null  object \n",
            " 6   판매구역         57920 non-null  object \n",
            " 7   주행거리         57920 non-null  int64  \n",
            " 8   배기량          57920 non-null  int64  \n",
            " 9   압축천연가스(CNG)  57920 non-null  int64  \n",
            " 10  경유           57920 non-null  int64  \n",
            " 11  가솔린          57920 non-null  int64  \n",
            " 12  하이브리드        57920 non-null  int64  \n",
            " 13  액화석유가스(LPG)  57920 non-null  int64  \n",
            " 14  가격           57920 non-null  float64\n",
            "dtypes: float64(1), int64(9), object(5)\n",
            "memory usage: 6.6+ MB\n",
            "<class 'pandas.core.frame.DataFrame'>\n",
            "RangeIndex: 14480 entries, 0 to 14479\n",
            "Data columns (total 14 columns):\n",
            " #   Column       Non-Null Count  Dtype \n",
            "---  ------       --------------  ----- \n",
            " 0   ID           14480 non-null  object\n",
            " 1   생산년도         14480 non-null  int64 \n",
            " 2   모델출시년도       14480 non-null  int64 \n",
            " 3   브랜드          14480 non-null  object\n",
            " 4   차량모델명        14480 non-null  object\n",
            " 5   판매도시         14480 non-null  object\n",
            " 6   판매구역         14480 non-null  object\n",
            " 7   주행거리         14480 non-null  int64 \n",
            " 8   배기량          14480 non-null  int64 \n",
            " 9   압축천연가스(CNG)  14480 non-null  int64 \n",
            " 10  경유           14480 non-null  int64 \n",
            " 11  가솔린          14480 non-null  int64 \n",
            " 12  하이브리드        14480 non-null  int64 \n",
            " 13  액화석유가스(LPG)  14480 non-null  int64 \n",
            "dtypes: int64(9), object(5)\n",
            "memory usage: 1.5+ MB\n"
          ]
        },
        {
          "output_type": "display_data",
          "data": {
            "text/plain": [
              "None"
            ]
          },
          "metadata": {}
        },
        {
          "output_type": "display_data",
          "data": {
            "text/plain": [
              "None"
            ]
          },
          "metadata": {}
        }
      ]
    },
    {
      "cell_type": "code",
      "source": [
        "display(train.isna().sum(), test.isna().sum())"
      ],
      "metadata": {
        "colab": {
          "base_uri": "https://localhost:8080/",
          "height": 578
        },
        "id": "Wdl2UKYIhyR1",
        "outputId": "017dec34-8482-4571-c61c-5eb4eff25297"
      },
      "execution_count": 4,
      "outputs": [
        {
          "output_type": "display_data",
          "data": {
            "text/plain": [
              "ID             0\n",
              "생산년도           0\n",
              "모델출시년도         0\n",
              "브랜드            0\n",
              "차량모델명          0\n",
              "판매도시           0\n",
              "판매구역           0\n",
              "주행거리           0\n",
              "배기량            0\n",
              "압축천연가스(CNG)    0\n",
              "경유             0\n",
              "가솔린            0\n",
              "하이브리드          0\n",
              "액화석유가스(LPG)    0\n",
              "가격             0\n",
              "dtype: int64"
            ]
          },
          "metadata": {}
        },
        {
          "output_type": "display_data",
          "data": {
            "text/plain": [
              "ID             0\n",
              "생산년도           0\n",
              "모델출시년도         0\n",
              "브랜드            0\n",
              "차량모델명          0\n",
              "판매도시           0\n",
              "판매구역           0\n",
              "주행거리           0\n",
              "배기량            0\n",
              "압축천연가스(CNG)    0\n",
              "경유             0\n",
              "가솔린            0\n",
              "하이브리드          0\n",
              "액화석유가스(LPG)    0\n",
              "dtype: int64"
            ]
          },
          "metadata": {}
        }
      ]
    },
    {
      "cell_type": "code",
      "source": [
        "train.describe()"
      ],
      "metadata": {
        "colab": {
          "base_uri": "https://localhost:8080/",
          "height": 381
        },
        "id": "RR-QdnAHiDgy",
        "outputId": "0f67a9c7-7fd7-48a3-921f-447373e597d5"
      },
      "execution_count": 5,
      "outputs": [
        {
          "output_type": "execute_result",
          "data": {
            "text/plain": [
              "               생산년도        모델출시년도          주행거리           배기량   압축천연가스(CNG)  \\\n",
              "count  57920.000000  57920.000000  5.792000e+04  57920.000000  57920.000000   \n",
              "mean    2011.355352   2008.033408  1.678691e+05   1788.160135      0.000483   \n",
              "std        5.174108      5.087963  8.319120e+04    545.413818      0.021982   \n",
              "min     1978.000000   1983.000000  1.000000e+00    875.000000      0.000000   \n",
              "25%     2008.000000   2004.000000  1.114345e+05   1461.000000      0.000000   \n",
              "50%     2011.000000   2008.000000  1.710000e+05   1753.000000      0.000000   \n",
              "75%     2016.000000   2012.000000  2.200000e+05   1995.000000      0.000000   \n",
              "max     2022.000000   2021.000000  2.500000e+06   6300.000000      1.000000   \n",
              "\n",
              "                 경유           가솔린         하이브리드   액화석유가스(LPG)            가격  \n",
              "count  57920.000000  57920.000000  57920.000000  57920.000000  57920.000000  \n",
              "mean       0.425242      0.517956      0.010290      0.046029     52.211752  \n",
              "std        0.494384      0.499682      0.100918      0.209550     35.399718  \n",
              "min        0.000000      0.000000      0.000000      0.000000      1.170000  \n",
              "25%        0.000000      0.000000      0.000000      0.000000     24.570000  \n",
              "50%        0.000000      1.000000      0.000000      0.000000     42.250000  \n",
              "75%        1.000000      1.000000      0.000000      0.000000     73.970000  \n",
              "max        1.000000      1.000000      1.000000      1.000000    156.000000  "
            ],
            "text/html": [
              "\n",
              "  <div id=\"df-64ce96be-b752-4328-b8e2-a3a09367f2a4\">\n",
              "    <div class=\"colab-df-container\">\n",
              "      <div>\n",
              "<style scoped>\n",
              "    .dataframe tbody tr th:only-of-type {\n",
              "        vertical-align: middle;\n",
              "    }\n",
              "\n",
              "    .dataframe tbody tr th {\n",
              "        vertical-align: top;\n",
              "    }\n",
              "\n",
              "    .dataframe thead th {\n",
              "        text-align: right;\n",
              "    }\n",
              "</style>\n",
              "<table border=\"1\" class=\"dataframe\">\n",
              "  <thead>\n",
              "    <tr style=\"text-align: right;\">\n",
              "      <th></th>\n",
              "      <th>생산년도</th>\n",
              "      <th>모델출시년도</th>\n",
              "      <th>주행거리</th>\n",
              "      <th>배기량</th>\n",
              "      <th>압축천연가스(CNG)</th>\n",
              "      <th>경유</th>\n",
              "      <th>가솔린</th>\n",
              "      <th>하이브리드</th>\n",
              "      <th>액화석유가스(LPG)</th>\n",
              "      <th>가격</th>\n",
              "    </tr>\n",
              "  </thead>\n",
              "  <tbody>\n",
              "    <tr>\n",
              "      <th>count</th>\n",
              "      <td>57920.000000</td>\n",
              "      <td>57920.000000</td>\n",
              "      <td>5.792000e+04</td>\n",
              "      <td>57920.000000</td>\n",
              "      <td>57920.000000</td>\n",
              "      <td>57920.000000</td>\n",
              "      <td>57920.000000</td>\n",
              "      <td>57920.000000</td>\n",
              "      <td>57920.000000</td>\n",
              "      <td>57920.000000</td>\n",
              "    </tr>\n",
              "    <tr>\n",
              "      <th>mean</th>\n",
              "      <td>2011.355352</td>\n",
              "      <td>2008.033408</td>\n",
              "      <td>1.678691e+05</td>\n",
              "      <td>1788.160135</td>\n",
              "      <td>0.000483</td>\n",
              "      <td>0.425242</td>\n",
              "      <td>0.517956</td>\n",
              "      <td>0.010290</td>\n",
              "      <td>0.046029</td>\n",
              "      <td>52.211752</td>\n",
              "    </tr>\n",
              "    <tr>\n",
              "      <th>std</th>\n",
              "      <td>5.174108</td>\n",
              "      <td>5.087963</td>\n",
              "      <td>8.319120e+04</td>\n",
              "      <td>545.413818</td>\n",
              "      <td>0.021982</td>\n",
              "      <td>0.494384</td>\n",
              "      <td>0.499682</td>\n",
              "      <td>0.100918</td>\n",
              "      <td>0.209550</td>\n",
              "      <td>35.399718</td>\n",
              "    </tr>\n",
              "    <tr>\n",
              "      <th>min</th>\n",
              "      <td>1978.000000</td>\n",
              "      <td>1983.000000</td>\n",
              "      <td>1.000000e+00</td>\n",
              "      <td>875.000000</td>\n",
              "      <td>0.000000</td>\n",
              "      <td>0.000000</td>\n",
              "      <td>0.000000</td>\n",
              "      <td>0.000000</td>\n",
              "      <td>0.000000</td>\n",
              "      <td>1.170000</td>\n",
              "    </tr>\n",
              "    <tr>\n",
              "      <th>25%</th>\n",
              "      <td>2008.000000</td>\n",
              "      <td>2004.000000</td>\n",
              "      <td>1.114345e+05</td>\n",
              "      <td>1461.000000</td>\n",
              "      <td>0.000000</td>\n",
              "      <td>0.000000</td>\n",
              "      <td>0.000000</td>\n",
              "      <td>0.000000</td>\n",
              "      <td>0.000000</td>\n",
              "      <td>24.570000</td>\n",
              "    </tr>\n",
              "    <tr>\n",
              "      <th>50%</th>\n",
              "      <td>2011.000000</td>\n",
              "      <td>2008.000000</td>\n",
              "      <td>1.710000e+05</td>\n",
              "      <td>1753.000000</td>\n",
              "      <td>0.000000</td>\n",
              "      <td>0.000000</td>\n",
              "      <td>1.000000</td>\n",
              "      <td>0.000000</td>\n",
              "      <td>0.000000</td>\n",
              "      <td>42.250000</td>\n",
              "    </tr>\n",
              "    <tr>\n",
              "      <th>75%</th>\n",
              "      <td>2016.000000</td>\n",
              "      <td>2012.000000</td>\n",
              "      <td>2.200000e+05</td>\n",
              "      <td>1995.000000</td>\n",
              "      <td>0.000000</td>\n",
              "      <td>1.000000</td>\n",
              "      <td>1.000000</td>\n",
              "      <td>0.000000</td>\n",
              "      <td>0.000000</td>\n",
              "      <td>73.970000</td>\n",
              "    </tr>\n",
              "    <tr>\n",
              "      <th>max</th>\n",
              "      <td>2022.000000</td>\n",
              "      <td>2021.000000</td>\n",
              "      <td>2.500000e+06</td>\n",
              "      <td>6300.000000</td>\n",
              "      <td>1.000000</td>\n",
              "      <td>1.000000</td>\n",
              "      <td>1.000000</td>\n",
              "      <td>1.000000</td>\n",
              "      <td>1.000000</td>\n",
              "      <td>156.000000</td>\n",
              "    </tr>\n",
              "  </tbody>\n",
              "</table>\n",
              "</div>\n",
              "      <button class=\"colab-df-convert\" onclick=\"convertToInteractive('df-64ce96be-b752-4328-b8e2-a3a09367f2a4')\"\n",
              "              title=\"Convert this dataframe to an interactive table.\"\n",
              "              style=\"display:none;\">\n",
              "        \n",
              "  <svg xmlns=\"http://www.w3.org/2000/svg\" height=\"24px\"viewBox=\"0 0 24 24\"\n",
              "       width=\"24px\">\n",
              "    <path d=\"M0 0h24v24H0V0z\" fill=\"none\"/>\n",
              "    <path d=\"M18.56 5.44l.94 2.06.94-2.06 2.06-.94-2.06-.94-.94-2.06-.94 2.06-2.06.94zm-11 1L8.5 8.5l.94-2.06 2.06-.94-2.06-.94L8.5 2.5l-.94 2.06-2.06.94zm10 10l.94 2.06.94-2.06 2.06-.94-2.06-.94-.94-2.06-.94 2.06-2.06.94z\"/><path d=\"M17.41 7.96l-1.37-1.37c-.4-.4-.92-.59-1.43-.59-.52 0-1.04.2-1.43.59L10.3 9.45l-7.72 7.72c-.78.78-.78 2.05 0 2.83L4 21.41c.39.39.9.59 1.41.59.51 0 1.02-.2 1.41-.59l7.78-7.78 2.81-2.81c.8-.78.8-2.07 0-2.86zM5.41 20L4 18.59l7.72-7.72 1.47 1.35L5.41 20z\"/>\n",
              "  </svg>\n",
              "      </button>\n",
              "      \n",
              "  <style>\n",
              "    .colab-df-container {\n",
              "      display:flex;\n",
              "      flex-wrap:wrap;\n",
              "      gap: 12px;\n",
              "    }\n",
              "\n",
              "    .colab-df-convert {\n",
              "      background-color: #E8F0FE;\n",
              "      border: none;\n",
              "      border-radius: 50%;\n",
              "      cursor: pointer;\n",
              "      display: none;\n",
              "      fill: #1967D2;\n",
              "      height: 32px;\n",
              "      padding: 0 0 0 0;\n",
              "      width: 32px;\n",
              "    }\n",
              "\n",
              "    .colab-df-convert:hover {\n",
              "      background-color: #E2EBFA;\n",
              "      box-shadow: 0px 1px 2px rgba(60, 64, 67, 0.3), 0px 1px 3px 1px rgba(60, 64, 67, 0.15);\n",
              "      fill: #174EA6;\n",
              "    }\n",
              "\n",
              "    [theme=dark] .colab-df-convert {\n",
              "      background-color: #3B4455;\n",
              "      fill: #D2E3FC;\n",
              "    }\n",
              "\n",
              "    [theme=dark] .colab-df-convert:hover {\n",
              "      background-color: #434B5C;\n",
              "      box-shadow: 0px 1px 3px 1px rgba(0, 0, 0, 0.15);\n",
              "      filter: drop-shadow(0px 1px 2px rgba(0, 0, 0, 0.3));\n",
              "      fill: #FFFFFF;\n",
              "    }\n",
              "  </style>\n",
              "\n",
              "      <script>\n",
              "        const buttonEl =\n",
              "          document.querySelector('#df-64ce96be-b752-4328-b8e2-a3a09367f2a4 button.colab-df-convert');\n",
              "        buttonEl.style.display =\n",
              "          google.colab.kernel.accessAllowed ? 'block' : 'none';\n",
              "\n",
              "        async function convertToInteractive(key) {\n",
              "          const element = document.querySelector('#df-64ce96be-b752-4328-b8e2-a3a09367f2a4');\n",
              "          const dataTable =\n",
              "            await google.colab.kernel.invokeFunction('convertToInteractive',\n",
              "                                                     [key], {});\n",
              "          if (!dataTable) return;\n",
              "\n",
              "          const docLinkHtml = 'Like what you see? Visit the ' +\n",
              "            '<a target=\"_blank\" href=https://colab.research.google.com/notebooks/data_table.ipynb>data table notebook</a>'\n",
              "            + ' to learn more about interactive tables.';\n",
              "          element.innerHTML = '';\n",
              "          dataTable['output_type'] = 'display_data';\n",
              "          await google.colab.output.renderOutput(dataTable, element);\n",
              "          const docLink = document.createElement('div');\n",
              "          docLink.innerHTML = docLinkHtml;\n",
              "          element.appendChild(docLink);\n",
              "        }\n",
              "      </script>\n",
              "    </div>\n",
              "  </div>\n",
              "  "
            ]
          },
          "metadata": {},
          "execution_count": 5
        }
      ]
    },
    {
      "cell_type": "code",
      "source": [
        "train['브랜드'].value_counts()"
      ],
      "metadata": {
        "colab": {
          "base_uri": "https://localhost:8080/"
        },
        "id": "AIx-xHHemFPc",
        "outputId": "3efc895f-4f2f-4dde-a316-943b830b78ae"
      },
      "execution_count": 6,
      "outputs": [
        {
          "output_type": "execute_result",
          "data": {
            "text/plain": [
              "opel             6651\n",
              "ford             5819\n",
              "volkswagen       5693\n",
              "audi             5597\n",
              "bmw              5262\n",
              "renault          3853\n",
              "toyota           3259\n",
              "skoda            3130\n",
              "mercedes-benz    2899\n",
              "nissan           2129\n",
              "kia              2034\n",
              "hyundai          1855\n",
              "seat             1628\n",
              "mazda            1572\n",
              "honda            1545\n",
              "volvo            1352\n",
              "fiat             1164\n",
              "citroen          1129\n",
              "peugeot           793\n",
              "mitsubishi        556\n",
              "Name: 브랜드, dtype: int64"
            ]
          },
          "metadata": {},
          "execution_count": 6
        }
      ]
    },
    {
      "cell_type": "code",
      "source": [
        "train['차량모델명'].value_counts()"
      ],
      "metadata": {
        "colab": {
          "base_uri": "https://localhost:8080/"
        },
        "id": "oMlUrDGWmFNG",
        "outputId": "1a259080-63c1-4776-ef64-9670fbb47cec"
      },
      "execution_count": 7,
      "outputs": [
        {
          "output_type": "execute_result",
          "data": {
            "text/plain": [
              "astra        2537\n",
              "a4           2082\n",
              "seria-3      1998\n",
              "golf         1910\n",
              "focus        1647\n",
              "             ... \n",
              "omega          17\n",
              "frontera       14\n",
              "s3              7\n",
              "gle-klasa       2\n",
              "g-klasa         1\n",
              "Name: 차량모델명, Length: 143, dtype: int64"
            ]
          },
          "metadata": {},
          "execution_count": 7
        }
      ]
    },
    {
      "cell_type": "code",
      "source": [
        "train['판매도시'].value_counts()"
      ],
      "metadata": {
        "colab": {
          "base_uri": "https://localhost:8080/"
        },
        "id": "0Ddbn8LpmFKf",
        "outputId": "dda80393-9fd1-4bea-aed1-bb6c533b2fa8"
      },
      "execution_count": 8,
      "outputs": [
        {
          "output_type": "execute_result",
          "data": {
            "text/plain": [
              "WAR    3245\n",
              "KRA    1241\n",
              "WRO    1166\n",
              "LOD    1141\n",
              "POZ     987\n",
              "       ... \n",
              "MVH       1\n",
              "CIB       1\n",
              "CED       1\n",
              "FNQ       1\n",
              "ZDZ       1\n",
              "Name: 판매도시, Length: 3224, dtype: int64"
            ]
          },
          "metadata": {},
          "execution_count": 8
        }
      ]
    },
    {
      "cell_type": "code",
      "source": [
        "train['판매구역'].value_counts()"
      ],
      "metadata": {
        "colab": {
          "base_uri": "https://localhost:8080/"
        },
        "id": "41RwgJzdmS6v",
        "outputId": "aa47ed30-26f3-4f63-8bd3-78b37b67d1bf"
      },
      "execution_count": 9,
      "outputs": [
        {
          "output_type": "execute_result",
          "data": {
            "text/plain": [
              "MAZ    10846\n",
              "SLA     7655\n",
              "WIE     6910\n",
              "MAL     4746\n",
              "DOL     4603\n",
              "LOD     3581\n",
              "POM     3517\n",
              "KUJ     2628\n",
              "LUB     2598\n",
              "ZAC     2078\n",
              "POD     1849\n",
              "SWI     1789\n",
              "WAR     1569\n",
              "LUU     1427\n",
              "POL     1066\n",
              "OPO     1041\n",
              "MOR       17\n",
              "Name: 판매구역, dtype: int64"
            ]
          },
          "metadata": {},
          "execution_count": 9
        }
      ]
    },
    {
      "cell_type": "code",
      "source": [
        "train['판매구역'].nunique()\n",
        "#라벨 인코딩 가능"
      ],
      "metadata": {
        "colab": {
          "base_uri": "https://localhost:8080/"
        },
        "id": "qQ04CBp3mp6g",
        "outputId": "1e6902f5-1e9d-49ca-8ece-2dfa6a764947"
      },
      "execution_count": 10,
      "outputs": [
        {
          "output_type": "execute_result",
          "data": {
            "text/plain": [
              "17"
            ]
          },
          "metadata": {},
          "execution_count": 10
        }
      ]
    },
    {
      "cell_type": "code",
      "source": [
        "display(train['압축천연가스(CNG)'].value_counts(),\n",
        "        train['경유'].value_counts(),\n",
        "        train['가솔린'].value_counts(),\n",
        "        train['하이브리드'].value_counts(),\n",
        "        train['액화석유가스(LPG)'].value_counts())"
      ],
      "metadata": {
        "colab": {
          "base_uri": "https://localhost:8080/",
          "height": 288
        },
        "id": "gzMvNwq-nAqd",
        "outputId": "1b5db1e5-b550-420d-9f14-9c442f5b12bd"
      },
      "execution_count": 11,
      "outputs": [
        {
          "output_type": "display_data",
          "data": {
            "text/plain": [
              "0    57892\n",
              "1       28\n",
              "Name: 압축천연가스(CNG), dtype: int64"
            ]
          },
          "metadata": {}
        },
        {
          "output_type": "display_data",
          "data": {
            "text/plain": [
              "0    33290\n",
              "1    24630\n",
              "Name: 경유, dtype: int64"
            ]
          },
          "metadata": {}
        },
        {
          "output_type": "display_data",
          "data": {
            "text/plain": [
              "1    30000\n",
              "0    27920\n",
              "Name: 가솔린, dtype: int64"
            ]
          },
          "metadata": {}
        },
        {
          "output_type": "display_data",
          "data": {
            "text/plain": [
              "0    57324\n",
              "1      596\n",
              "Name: 하이브리드, dtype: int64"
            ]
          },
          "metadata": {}
        },
        {
          "output_type": "display_data",
          "data": {
            "text/plain": [
              "0    55254\n",
              "1     2666\n",
              "Name: 액화석유가스(LPG), dtype: int64"
            ]
          },
          "metadata": {}
        }
      ]
    },
    {
      "cell_type": "markdown",
      "source": [
        "#### 간단 EDA"
      ],
      "metadata": {
        "id": "KpjyFj4ElHaN"
      }
    },
    {
      "cell_type": "code",
      "source": [
        "#타겟값인 가격 칼럼 시각화\n",
        "sns.displot(train['가격'])\n",
        "plt.show()"
      ],
      "metadata": {
        "colab": {
          "base_uri": "https://localhost:8080/",
          "height": 506
        },
        "id": "XnyI560dlkKC",
        "outputId": "d9162d30-73a6-4092-c62c-822db0c4047d"
      },
      "execution_count": 12,
      "outputs": [
        {
          "output_type": "display_data",
          "data": {
            "text/plain": [
              "<Figure size 500x500 with 1 Axes>"
            ],
            "image/png": "[encoded data removed]"
          },
          "metadata": {}
        }
      ]
    },
    {
      "cell_type": "code",
      "source": [
        "plt.rc('font', family='NanumBarunGothic')\n",
        "plt.figure(figsize=(9,9))\n",
        "sns.heatmap(data=train.corr(), annot=True, cmap='Greens')"
      ],
      "metadata": {
        "colab": {
          "base_uri": "https://localhost:8080/",
          "height": 736
        },
        "id": "ZIK9L-JNiGys",
        "outputId": "227b634e-9647-4669-dc92-0a952aac4753"
      },
      "execution_count": 13,
      "outputs": [
        {
          "output_type": "execute_result",
          "data": {
            "text/plain": [
              "<Axes: >"
            ]
          },
          "metadata": {},
          "execution_count": 13
        },
        {
          "output_type": "display_data",
          "data": {
            "text/plain": [
              "<Figure size 900x900 with 2 Axes>"
            ],
            "image/png": "[encoded data removed]"
          },
          "metadata": {}
        }
      ]
    },
    {
      "cell_type": "markdown",
      "source": [
        "타겟값인 '가격'과 상관성이 높은 피처는 '생산년도'랑 '모델출시년도'"
      ],
      "metadata": {
        "id": "fnOVLUIajtk8"
      }
    },
    {
      "cell_type": "code",
      "source": [
        "#생산년도별 평균 가격 시각화\n",
        "plt.figure(figsize=(10,6))\n",
        "sns.barplot(data=train, x='생산년도', y='가격')\n",
        "plt.xticks(rotation=80)\n",
        "plt.show()"
      ],
      "metadata": {
        "colab": {
          "base_uri": "https://localhost:8080/",
          "height": 452
        },
        "id": "G-Qk14-OiW7_",
        "outputId": "d855fd6b-7c3e-425a-e5bf-21d0a302a2a1"
      },
      "execution_count": 14,
      "outputs": [
        {
          "output_type": "display_data",
          "data": {
            "text/plain": [
              "<Figure size 1000x600 with 1 Axes>"
            ],
            "image/png": "[encoded data removed]"
          },
          "metadata": {}
        }
      ]
    },
    {
      "cell_type": "markdown",
      "source": [
        "대체로 생산년도가 최근일수록 가격이 비쌈\n",
        "\n",
        "그러나 과거임에도 가격이 높거나 눈에 띄게 평균 가격이 낮은 1978년도, 1983년도, 1987년도, 1988년도 데이터는 좀 더 살펴보기"
      ],
      "metadata": {
        "id": "zXJkp6s8qhHK"
      }
    },
    {
      "cell_type": "code",
      "source": [
        "#모델출시년도별 평균 가격 시각화\n",
        "plt.figure(figsize=(10,6))\n",
        "sns.barplot(data=train, x='모델출시년도', y='가격')\n",
        "plt.xticks(rotation=80)\n",
        "plt.show()"
      ],
      "metadata": {
        "colab": {
          "base_uri": "https://localhost:8080/",
          "height": 452
        },
        "id": "xIQaPi1FkHib",
        "outputId": "b620c5ed-3d35-4b7c-cfdb-19ab88d486de"
      },
      "execution_count": 15,
      "outputs": [
        {
          "output_type": "display_data",
          "data": {
            "text/plain": [
              "<Figure size 1000x600 with 1 Axes>"
            ],
            "image/png": "[encoded data removed]"
          },
          "metadata": {}
        }
      ]
    },
    {
      "cell_type": "markdown",
      "source": [
        "대체로 출시년도가 최근일수록 가격이 높음\n",
        "\n",
        "그러나, 과거임에도 가격이 높거나 평균 가격이 매우 낮게 나오는 1989년도, 1991년도, 1992년도 데이터는 좀 더 살펴보기"
      ],
      "metadata": {
        "id": "5CoEJio_pjwo"
      }
    },
    {
      "cell_type": "code",
      "source": [
        "#이상치 확인\n",
        "fig, axes = plt.subplots(2,2, figsize = (7,10))\n",
        "\n",
        "sns.boxplot(y = train['주행거리'], ax = axes[0][0])\n",
        "sns.boxplot(y = train['배기량'], ax = axes[0][1])\n",
        "\n",
        "sns.boxplot(y = train['생산년도'], ax = axes[1][0])\n",
        "sns.boxplot(y = train['모델출시년도'], ax = axes[1][1])\n",
        "\n",
        "plt.tight_layout()\n",
        "plt.show()"
      ],
      "metadata": {
        "colab": {
          "base_uri": "https://localhost:8080/",
          "height": 987
        },
        "id": "164yHcG-l2tG",
        "outputId": "d8c7550e-af38-4eb2-9169-9de1ec8644f4"
      },
      "execution_count": 16,
      "outputs": [
        {
          "output_type": "display_data",
          "data": {
            "text/plain": [
              "<Figure size 700x1000 with 4 Axes>"
            ],
            "image/png": "[encoded data removed]"
          },
          "metadata": {}
        }
      ]
    },
    {
      "cell_type": "markdown",
      "source": [
        "#### AutoGluon 활용해보자\n",
        "\n",
        "  <참고 자료>\n",
        "\n",
        "- https://auto.gluon.ai/stable/index.html\n",
        "\n",
        "- https://dacon.io/competitions/official/236114/codeshare/8456?page=1&dtype=recent\n",
        "\n",
        "- https://dacon.io/codeshare/7764\n",
        "\n",
        "- https://dacon.io/competitions/official/236114/codeshare/8454?page=1&dtype=recent\n",
        "\n",
        "- https://sarah0518.tistory.com/89"
      ],
      "metadata": {
        "id": "X77Y1I1FpKMS"
      }
    },
    {
      "cell_type": "markdown",
      "source": [
        "- AutoGluon은 다양한 알고리즘으로, customized parameter 범위 내에서 최적의 알고리즘을 select해주는 기법이다\n",
        "\n",
        "- 각 알고리즘별 tuning parameter들을 세팅할 수 있는데, 하이퍼 파라미터에 대한 customize는 GBM, NN, RF, CAT에서만 가능하다"
      ],
      "metadata": {
        "id": "ZJQ9Qe8nK7W1"
      }
    },
    {
      "cell_type": "code",
      "source": [
        "!pip install autogluon"
      ],
      "metadata": {
        "id": "8z2LssKaooag",
        "colab": {
          "base_uri": "https://localhost:8080/"
        },
        "outputId": "4ce223f7-c02a-43ee-c2ce-783579e1d9e1"
      },
      "execution_count": 17,
      "outputs": [
        {
          "output_type": "stream",
          "name": "stdout",
          "text": [
            "Requirement already satisfied: autogluon in /usr/local/lib/python3.10/dist-packages (0.8.2)\n",
            "Requirement already satisfied: autogluon.core[all]==0.8.2 in /usr/local/lib/python3.10/dist-packages (from autogluon) (0.8.2)\n",
            "Requirement already satisfied: autogluon.features==0.8.2 in /usr/local/lib/python3.10/dist-packages (from autogluon) (0.8.2)\n",
            "Requirement already satisfied: autogluon.tabular[all]==0.8.2 in /usr/local/lib/python3.10/dist-packages (from autogluon) (0.8.2)\n",
            "Requirement already satisfied: autogluon.multimodal==0.8.2 in /usr/local/lib/python3.10/dist-packages (from autogluon) (0.8.2)\n",
            "Requirement already satisfied: autogluon.timeseries[all]==0.8.2 in /usr/local/lib/python3.10/dist-packages (from autogluon) (0.8.2)\n",
            "Requirement already satisfied: numpy<1.27,>=1.21 in /usr/local/lib/python3.10/dist-packages (from autogluon.core[all]==0.8.2->autogluon) (1.22.4)\n",
            "Requirement already satisfied: scipy<1.12,>=1.5.4 in /usr/local/lib/python3.10/dist-packages (from autogluon.core[all]==0.8.2->autogluon) (1.10.1)\n",
            "Requirement already satisfied: scikit-learn<1.3,>=1.0 in /usr/local/lib/python3.10/dist-packages (from autogluon.core[all]==0.8.2->autogluon) (1.2.2)\n",
            "Requirement already satisfied: networkx<4,>=3.0 in /usr/local/lib/python3.10/dist-packages (from autogluon.core[all]==0.8.2->autogluon) (3.1)\n",
            "Requirement already satisfied: pandas<1.6,>=1.4.1 in /usr/local/lib/python3.10/dist-packages (from autogluon.core[all]==0.8.2->autogluon) (1.5.3)\n",
            "Requirement already satisfied: tqdm<5,>=4.38 in /usr/local/lib/python3.10/dist-packages (from autogluon.core[all]==0.8.2->autogluon) (4.65.0)\n",
            "Requirement already satisfied: requests in /usr/local/lib/python3.10/dist-packages (from autogluon.core[all]==0.8.2->autogluon) (2.27.1)\n",
            "Requirement already satisfied: matplotlib in /usr/local/lib/python3.10/dist-packages (from autogluon.core[all]==0.8.2->autogluon) (3.7.1)\n",
            "Requirement already satisfied: boto3<2,>=1.10 in /usr/local/lib/python3.10/dist-packages (from autogluon.core[all]==0.8.2->autogluon) (1.26.165)\n",
            "Requirement already satisfied: autogluon.common==0.8.2 in /usr/local/lib/python3.10/dist-packages (from autogluon.core[all]==0.8.2->autogluon) (0.8.2)\n",
            "Requirement already satisfied: hyperopt<0.2.8,>=0.2.7 in /usr/local/lib/python3.10/dist-packages (from autogluon.core[all]==0.8.2->autogluon) (0.2.7)\n",
            "Requirement already satisfied: ray[default]<2.4,>=2.3 in /usr/local/lib/python3.10/dist-packages (from autogluon.core[all]==0.8.2->autogluon) (2.3.1)\n",
            "Requirement already satisfied: pydantic<2.0,>=1.10.4 in /usr/local/lib/python3.10/dist-packages (from autogluon.core[all]==0.8.2->autogluon) (1.10.9)\n",
            "Requirement already satisfied: grpcio<=1.50.0,>=1.42.0 in /usr/local/lib/python3.10/dist-packages (from autogluon.core[all]==0.8.2->autogluon) (1.50.0)\n",
            "Requirement already satisfied: Pillow<9.6,>=9.3 in /usr/local/lib/python3.10/dist-packages (from autogluon.multimodal==0.8.2->autogluon) (9.5.0)\n",
            "Requirement already satisfied: jsonschema<4.18,>=4.14 in /usr/local/lib/python3.10/dist-packages (from autogluon.multimodal==0.8.2->autogluon) (4.17.3)\n",
            "Requirement already satisfied: seqeval<1.3.0,>=1.2.2 in /usr/local/lib/python3.10/dist-packages (from autogluon.multimodal==0.8.2->autogluon) (1.2.2)\n",
            "Requirement already satisfied: evaluate<0.4.0,>=0.2.2 in /usr/local/lib/python3.10/dist-packages (from autogluon.multimodal==0.8.2->autogluon) (0.3.0)\n",
            "Requirement already satisfied: accelerate<0.17,>=0.9 in /usr/local/lib/python3.10/dist-packages (from autogluon.multimodal==0.8.2->autogluon) (0.16.0)\n",
            "Requirement already satisfied: timm<0.10.0,>=0.9.2 in /usr/local/lib/python3.10/dist-packages (from autogluon.multimodal==0.8.2->autogluon) (0.9.2)\n",
            "Requirement already satisfied: torch<1.14,>=1.9 in /usr/local/lib/python3.10/dist-packages (from autogluon.multimodal==0.8.2->autogluon) (1.13.1)\n",
            "Requirement already satisfied: torchvision<0.15.0 in /usr/local/lib/python3.10/dist-packages (from autogluon.multimodal==0.8.2->autogluon) (0.14.1)\n",
            "Requirement already satisfied: scikit-image<0.20.0,>=0.19.1 in /usr/local/lib/python3.10/dist-packages (from autogluon.multimodal==0.8.2->autogluon) (0.19.3)\n",
            "Requirement already satisfied: pytorch-lightning<1.10.0,>=1.9.0 in /usr/local/lib/python3.10/dist-packages (from autogluon.multimodal==0.8.2->autogluon) (1.9.5)\n",
            "Requirement already satisfied: text-unidecode<1.4,>=1.3 in /usr/local/lib/python3.10/dist-packages (from autogluon.multimodal==0.8.2->autogluon) (1.3)\n",
            "Requirement already satisfied: torchmetrics<0.12.0,>=0.11.0 in /usr/local/lib/python3.10/dist-packages (from autogluon.multimodal==0.8.2->autogluon) (0.11.4)\n",
            "Requirement already satisfied: transformers[sentencepiece]<4.27.0,>=4.23.0 in /usr/local/lib/python3.10/dist-packages (from autogluon.multimodal==0.8.2->autogluon) (4.26.1)\n",
            "Requirement already satisfied: nptyping<2.5.0,>=1.4.4 in /usr/local/lib/python3.10/dist-packages (from autogluon.multimodal==0.8.2->autogluon) (2.4.1)\n",
            "Requirement already satisfied: omegaconf<2.3.0,>=2.1.1 in /usr/local/lib/python3.10/dist-packages (from autogluon.multimodal==0.8.2->autogluon) (2.2.3)\n",
            "Requirement already satisfied: pytorch-metric-learning<2.0,>=1.3.0 in /usr/local/lib/python3.10/dist-packages (from autogluon.multimodal==0.8.2->autogluon) (1.7.3)\n",
            "Requirement already satisfied: nlpaug<1.2.0,>=1.1.10 in /usr/local/lib/python3.10/dist-packages (from autogluon.multimodal==0.8.2->autogluon) (1.1.11)\n",
            "Requirement already satisfied: nltk<4.0.0,>=3.4.5 in /usr/local/lib/python3.10/dist-packages (from autogluon.multimodal==0.8.2->autogluon) (3.8.1)\n",
            "Requirement already satisfied: openmim<0.4.0,>=0.3.7 in /usr/local/lib/python3.10/dist-packages (from autogluon.multimodal==0.8.2->autogluon) (0.3.9)\n",
            "Requirement already satisfied: defusedxml<0.7.2,>=0.7.1 in /usr/local/lib/python3.10/dist-packages (from autogluon.multimodal==0.8.2->autogluon) (0.7.1)\n",
            "Requirement already satisfied: jinja2<3.2,>=3.0.3 in /usr/local/lib/python3.10/dist-packages (from autogluon.multimodal==0.8.2->autogluon) (3.1.2)\n",
            "Requirement already satisfied: tensorboard<3,>=2.9 in /usr/local/lib/python3.10/dist-packages (from autogluon.multimodal==0.8.2->autogluon) (2.12.3)\n",
            "Requirement already satisfied: pytesseract<0.3.11,>=0.3.9 in /usr/local/lib/python3.10/dist-packages (from autogluon.multimodal==0.8.2->autogluon) (0.3.10)\n",
            "Requirement already satisfied: lightgbm<3.4,>=3.3 in /usr/local/lib/python3.10/dist-packages (from autogluon.tabular[all]==0.8.2->autogluon) (3.3.5)\n",
            "Requirement already satisfied: xgboost<1.8,>=1.6 in /usr/local/lib/python3.10/dist-packages (from autogluon.tabular[all]==0.8.2->autogluon) (1.7.6)\n",
            "Requirement already satisfied: fastai<2.8,>=2.3.1 in /usr/local/lib/python3.10/dist-packages (from autogluon.tabular[all]==0.8.2->autogluon) (2.7.12)\n",
            "Requirement already satisfied: catboost<1.3,>=1.1 in /usr/local/lib/python3.10/dist-packages (from autogluon.tabular[all]==0.8.2->autogluon) (1.2)\n",
            "Requirement already satisfied: joblib<2,>=1.1 in /usr/local/lib/python3.10/dist-packages (from autogluon.timeseries[all]==0.8.2->autogluon) (1.2.0)\n",
            "Requirement already satisfied: statsmodels<0.15,>=0.13.0 in /usr/local/lib/python3.10/dist-packages (from autogluon.timeseries[all]==0.8.2->autogluon) (0.13.5)\n",
            "Requirement already satisfied: gluonts<0.14,>=0.13.1 in /usr/local/lib/python3.10/dist-packages (from autogluon.timeseries[all]==0.8.2->autogluon) (0.13.2)\n",
            "Requirement already satisfied: statsforecast<1.5,>=1.4.0 in /usr/local/lib/python3.10/dist-packages (from autogluon.timeseries[all]==0.8.2->autogluon) (1.4.0)\n",
            "Requirement already satisfied: mlforecast<0.7.4,>=0.7.0 in /usr/local/lib/python3.10/dist-packages (from autogluon.timeseries[all]==0.8.2->autogluon) (0.7.3)\n",
            "Requirement already satisfied: ujson<6,>=5 in /usr/local/lib/python3.10/dist-packages (from autogluon.timeseries[all]==0.8.2->autogluon) (5.8.0)\n",
            "Requirement already satisfied: psutil<6,>=5.7.3 in /usr/local/lib/python3.10/dist-packages (from autogluon.common==0.8.2->autogluon.core[all]==0.8.2->autogluon) (5.9.5)\n",
            "Requirement already satisfied: setuptools in /usr/local/lib/python3.10/dist-packages (from autogluon.common==0.8.2->autogluon.core[all]==0.8.2->autogluon) (67.7.2)\n",
            "Requirement already satisfied: packaging>=20.0 in /usr/local/lib/python3.10/dist-packages (from accelerate<0.17,>=0.9->autogluon.multimodal==0.8.2->autogluon) (23.1)\n",
            "Requirement already satisfied: pyyaml in /usr/local/lib/python3.10/dist-packages (from accelerate<0.17,>=0.9->autogluon.multimodal==0.8.2->autogluon) (6.0)\n",
            "Requirement already satisfied: botocore<1.30.0,>=1.29.165 in /usr/local/lib/python3.10/dist-packages (from boto3<2,>=1.10->autogluon.core[all]==0.8.2->autogluon) (1.29.165)\n",
            "Requirement already satisfied: jmespath<2.0.0,>=0.7.1 in /usr/local/lib/python3.10/dist-packages (from boto3<2,>=1.10->autogluon.core[all]==0.8.2->autogluon) (1.0.1)\n",
            "Requirement already satisfied: s3transfer<0.7.0,>=0.6.0 in /usr/local/lib/python3.10/dist-packages (from boto3<2,>=1.10->autogluon.core[all]==0.8.2->autogluon) (0.6.1)\n",
            "Requirement already satisfied: graphviz in /usr/local/lib/python3.10/dist-packages (from catboost<1.3,>=1.1->autogluon.tabular[all]==0.8.2->autogluon) (0.20.1)\n",
            "Requirement already satisfied: plotly in /usr/local/lib/python3.10/dist-packages (from catboost<1.3,>=1.1->autogluon.tabular[all]==0.8.2->autogluon) (5.13.1)\n",
            "Requirement already satisfied: six in /usr/local/lib/python3.10/dist-packages (from catboost<1.3,>=1.1->autogluon.tabular[all]==0.8.2->autogluon) (1.16.0)\n",
            "Requirement already satisfied: datasets>=2.0.0 in /usr/local/lib/python3.10/dist-packages (from evaluate<0.4.0,>=0.2.2->autogluon.multimodal==0.8.2->autogluon) (2.13.1)\n",
            "Requirement already satisfied: dill in /usr/local/lib/python3.10/dist-packages (from evaluate<0.4.0,>=0.2.2->autogluon.multimodal==0.8.2->autogluon) (0.3.6)\n",
            "Requirement already satisfied: xxhash in /usr/local/lib/python3.10/dist-packages (from evaluate<0.4.0,>=0.2.2->autogluon.multimodal==0.8.2->autogluon) (3.2.0)\n",
            "Requirement already satisfied: multiprocess in /usr/local/lib/python3.10/dist-packages (from evaluate<0.4.0,>=0.2.2->autogluon.multimodal==0.8.2->autogluon) (0.70.14)\n",
            "Requirement already satisfied: fsspec[http]>=2021.05.0 in /usr/local/lib/python3.10/dist-packages (from evaluate<0.4.0,>=0.2.2->autogluon.multimodal==0.8.2->autogluon) (2023.6.0)\n",
            "Requirement already satisfied: huggingface-hub>=0.7.0 in /usr/local/lib/python3.10/dist-packages (from evaluate<0.4.0,>=0.2.2->autogluon.multimodal==0.8.2->autogluon) (0.15.1)\n",
            "Requirement already satisfied: responses<0.19 in /usr/local/lib/python3.10/dist-packages (from evaluate<0.4.0,>=0.2.2->autogluon.multimodal==0.8.2->autogluon) (0.18.0)\n",
            "Requirement already satisfied: pip in /usr/local/lib/python3.10/dist-packages (from fastai<2.8,>=2.3.1->autogluon.tabular[all]==0.8.2->autogluon) (23.1.2)\n",
            "Requirement already satisfied: fastdownload<2,>=0.0.5 in /usr/local/lib/python3.10/dist-packages (from fastai<2.8,>=2.3.1->autogluon.tabular[all]==0.8.2->autogluon) (0.0.7)\n",
            "Requirement already satisfied: fastcore<1.6,>=1.5.29 in /usr/local/lib/python3.10/dist-packages (from fastai<2.8,>=2.3.1->autogluon.tabular[all]==0.8.2->autogluon) (1.5.29)\n",
            "Requirement already satisfied: fastprogress>=0.2.4 in /usr/local/lib/python3.10/dist-packages (from fastai<2.8,>=2.3.1->autogluon.tabular[all]==0.8.2->autogluon) (1.0.3)\n",
            "Requirement already satisfied: spacy<4 in /usr/local/lib/python3.10/dist-packages (from fastai<2.8,>=2.3.1->autogluon.tabular[all]==0.8.2->autogluon) (3.5.3)\n",
            "Requirement already satisfied: toolz~=0.10 in /usr/local/lib/python3.10/dist-packages (from gluonts<0.14,>=0.13.1->autogluon.timeseries[all]==0.8.2->autogluon) (0.12.0)\n",
            "Requirement already satisfied: typing-extensions~=4.0 in /usr/local/lib/python3.10/dist-packages (from gluonts<0.14,>=0.13.1->autogluon.timeseries[all]==0.8.2->autogluon) (4.6.3)\n",
            "Requirement already satisfied: future in /usr/local/lib/python3.10/dist-packages (from hyperopt<0.2.8,>=0.2.7->autogluon.core[all]==0.8.2->autogluon) (0.18.3)\n",
            "Requirement already satisfied: cloudpickle in /usr/local/lib/python3.10/dist-packages (from hyperopt<0.2.8,>=0.2.7->autogluon.core[all]==0.8.2->autogluon) (2.2.1)\n",
            "Requirement already satisfied: py4j in /usr/local/lib/python3.10/dist-packages (from hyperopt<0.2.8,>=0.2.7->autogluon.core[all]==0.8.2->autogluon) (0.10.9.7)\n",
            "Requirement already satisfied: MarkupSafe>=2.0 in /usr/local/lib/python3.10/dist-packages (from jinja2<3.2,>=3.0.3->autogluon.multimodal==0.8.2->autogluon) (2.1.3)\n",
            "Requirement already satisfied: attrs>=17.4.0 in /usr/local/lib/python3.10/dist-packages (from jsonschema<4.18,>=4.14->autogluon.multimodal==0.8.2->autogluon) (23.1.0)\n",
            "Requirement already satisfied: pyrsistent!=0.17.0,!=0.17.1,!=0.17.2,>=0.14.0 in /usr/local/lib/python3.10/dist-packages (from jsonschema<4.18,>=4.14->autogluon.multimodal==0.8.2->autogluon) (0.19.3)\n",
            "Requirement already satisfied: wheel in /usr/local/lib/python3.10/dist-packages (from lightgbm<3.4,>=3.3->autogluon.tabular[all]==0.8.2->autogluon) (0.40.0)\n",
            "Requirement already satisfied: numba in /usr/local/lib/python3.10/dist-packages (from mlforecast<0.7.4,>=0.7.0->autogluon.timeseries[all]==0.8.2->autogluon) (0.56.4)\n",
            "Requirement already satisfied: window-ops in /usr/local/lib/python3.10/dist-packages (from mlforecast<0.7.4,>=0.7.0->autogluon.timeseries[all]==0.8.2->autogluon) (0.0.14)\n",
            "Requirement already satisfied: gdown>=4.0.0 in /usr/local/lib/python3.10/dist-packages (from nlpaug<1.2.0,>=1.1.10->autogluon.multimodal==0.8.2->autogluon) (4.6.6)\n",
            "Requirement already satisfied: click in /usr/local/lib/python3.10/dist-packages (from nltk<4.0.0,>=3.4.5->autogluon.multimodal==0.8.2->autogluon) (8.1.3)\n",
            "Requirement already satisfied: regex>=2021.8.3 in /usr/local/lib/python3.10/dist-packages (from nltk<4.0.0,>=3.4.5->autogluon.multimodal==0.8.2->autogluon) (2022.10.31)\n",
            "Requirement already satisfied: antlr4-python3-runtime==4.9.* in /usr/local/lib/python3.10/dist-packages (from omegaconf<2.3.0,>=2.1.1->autogluon.multimodal==0.8.2->autogluon) (4.9.3)\n",
            "Requirement already satisfied: colorama in /usr/local/lib/python3.10/dist-packages (from openmim<0.4.0,>=0.3.7->autogluon.multimodal==0.8.2->autogluon) (0.4.6)\n",
            "Requirement already satisfied: model-index in /usr/local/lib/python3.10/dist-packages (from openmim<0.4.0,>=0.3.7->autogluon.multimodal==0.8.2->autogluon) (0.1.11)\n",
            "Requirement already satisfied: opendatalab in /usr/local/lib/python3.10/dist-packages (from openmim<0.4.0,>=0.3.7->autogluon.multimodal==0.8.2->autogluon) (0.0.9)\n",
            "Requirement already satisfied: rich in /usr/local/lib/python3.10/dist-packages (from openmim<0.4.0,>=0.3.7->autogluon.multimodal==0.8.2->autogluon) (13.4.2)\n",
            "Requirement already satisfied: tabulate in /usr/local/lib/python3.10/dist-packages (from openmim<0.4.0,>=0.3.7->autogluon.multimodal==0.8.2->autogluon) (0.8.10)\n",
            "Requirement already satisfied: python-dateutil>=2.8.1 in /usr/local/lib/python3.10/dist-packages (from pandas<1.6,>=1.4.1->autogluon.core[all]==0.8.2->autogluon) (2.8.2)\n",
            "Requirement already satisfied: pytz>=2020.1 in /usr/local/lib/python3.10/dist-packages (from pandas<1.6,>=1.4.1->autogluon.core[all]==0.8.2->autogluon) (2022.7.1)\n",
            "Requirement already satisfied: lightning-utilities>=0.6.0.post0 in /usr/local/lib/python3.10/dist-packages (from pytorch-lightning<1.10.0,>=1.9.0->autogluon.multimodal==0.8.2->autogluon) (0.9.0)\n",
            "Requirement already satisfied: filelock in /usr/local/lib/python3.10/dist-packages (from ray[default]<2.4,>=2.3->autogluon.core[all]==0.8.2->autogluon) (3.12.2)\n",
            "Requirement already satisfied: msgpack<2.0.0,>=1.0.0 in /usr/local/lib/python3.10/dist-packages (from ray[default]<2.4,>=2.3->autogluon.core[all]==0.8.2->autogluon) (1.0.5)\n",
            "Requirement already satisfied: protobuf!=3.19.5,>=3.15.3 in /usr/local/lib/python3.10/dist-packages (from ray[default]<2.4,>=2.3->autogluon.core[all]==0.8.2->autogluon) (3.20.2)\n",
            "Requirement already satisfied: aiosignal in /usr/local/lib/python3.10/dist-packages (from ray[default]<2.4,>=2.3->autogluon.core[all]==0.8.2->autogluon) (1.3.1)\n",
            "Requirement already satisfied: frozenlist in /usr/local/lib/python3.10/dist-packages (from ray[default]<2.4,>=2.3->autogluon.core[all]==0.8.2->autogluon) (1.3.3)\n",
            "Requirement already satisfied: virtualenv>=20.0.24 in /usr/local/lib/python3.10/dist-packages (from ray[default]<2.4,>=2.3->autogluon.core[all]==0.8.2->autogluon) (20.23.1)\n",
            "Requirement already satisfied: aiohttp>=3.7 in /usr/local/lib/python3.10/dist-packages (from ray[default]<2.4,>=2.3->autogluon.core[all]==0.8.2->autogluon) (3.8.4)\n",
            "Requirement already satisfied: aiohttp-cors in /usr/local/lib/python3.10/dist-packages (from ray[default]<2.4,>=2.3->autogluon.core[all]==0.8.2->autogluon) (0.7.0)\n",
            "Requirement already satisfied: colorful in /usr/local/lib/python3.10/dist-packages (from ray[default]<2.4,>=2.3->autogluon.core[all]==0.8.2->autogluon) (0.5.5)\n",
            "Requirement already satisfied: py-spy>=0.2.0 in /usr/local/lib/python3.10/dist-packages (from ray[default]<2.4,>=2.3->autogluon.core[all]==0.8.2->autogluon) (0.3.14)\n",
            "Requirement already satisfied: gpustat>=1.0.0 in /usr/local/lib/python3.10/dist-packages (from ray[default]<2.4,>=2.3->autogluon.core[all]==0.8.2->autogluon) (1.1)\n",
            "Requirement already satisfied: opencensus in /usr/local/lib/python3.10/dist-packages (from ray[default]<2.4,>=2.3->autogluon.core[all]==0.8.2->autogluon) (0.11.2)\n",
            "Requirement already satisfied: prometheus-client>=0.7.1 in /usr/local/lib/python3.10/dist-packages (from ray[default]<2.4,>=2.3->autogluon.core[all]==0.8.2->autogluon) (0.17.0)\n",
            "Requirement already satisfied: smart-open in /usr/local/lib/python3.10/dist-packages (from ray[default]<2.4,>=2.3->autogluon.core[all]==0.8.2->autogluon) (6.3.0)\n",
            "Requirement already satisfied: tensorboardX>=1.9 in /usr/local/lib/python3.10/dist-packages (from ray[default]<2.4,>=2.3->autogluon.core[all]==0.8.2->autogluon) (2.6)\n",
            "Requirement already satisfied: urllib3<1.27,>=1.21.1 in /usr/local/lib/python3.10/dist-packages (from requests->autogluon.core[all]==0.8.2->autogluon) (1.26.16)\n",
            "Requirement already satisfied: certifi>=2017.4.17 in /usr/local/lib/python3.10/dist-packages (from requests->autogluon.core[all]==0.8.2->autogluon) (2023.5.7)\n",
            "Requirement already satisfied: charset-normalizer~=2.0.0 in /usr/local/lib/python3.10/dist-packages (from requests->autogluon.core[all]==0.8.2->autogluon) (2.0.12)\n",
            "Requirement already satisfied: idna<4,>=2.5 in /usr/local/lib/python3.10/dist-packages (from requests->autogluon.core[all]==0.8.2->autogluon) (3.4)\n",
            "Requirement already satisfied: imageio>=2.4.1 in /usr/local/lib/python3.10/dist-packages (from scikit-image<0.20.0,>=0.19.1->autogluon.multimodal==0.8.2->autogluon) (2.25.1)\n",
            "Requirement already satisfied: tifffile>=2019.7.26 in /usr/local/lib/python3.10/dist-packages (from scikit-image<0.20.0,>=0.19.1->autogluon.multimodal==0.8.2->autogluon) (2023.4.12)\n",
            "Requirement already satisfied: PyWavelets>=1.1.1 in /usr/local/lib/python3.10/dist-packages (from scikit-image<0.20.0,>=0.19.1->autogluon.multimodal==0.8.2->autogluon) (1.4.1)\n",
            "Requirement already satisfied: threadpoolctl>=2.0.0 in /usr/local/lib/python3.10/dist-packages (from scikit-learn<1.3,>=1.0->autogluon.core[all]==0.8.2->autogluon) (3.1.0)\n",
            "Requirement already satisfied: patsy>=0.5.2 in /usr/local/lib/python3.10/dist-packages (from statsmodels<0.15,>=0.13.0->autogluon.timeseries[all]==0.8.2->autogluon) (0.5.3)\n",
            "Requirement already satisfied: absl-py>=0.4 in /usr/local/lib/python3.10/dist-packages (from tensorboard<3,>=2.9->autogluon.multimodal==0.8.2->autogluon) (1.4.0)\n",
            "Requirement already satisfied: google-auth<3,>=1.6.3 in /usr/local/lib/python3.10/dist-packages (from tensorboard<3,>=2.9->autogluon.multimodal==0.8.2->autogluon) (2.17.3)\n",
            "Requirement already satisfied: google-auth-oauthlib<1.1,>=0.5 in /usr/local/lib/python3.10/dist-packages (from tensorboard<3,>=2.9->autogluon.multimodal==0.8.2->autogluon) (1.0.0)\n",
            "Requirement already satisfied: markdown>=2.6.8 in /usr/local/lib/python3.10/dist-packages (from tensorboard<3,>=2.9->autogluon.multimodal==0.8.2->autogluon) (3.4.3)\n",
            "Requirement already satisfied: tensorboard-data-server<0.8.0,>=0.7.0 in /usr/local/lib/python3.10/dist-packages (from tensorboard<3,>=2.9->autogluon.multimodal==0.8.2->autogluon) (0.7.1)\n",
            "Requirement already satisfied: werkzeug>=1.0.1 in /usr/local/lib/python3.10/dist-packages (from tensorboard<3,>=2.9->autogluon.multimodal==0.8.2->autogluon) (2.3.6)\n",
            "Requirement already satisfied: safetensors in /usr/local/lib/python3.10/dist-packages (from timm<0.10.0,>=0.9.2->autogluon.multimodal==0.8.2->autogluon) (0.3.1)\n",
            "Requirement already satisfied: nvidia-cuda-runtime-cu11==11.7.99 in /usr/local/lib/python3.10/dist-packages (from torch<1.14,>=1.9->autogluon.multimodal==0.8.2->autogluon) (11.7.99)\n",
            "Requirement already satisfied: nvidia-cudnn-cu11==8.5.0.96 in /usr/local/lib/python3.10/dist-packages (from torch<1.14,>=1.9->autogluon.multimodal==0.8.2->autogluon) (8.5.0.96)\n",
            "Requirement already satisfied: nvidia-cublas-cu11==11.10.3.66 in /usr/local/lib/python3.10/dist-packages (from torch<1.14,>=1.9->autogluon.multimodal==0.8.2->autogluon) (11.10.3.66)\n",
            "Requirement already satisfied: nvidia-cuda-nvrtc-cu11==11.7.99 in /usr/local/lib/python3.10/dist-packages (from torch<1.14,>=1.9->autogluon.multimodal==0.8.2->autogluon) (11.7.99)\n",
            "Requirement already satisfied: tokenizers!=0.11.3,<0.14,>=0.11.1 in /usr/local/lib/python3.10/dist-packages (from transformers[sentencepiece]<4.27.0,>=4.23.0->autogluon.multimodal==0.8.2->autogluon) (0.13.3)\n",
            "Requirement already satisfied: sentencepiece!=0.1.92,>=0.1.91 in /usr/local/lib/python3.10/dist-packages (from transformers[sentencepiece]<4.27.0,>=4.23.0->autogluon.multimodal==0.8.2->autogluon) (0.1.99)\n",
            "Requirement already satisfied: contourpy>=1.0.1 in /usr/local/lib/python3.10/dist-packages (from matplotlib->autogluon.core[all]==0.8.2->autogluon) (1.1.0)\n",
            "Requirement already satisfied: cycler>=0.10 in /usr/local/lib/python3.10/dist-packages (from matplotlib->autogluon.core[all]==0.8.2->autogluon) (0.11.0)\n",
            "Requirement already satisfied: fonttools>=4.22.0 in /usr/local/lib/python3.10/dist-packages (from matplotlib->autogluon.core[all]==0.8.2->autogluon) (4.40.0)\n",
            "Requirement already satisfied: kiwisolver>=1.0.1 in /usr/local/lib/python3.10/dist-packages (from matplotlib->autogluon.core[all]==0.8.2->autogluon) (1.4.4)\n",
            "Requirement already satisfied: pyparsing>=2.3.1 in /usr/local/lib/python3.10/dist-packages (from matplotlib->autogluon.core[all]==0.8.2->autogluon) (3.1.0)\n",
            "Requirement already satisfied: multidict<7.0,>=4.5 in /usr/local/lib/python3.10/dist-packages (from aiohttp>=3.7->ray[default]<2.4,>=2.3->autogluon.core[all]==0.8.2->autogluon) (6.0.4)\n",
            "Requirement already satisfied: async-timeout<5.0,>=4.0.0a3 in /usr/local/lib/python3.10/dist-packages (from aiohttp>=3.7->ray[default]<2.4,>=2.3->autogluon.core[all]==0.8.2->autogluon) (4.0.2)\n",
            "Requirement already satisfied: yarl<2.0,>=1.0 in /usr/local/lib/python3.10/dist-packages (from aiohttp>=3.7->ray[default]<2.4,>=2.3->autogluon.core[all]==0.8.2->autogluon) (1.9.2)\n",
            "Requirement already satisfied: pyarrow>=8.0.0 in /usr/local/lib/python3.10/dist-packages (from datasets>=2.0.0->evaluate<0.4.0,>=0.2.2->autogluon.multimodal==0.8.2->autogluon) (9.0.0)\n",
            "Requirement already satisfied: beautifulsoup4 in /usr/local/lib/python3.10/dist-packages (from gdown>=4.0.0->nlpaug<1.2.0,>=1.1.10->autogluon.multimodal==0.8.2->autogluon) (4.11.2)\n",
            "Requirement already satisfied: cachetools<6.0,>=2.0.0 in /usr/local/lib/python3.10/dist-packages (from google-auth<3,>=1.6.3->tensorboard<3,>=2.9->autogluon.multimodal==0.8.2->autogluon) (5.3.1)\n",
            "Requirement already satisfied: pyasn1-modules>=0.2.1 in /usr/local/lib/python3.10/dist-packages (from google-auth<3,>=1.6.3->tensorboard<3,>=2.9->autogluon.multimodal==0.8.2->autogluon) (0.3.0)\n",
            "Requirement already satisfied: rsa<5,>=3.1.4 in /usr/local/lib/python3.10/dist-packages (from google-auth<3,>=1.6.3->tensorboard<3,>=2.9->autogluon.multimodal==0.8.2->autogluon) (4.9)\n",
            "Requirement already satisfied: requests-oauthlib>=0.7.0 in /usr/local/lib/python3.10/dist-packages (from google-auth-oauthlib<1.1,>=0.5->tensorboard<3,>=2.9->autogluon.multimodal==0.8.2->autogluon) (1.3.1)\n",
            "Requirement already satisfied: nvidia-ml-py>=11.450.129 in /usr/local/lib/python3.10/dist-packages (from gpustat>=1.0.0->ray[default]<2.4,>=2.3->autogluon.core[all]==0.8.2->autogluon) (11.525.131)\n",
            "Requirement already satisfied: blessed>=1.17.1 in /usr/local/lib/python3.10/dist-packages (from gpustat>=1.0.0->ray[default]<2.4,>=2.3->autogluon.core[all]==0.8.2->autogluon) (1.20.0)\n",
            "Requirement already satisfied: llvmlite<0.40,>=0.39.0dev0 in /usr/local/lib/python3.10/dist-packages (from numba->mlforecast<0.7.4,>=0.7.0->autogluon.timeseries[all]==0.8.2->autogluon) (0.39.1)\n",
            "Requirement already satisfied: spacy-legacy<3.1.0,>=3.0.11 in /usr/local/lib/python3.10/dist-packages (from spacy<4->fastai<2.8,>=2.3.1->autogluon.tabular[all]==0.8.2->autogluon) (3.0.12)\n",
            "Requirement already satisfied: spacy-loggers<2.0.0,>=1.0.0 in /usr/local/lib/python3.10/dist-packages (from spacy<4->fastai<2.8,>=2.3.1->autogluon.tabular[all]==0.8.2->autogluon) (1.0.4)\n",
            "Requirement already satisfied: murmurhash<1.1.0,>=0.28.0 in /usr/local/lib/python3.10/dist-packages (from spacy<4->fastai<2.8,>=2.3.1->autogluon.tabular[all]==0.8.2->autogluon) (1.0.9)\n",
            "Requirement already satisfied: cymem<2.1.0,>=2.0.2 in /usr/local/lib/python3.10/dist-packages (from spacy<4->fastai<2.8,>=2.3.1->autogluon.tabular[all]==0.8.2->autogluon) (2.0.7)\n",
            "Requirement already satisfied: preshed<3.1.0,>=3.0.2 in /usr/local/lib/python3.10/dist-packages (from spacy<4->fastai<2.8,>=2.3.1->autogluon.tabular[all]==0.8.2->autogluon) (3.0.8)\n",
            "Requirement already satisfied: thinc<8.2.0,>=8.1.8 in /usr/local/lib/python3.10/dist-packages (from spacy<4->fastai<2.8,>=2.3.1->autogluon.tabular[all]==0.8.2->autogluon) (8.1.10)\n",
            "Requirement already satisfied: wasabi<1.2.0,>=0.9.1 in /usr/local/lib/python3.10/dist-packages (from spacy<4->fastai<2.8,>=2.3.1->autogluon.tabular[all]==0.8.2->autogluon) (1.1.2)\n",
            "Requirement already satisfied: srsly<3.0.0,>=2.4.3 in /usr/local/lib/python3.10/dist-packages (from spacy<4->fastai<2.8,>=2.3.1->autogluon.tabular[all]==0.8.2->autogluon) (2.4.6)\n",
            "Requirement already satisfied: catalogue<2.1.0,>=2.0.6 in /usr/local/lib/python3.10/dist-packages (from spacy<4->fastai<2.8,>=2.3.1->autogluon.tabular[all]==0.8.2->autogluon) (2.0.8)\n",
            "Requirement already satisfied: typer<0.8.0,>=0.3.0 in /usr/local/lib/python3.10/dist-packages (from spacy<4->fastai<2.8,>=2.3.1->autogluon.tabular[all]==0.8.2->autogluon) (0.7.0)\n",
            "Requirement already satisfied: pathy>=0.10.0 in /usr/local/lib/python3.10/dist-packages (from spacy<4->fastai<2.8,>=2.3.1->autogluon.tabular[all]==0.8.2->autogluon) (0.10.2)\n",
            "Requirement already satisfied: langcodes<4.0.0,>=3.2.0 in /usr/local/lib/python3.10/dist-packages (from spacy<4->fastai<2.8,>=2.3.1->autogluon.tabular[all]==0.8.2->autogluon) (3.3.0)\n",
            "Requirement already satisfied: distlib<1,>=0.3.6 in /usr/local/lib/python3.10/dist-packages (from virtualenv>=20.0.24->ray[default]<2.4,>=2.3->autogluon.core[all]==0.8.2->autogluon) (0.3.6)\n",
            "Requirement already satisfied: platformdirs<4,>=3.5.1 in /usr/local/lib/python3.10/dist-packages (from virtualenv>=20.0.24->ray[default]<2.4,>=2.3->autogluon.core[all]==0.8.2->autogluon) (3.7.0)\n",
            "Requirement already satisfied: ordered-set in /usr/local/lib/python3.10/dist-packages (from model-index->openmim<0.4.0,>=0.3.7->autogluon.multimodal==0.8.2->autogluon) (4.1.0)\n",
            "Requirement already satisfied: opencensus-context>=0.1.3 in /usr/local/lib/python3.10/dist-packages (from opencensus->ray[default]<2.4,>=2.3->autogluon.core[all]==0.8.2->autogluon) (0.1.3)\n",
            "Requirement already satisfied: google-api-core<3.0.0,>=1.0.0 in /usr/local/lib/python3.10/dist-packages (from opencensus->ray[default]<2.4,>=2.3->autogluon.core[all]==0.8.2->autogluon) (2.11.1)\n",
            "Requirement already satisfied: pycryptodome in /usr/local/lib/python3.10/dist-packages (from opendatalab->openmim<0.4.0,>=0.3.7->autogluon.multimodal==0.8.2->autogluon) (3.18.0)\n",
            "Requirement already satisfied: tenacity>=6.2.0 in /usr/local/lib/python3.10/dist-packages (from plotly->catboost<1.3,>=1.1->autogluon.tabular[all]==0.8.2->autogluon) (8.2.2)\n",
            "Requirement already satisfied: markdown-it-py>=2.2.0 in /usr/local/lib/python3.10/dist-packages (from rich->openmim<0.4.0,>=0.3.7->autogluon.multimodal==0.8.2->autogluon) (3.0.0)\n",
            "Requirement already satisfied: pygments<3.0.0,>=2.13.0 in /usr/local/lib/python3.10/dist-packages (from rich->openmim<0.4.0,>=0.3.7->autogluon.multimodal==0.8.2->autogluon) (2.14.0)\n",
            "Requirement already satisfied: wcwidth>=0.1.4 in /usr/local/lib/python3.10/dist-packages (from blessed>=1.17.1->gpustat>=1.0.0->ray[default]<2.4,>=2.3->autogluon.core[all]==0.8.2->autogluon) (0.2.6)\n",
            "Requirement already satisfied: googleapis-common-protos<2.0.dev0,>=1.56.2 in /usr/local/lib/python3.10/dist-packages (from google-api-core<3.0.0,>=1.0.0->opencensus->ray[default]<2.4,>=2.3->autogluon.core[all]==0.8.2->autogluon) (1.59.1)\n",
            "Requirement already satisfied: mdurl~=0.1 in /usr/local/lib/python3.10/dist-packages (from markdown-it-py>=2.2.0->rich->openmim<0.4.0,>=0.3.7->autogluon.multimodal==0.8.2->autogluon) (0.1.2)\n",
            "Requirement already satisfied: pyasn1<0.6.0,>=0.4.6 in /usr/local/lib/python3.10/dist-packages (from pyasn1-modules>=0.2.1->google-auth<3,>=1.6.3->tensorboard<3,>=2.9->autogluon.multimodal==0.8.2->autogluon) (0.5.0)\n",
            "Requirement already satisfied: oauthlib>=3.0.0 in /usr/local/lib/python3.10/dist-packages (from requests-oauthlib>=0.7.0->google-auth-oauthlib<1.1,>=0.5->tensorboard<3,>=2.9->autogluon.multimodal==0.8.2->autogluon) (3.2.2)\n",
            "Requirement already satisfied: blis<0.8.0,>=0.7.8 in /usr/local/lib/python3.10/dist-packages (from thinc<8.2.0,>=8.1.8->spacy<4->fastai<2.8,>=2.3.1->autogluon.tabular[all]==0.8.2->autogluon) (0.7.9)\n",
            "Requirement already satisfied: confection<1.0.0,>=0.0.1 in /usr/local/lib/python3.10/dist-packages (from thinc<8.2.0,>=8.1.8->spacy<4->fastai<2.8,>=2.3.1->autogluon.tabular[all]==0.8.2->autogluon) (0.0.4)\n",
            "Requirement already satisfied: soupsieve>1.2 in /usr/local/lib/python3.10/dist-packages (from beautifulsoup4->gdown>=4.0.0->nlpaug<1.2.0,>=1.1.10->autogluon.multimodal==0.8.2->autogluon) (2.4.1)\n",
            "Requirement already satisfied: PySocks!=1.5.7,>=1.5.6 in /usr/local/lib/python3.10/dist-packages (from requests->autogluon.core[all]==0.8.2->autogluon) (1.7.1)\n"
          ]
        }
      ]
    },
    {
      "cell_type": "code",
      "source": [
        "#TabularData(정형데이터)를 다루기 때문에 아래 라이브러리 호출\n",
        "from autogluon.tabular import TabularDataset, TabularPredictor\n",
        "import autogluon.core as ag"
      ],
      "metadata": {
        "id": "RYS7FZbua3Bc"
      },
      "execution_count": 18,
      "outputs": []
    },
    {
      "cell_type": "markdown",
      "source": [
        "##### 학습하기\n",
        "\n",
        "- autogluon 내부에는 여러가지 모델을 알아서 비교해주고 코드로 구현하기 쉬움"
      ],
      "metadata": {
        "id": "ZQRq9xdPcjlw"
      }
    },
    {
      "cell_type": "code",
      "source": [
        "train = train.drop('ID', axis=1)\n",
        "test = test.drop('ID', axis=1)"
      ],
      "metadata": {
        "id": "DyEbBN9nkL2D"
      },
      "execution_count": 19,
      "outputs": []
    },
    {
      "cell_type": "code",
      "source": [
        "#autogluon 학습을 위한 데이터 형태로 변환\n",
        "train = TabularDataset(train)\n",
        "test = TabularDataset(test)"
      ],
      "metadata": {
        "id": "umx4P_F5cgO7"
      },
      "execution_count": 20,
      "outputs": []
    },
    {
      "cell_type": "code",
      "source": [
        "predictor = TabularPredictor(label='가격',\n",
        "                             problem_type='regression',\n",
        "                             eval_metric='mae').fit(train)"
      ],
      "metadata": {
        "colab": {
          "base_uri": "https://localhost:8080/"
        },
        "id": "UTRgGuY3dC5a",
        "outputId": "0b618d6d-82f6-4a94-d068-d59ae1b6820f"
      },
      "execution_count": 21,
      "outputs": [
        {
          "output_type": "stream",
          "name": "stderr",
          "text": [
            "No path specified. Models will be saved in: \"AutogluonModels/ag-20230703_041124/\"\n",
            "Beginning AutoGluon training ...\n",
            "AutoGluon will save models to \"AutogluonModels/ag-20230703_041124/\"\n",
            "AutoGluon Version:  0.8.2\n",
            "Python Version:     3.10.12\n",
            "Operating System:   Linux\n",
            "Platform Machine:   x86_64\n",
            "Platform Version:   #1 SMP Sat Apr 29 09:15:28 UTC 2023\n",
            "Disk Space Avail:   82.05 GB / 115.66 GB (70.9%)\n",
            "Train Data Rows:    57920\n",
            "Train Data Columns: 13\n",
            "Label Column: 가격\n",
            "Preprocessing data ...\n",
            "Using Feature Generators to preprocess the data ...\n",
            "Fitting AutoMLPipelineFeatureGenerator...\n",
            "\tAvailable Memory:                    12128.82 MB\n",
            "\tTrain Data (Original)  Memory Usage: 18.35 MB (0.2% of available memory)\n",
            "\tInferring data type of each feature based on column values. Set feature_metadata_in to manually specify special dtypes of the features.\n",
            "\tStage 1 Generators:\n",
            "\t\tFitting AsTypeFeatureGenerator...\n",
            "\t\t\tNote: Converting 5 features to boolean dtype as they only contain 2 unique values.\n",
            "\tStage 2 Generators:\n",
            "\t\tFitting FillNaFeatureGenerator...\n",
            "\tStage 3 Generators:\n",
            "\t\tFitting IdentityFeatureGenerator...\n",
            "\t\tFitting CategoryFeatureGenerator...\n",
            "\t\t\tFitting CategoryMemoryMinimizeFeatureGenerator...\n",
            "\tStage 4 Generators:\n",
            "\t\tFitting DropUniqueFeatureGenerator...\n",
            "\tStage 5 Generators:\n",
            "\t\tFitting DropDuplicatesFeatureGenerator...\n",
            "\tTypes of features in original data (raw dtype, special dtypes):\n",
            "\t\t('int', [])    : 9 | ['생산년도', '모델출시년도', '주행거리', '배기량', '압축천연가스(CNG)', ...]\n",
            "\t\t('object', []) : 4 | ['브랜드', '차량모델명', '판매도시', '판매구역']\n",
            "\tTypes of features in processed data (raw dtype, special dtypes):\n",
            "\t\t('category', [])  : 4 | ['브랜드', '차량모델명', '판매도시', '판매구역']\n",
            "\t\t('int', [])       : 4 | ['생산년도', '모델출시년도', '주행거리', '배기량']\n",
            "\t\t('int', ['bool']) : 5 | ['압축천연가스(CNG)', '경유', '가솔린', '하이브리드', '액화석유가스(LPG)']\n",
            "\t1.8s = Fit runtime\n",
            "\t13 features in original data used to generate 13 features in processed data.\n",
            "\tTrain Data (Processed) Memory Usage: 2.49 MB (0.0% of available memory)\n",
            "Data preprocessing and feature engineering runtime = 1.95s ...\n",
            "AutoGluon will gauge predictive performance using evaluation metric: 'mean_absolute_error'\n",
            "\tThis metric's sign has been flipped to adhere to being higher_is_better. The metric score can be multiplied by -1 to get the metric value.\n",
            "\tTo change this, specify the eval_metric parameter of Predictor()\n",
            "Automatically generating train/validation split with holdout_frac=0.043162983425414365, Train Rows: 55420, Val Rows: 2500\n",
            "User-specified model hyperparameters to be fit:\n",
            "{\n",
            "\t'NN_TORCH': {},\n",
            "\t'GBM': [{'extra_trees': True, 'ag_args': {'name_suffix': 'XT'}}, {}, 'GBMLarge'],\n",
            "\t'CAT': {},\n",
            "\t'XGB': {},\n",
            "\t'FASTAI': {},\n",
            "\t'RF': [{'criterion': 'gini', 'ag_args': {'name_suffix': 'Gini', 'problem_types': ['binary', 'multiclass']}}, {'criterion': 'entropy', 'ag_args': {'name_suffix': 'Entr', 'problem_types': ['binary', 'multiclass']}}, {'criterion': 'squared_error', 'ag_args': {'name_suffix': 'MSE', 'problem_types': ['regression', 'quantile']}}],\n",
            "\t'XT': [{'criterion': 'gini', 'ag_args': {'name_suffix': 'Gini', 'problem_types': ['binary', 'multiclass']}}, {'criterion': 'entropy', 'ag_args': {'name_suffix': 'Entr', 'problem_types': ['binary', 'multiclass']}}, {'criterion': 'squared_error', 'ag_args': {'name_suffix': 'MSE', 'problem_types': ['regression', 'quantile']}}],\n",
            "\t'KNN': [{'weights': 'uniform', 'ag_args': {'name_suffix': 'Unif'}}, {'weights': 'distance', 'ag_args': {'name_suffix': 'Dist'}}],\n",
            "}\n",
            "Fitting 11 L1 models ...\n",
            "Fitting model: KNeighborsUnif ...\n",
            "\t-17.3847\t = Validation score   (-mean_absolute_error)\n",
            "\t6.35s\t = Training   runtime\n",
            "\t0.07s\t = Validation runtime\n",
            "Fitting model: KNeighborsDist ...\n",
            "\t-16.7037\t = Validation score   (-mean_absolute_error)\n",
            "\t0.18s\t = Training   runtime\n",
            "\t0.08s\t = Validation runtime\n",
            "Fitting model: LightGBMXT ...\n"
          ]
        },
        {
          "output_type": "stream",
          "name": "stdout",
          "text": [
            "[1000]\tvalid_set's l1: 5.90157\n",
            "[2000]\tvalid_set's l1: 5.84195\n"
          ]
        },
        {
          "output_type": "stream",
          "name": "stderr",
          "text": [
            "\t-5.8317\t = Validation score   (-mean_absolute_error)\n",
            "\t26.23s\t = Training   runtime\n",
            "\t1.05s\t = Validation runtime\n",
            "Fitting model: LightGBM ...\n"
          ]
        },
        {
          "output_type": "stream",
          "name": "stdout",
          "text": [
            "[1000]\tvalid_set's l1: 5.84017\n"
          ]
        },
        {
          "output_type": "stream",
          "name": "stderr",
          "text": [
            "\t-5.8322\t = Validation score   (-mean_absolute_error)\n",
            "\t7.02s\t = Training   runtime\n",
            "\t0.41s\t = Validation runtime\n",
            "Fitting model: RandomForestMSE ...\n",
            "\t-6.0118\t = Validation score   (-mean_absolute_error)\n",
            "\t97.68s\t = Training   runtime\n",
            "\t0.78s\t = Validation runtime\n",
            "Fitting model: CatBoost ...\n",
            "\t-5.8151\t = Validation score   (-mean_absolute_error)\n",
            "\t1128.54s\t = Training   runtime\n",
            "\t0.85s\t = Validation runtime\n",
            "Fitting model: ExtraTreesMSE ...\n",
            "\t-6.0009\t = Validation score   (-mean_absolute_error)\n",
            "\t41.0s\t = Training   runtime\n",
            "\t0.73s\t = Validation runtime\n",
            "Fitting model: NeuralNetFastAI ...\n",
            "\t-6.0808\t = Validation score   (-mean_absolute_error)\n",
            "\t138.01s\t = Training   runtime\n",
            "\t0.08s\t = Validation runtime\n",
            "Fitting model: XGBoost ...\n",
            "\t-5.9248\t = Validation score   (-mean_absolute_error)\n",
            "\t90.91s\t = Training   runtime\n",
            "\t0.95s\t = Validation runtime\n",
            "Fitting model: NeuralNetTorch ...\n",
            "\t-6.369\t = Validation score   (-mean_absolute_error)\n",
            "\t124.29s\t = Training   runtime\n",
            "\t0.05s\t = Validation runtime\n",
            "Fitting model: LightGBMLarge ...\n"
          ]
        },
        {
          "output_type": "stream",
          "name": "stdout",
          "text": [
            "[1000]\tvalid_set's l1: 5.65789\n"
          ]
        },
        {
          "output_type": "stream",
          "name": "stderr",
          "text": [
            "\t-5.6526\t = Validation score   (-mean_absolute_error)\n",
            "\t14.77s\t = Training   runtime\n",
            "\t1.22s\t = Validation runtime\n",
            "Fitting model: WeightedEnsemble_L2 ...\n",
            "\t-5.4953\t = Validation score   (-mean_absolute_error)\n",
            "\t0.78s\t = Training   runtime\n",
            "\t0.0s\t = Validation runtime\n",
            "AutoGluon training complete, total runtime = 1703.68s ... Best model: \"WeightedEnsemble_L2\"\n",
            "TabularPredictor saved. To load, use: predictor = TabularPredictor.load(\"AutogluonModels/ag-20230703_041124/\")\n"
          ]
        }
      ]
    },
    {
      "cell_type": "code",
      "source": [
        "#predictor의 summary값 확인\n",
        "results = predictor.fit_summary()"
      ],
      "metadata": {
        "colab": {
          "base_uri": "https://localhost:8080/"
        },
        "id": "66HZ5zVoL9K4",
        "outputId": "a29f7fc7-6799-477d-d13d-577d2a2b4496"
      },
      "execution_count": 27,
      "outputs": [
        {
          "output_type": "stream",
          "name": "stdout",
          "text": [
            "*** Summary of fit() ***\n",
            "Estimated performance of each model:\n",
            "                  model  score_val  pred_time_val     fit_time  pred_time_val_marginal  fit_time_marginal  stack_level  can_infer  fit_order\n",
            "0   WeightedEnsemble_L2  -5.495345       4.660031  1635.963700                0.001131           0.779660            2       True         12\n",
            "1         LightGBMLarge  -5.652586       1.224401    14.770763                1.224401          14.770763            1       True         11\n",
            "2              CatBoost  -5.815062       0.850227  1128.538806                0.850227        1128.538806            1       True          6\n",
            "3            LightGBMXT  -5.831700       1.049686    26.232757                1.049686          26.232757            1       True          3\n",
            "4              LightGBM  -5.832224       0.414197     7.016816                0.414197           7.016816            1       True          4\n",
            "5               XGBoost  -5.924753       0.952236    90.906208                0.952236          90.906208            1       True          9\n",
            "6         ExtraTreesMSE  -6.000862       0.730689    40.998093                0.730689          40.998093            1       True          7\n",
            "7       RandomForestMSE  -6.011757       0.775243    97.677653                0.775243          97.677653            1       True          5\n",
            "8       NeuralNetFastAI  -6.080845       0.079530   138.006784                0.079530         138.006784            1       True          8\n",
            "9        NeuralNetTorch  -6.368998       0.046575   124.285734                0.046575         124.285734            1       True         10\n",
            "10       KNeighborsDist -16.703670       0.078764     0.180185                0.078764           0.180185            1       True          2\n",
            "11       KNeighborsUnif -17.384714       0.072684     6.350637                0.072684           6.350637            1       True          1\n",
            "Number of models trained: 12\n",
            "Types of models trained:\n",
            "{'WeightedEnsembleModel', 'LGBModel', 'XTModel', 'TabularNeuralNetTorchModel', 'XGBoostModel', 'RFModel', 'KNNModel', 'NNFastAiTabularModel', 'CatBoostModel'}\n",
            "Bagging used: False \n",
            "Multi-layer stack-ensembling used: False \n",
            "Feature Metadata (Processed):\n",
            "(raw dtype, special dtypes):\n",
            "('category', [])  : 4 | ['브랜드', '차량모델명', '판매도시', '판매구역']\n",
            "('int', [])       : 4 | ['생산년도', '모델출시년도', '주행거리', '배기량']\n",
            "('int', ['bool']) : 5 | ['압축천연가스(CNG)', '경유', '가솔린', '하이브리드', '액화석유가스(LPG)']\n",
            "Plot summary of models saved to file: AutogluonModels/ag-20230703_041124/SummaryOfModels.html\n",
            "*** End of fit() summary ***\n"
          ]
        }
      ]
    },
    {
      "cell_type": "code",
      "source": [
        "#위와 같은 정보를 리더보드로 확인\n",
        "ld_board = predictor.leaderboard(train, silent=True)\n",
        "ld_board"
      ],
      "metadata": {
        "colab": {
          "base_uri": "https://localhost:8080/",
          "height": 489
        },
        "id": "A97x_Fv7lwts",
        "outputId": "2367cec3-0557-4864-9c46-abdcb34dc8e8"
      },
      "execution_count": 22,
      "outputs": [
        {
          "output_type": "execute_result",
          "data": {
            "text/plain": [
              "                  model  score_test  score_val  pred_time_test  pred_time_val  \\\n",
              "0        KNeighborsDist   -1.113688 -16.703670        0.709999       0.078764   \n",
              "1       RandomForestMSE   -2.750212  -6.011757        8.421520       0.775243   \n",
              "2         ExtraTreesMSE   -3.049630  -6.000862        9.992340       0.730689   \n",
              "3         LightGBMLarge   -3.466650  -5.652586       23.486255       1.224401   \n",
              "4   WeightedEnsemble_L2   -3.510822  -5.495345       87.940834       4.660031   \n",
              "5               XGBoost   -3.931571  -5.924753       25.156268       0.952236   \n",
              "6              LightGBM   -4.395887  -5.832224       12.172485       0.414197   \n",
              "7       NeuralNetFastAI   -4.513795  -6.080845        2.335398       0.079530   \n",
              "8            LightGBMXT   -4.815487  -5.831700       31.435905       1.049686   \n",
              "9              CatBoost   -5.007776  -5.815062       18.176280       0.850227   \n",
              "10       NeuralNetTorch   -5.701318  -6.368998        0.359748       0.046575   \n",
              "11       KNeighborsUnif  -13.880928 -17.384714        0.752758       0.072684   \n",
              "\n",
              "       fit_time  pred_time_test_marginal  pred_time_val_marginal  \\\n",
              "0      0.180185                 0.709999                0.078764   \n",
              "1     97.677653                 8.421520                0.775243   \n",
              "2     40.998093                 9.992340                0.730689   \n",
              "3     14.770763                23.486255                1.224401   \n",
              "4   1635.963700                 0.013026                0.001131   \n",
              "5     90.906208                25.156268                0.952236   \n",
              "6      7.016816                12.172485                0.414197   \n",
              "7    138.006784                 2.335398                0.079530   \n",
              "8     26.232757                31.435905                1.049686   \n",
              "9   1128.538806                18.176280                0.850227   \n",
              "10   124.285734                 0.359748                0.046575   \n",
              "11     6.350637                 0.752758                0.072684   \n",
              "\n",
              "    fit_time_marginal  stack_level  can_infer  fit_order  \n",
              "0            0.180185            1       True          2  \n",
              "1           97.677653            1       True          5  \n",
              "2           40.998093            1       True          7  \n",
              "3           14.770763            1       True         11  \n",
              "4            0.779660            2       True         12  \n",
              "5           90.906208            1       True          9  \n",
              "6            7.016816            1       True          4  \n",
              "7          138.006784            1       True          8  \n",
              "8           26.232757            1       True          3  \n",
              "9         1128.538806            1       True          6  \n",
              "10         124.285734            1       True         10  \n",
              "11           6.350637            1       True          1  "
            ],
            "text/html": [
              "\n",
              "  <div id=\"df-38d3c8af-1b39-4cc6-b1e7-5fe93ee3c880\">\n",
              "    <div class=\"colab-df-container\">\n",
              "      <div>\n",
              "<style scoped>\n",
              "    .dataframe tbody tr th:only-of-type {\n",
              "        vertical-align: middle;\n",
              "    }\n",
              "\n",
              "    .dataframe tbody tr th {\n",
              "        vertical-align: top;\n",
              "    }\n",
              "\n",
              "    .dataframe thead th {\n",
              "        text-align: right;\n",
              "    }\n",
              "</style>\n",
              "<table border=\"1\" class=\"dataframe\">\n",
              "  <thead>\n",
              "    <tr style=\"text-align: right;\">\n",
              "      <th></th>\n",
              "      <th>model</th>\n",
              "      <th>score_test</th>\n",
              "      <th>score_val</th>\n",
              "      <th>pred_time_test</th>\n",
              "      <th>pred_time_val</th>\n",
              "      <th>fit_time</th>\n",
              "      <th>pred_time_test_marginal</th>\n",
              "      <th>pred_time_val_marginal</th>\n",
              "      <th>fit_time_marginal</th>\n",
              "      <th>stack_level</th>\n",
              "      <th>can_infer</th>\n",
              "      <th>fit_order</th>\n",
              "    </tr>\n",
              "  </thead>\n",
              "  <tbody>\n",
              "    <tr>\n",
              "      <th>0</th>\n",
              "      <td>KNeighborsDist</td>\n",
              "      <td>-1.113688</td>\n",
              "      <td>-16.703670</td>\n",
              "      <td>0.709999</td>\n",
              "      <td>0.078764</td>\n",
              "      <td>0.180185</td>\n",
              "      <td>0.709999</td>\n",
              "      <td>0.078764</td>\n",
              "      <td>0.180185</td>\n",
              "      <td>1</td>\n",
              "      <td>True</td>\n",
              "      <td>2</td>\n",
              "    </tr>\n",
              "    <tr>\n",
              "      <th>1</th>\n",
              "      <td>RandomForestMSE</td>\n",
              "      <td>-2.750212</td>\n",
              "      <td>-6.011757</td>\n",
              "      <td>8.421520</td>\n",
              "      <td>0.775243</td>\n",
              "      <td>97.677653</td>\n",
              "      <td>8.421520</td>\n",
              "      <td>0.775243</td>\n",
              "      <td>97.677653</td>\n",
              "      <td>1</td>\n",
              "      <td>True</td>\n",
              "      <td>5</td>\n",
              "    </tr>\n",
              "    <tr>\n",
              "      <th>2</th>\n",
              "      <td>ExtraTreesMSE</td>\n",
              "      <td>-3.049630</td>\n",
              "      <td>-6.000862</td>\n",
              "      <td>9.992340</td>\n",
              "      <td>0.730689</td>\n",
              "      <td>40.998093</td>\n",
              "      <td>9.992340</td>\n",
              "      <td>0.730689</td>\n",
              "      <td>40.998093</td>\n",
              "      <td>1</td>\n",
              "      <td>True</td>\n",
              "      <td>7</td>\n",
              "    </tr>\n",
              "    <tr>\n",
              "      <th>3</th>\n",
              "      <td>LightGBMLarge</td>\n",
              "      <td>-3.466650</td>\n",
              "      <td>-5.652586</td>\n",
              "      <td>23.486255</td>\n",
              "      <td>1.224401</td>\n",
              "      <td>14.770763</td>\n",
              "      <td>23.486255</td>\n",
              "      <td>1.224401</td>\n",
              "      <td>14.770763</td>\n",
              "      <td>1</td>\n",
              "      <td>True</td>\n",
              "      <td>11</td>\n",
              "    </tr>\n",
              "    <tr>\n",
              "      <th>4</th>\n",
              "      <td>WeightedEnsemble_L2</td>\n",
              "      <td>-3.510822</td>\n",
              "      <td>-5.495345</td>\n",
              "      <td>87.940834</td>\n",
              "      <td>4.660031</td>\n",
              "      <td>1635.963700</td>\n",
              "      <td>0.013026</td>\n",
              "      <td>0.001131</td>\n",
              "      <td>0.779660</td>\n",
              "      <td>2</td>\n",
              "      <td>True</td>\n",
              "      <td>12</td>\n",
              "    </tr>\n",
              "    <tr>\n",
              "      <th>5</th>\n",
              "      <td>XGBoost</td>\n",
              "      <td>-3.931571</td>\n",
              "      <td>-5.924753</td>\n",
              "      <td>25.156268</td>\n",
              "      <td>0.952236</td>\n",
              "      <td>90.906208</td>\n",
              "      <td>25.156268</td>\n",
              "      <td>0.952236</td>\n",
              "      <td>90.906208</td>\n",
              "      <td>1</td>\n",
              "      <td>True</td>\n",
              "      <td>9</td>\n",
              "    </tr>\n",
              "    <tr>\n",
              "      <th>6</th>\n",
              "      <td>LightGBM</td>\n",
              "      <td>-4.395887</td>\n",
              "      <td>-5.832224</td>\n",
              "      <td>12.172485</td>\n",
              "      <td>0.414197</td>\n",
              "      <td>7.016816</td>\n",
              "      <td>12.172485</td>\n",
              "      <td>0.414197</td>\n",
              "      <td>7.016816</td>\n",
              "      <td>1</td>\n",
              "      <td>True</td>\n",
              "      <td>4</td>\n",
              "    </tr>\n",
              "    <tr>\n",
              "      <th>7</th>\n",
              "      <td>NeuralNetFastAI</td>\n",
              "      <td>-4.513795</td>\n",
              "      <td>-6.080845</td>\n",
              "      <td>2.335398</td>\n",
              "      <td>0.079530</td>\n",
              "      <td>138.006784</td>\n",
              "      <td>2.335398</td>\n",
              "      <td>0.079530</td>\n",
              "      <td>138.006784</td>\n",
              "      <td>1</td>\n",
              "      <td>True</td>\n",
              "      <td>8</td>\n",
              "    </tr>\n",
              "    <tr>\n",
              "      <th>8</th>\n",
              "      <td>LightGBMXT</td>\n",
              "      <td>-4.815487</td>\n",
              "      <td>-5.831700</td>\n",
              "      <td>31.435905</td>\n",
              "      <td>1.049686</td>\n",
              "      <td>26.232757</td>\n",
              "      <td>31.435905</td>\n",
              "      <td>1.049686</td>\n",
              "      <td>26.232757</td>\n",
              "      <td>1</td>\n",
              "      <td>True</td>\n",
              "      <td>3</td>\n",
              "    </tr>\n",
              "    <tr>\n",
              "      <th>9</th>\n",
              "      <td>CatBoost</td>\n",
              "      <td>-5.007776</td>\n",
              "      <td>-5.815062</td>\n",
              "      <td>18.176280</td>\n",
              "      <td>0.850227</td>\n",
              "      <td>1128.538806</td>\n",
              "      <td>18.176280</td>\n",
              "      <td>0.850227</td>\n",
              "      <td>1128.538806</td>\n",
              "      <td>1</td>\n",
              "      <td>True</td>\n",
              "      <td>6</td>\n",
              "    </tr>\n",
              "    <tr>\n",
              "      <th>10</th>\n",
              "      <td>NeuralNetTorch</td>\n",
              "      <td>-5.701318</td>\n",
              "      <td>-6.368998</td>\n",
              "      <td>0.359748</td>\n",
              "      <td>0.046575</td>\n",
              "      <td>124.285734</td>\n",
              "      <td>0.359748</td>\n",
              "      <td>0.046575</td>\n",
              "      <td>124.285734</td>\n",
              "      <td>1</td>\n",
              "      <td>True</td>\n",
              "      <td>10</td>\n",
              "    </tr>\n",
              "    <tr>\n",
              "      <th>11</th>\n",
              "      <td>KNeighborsUnif</td>\n",
              "      <td>-13.880928</td>\n",
              "      <td>-17.384714</td>\n",
              "      <td>0.752758</td>\n",
              "      <td>0.072684</td>\n",
              "      <td>6.350637</td>\n",
              "      <td>0.752758</td>\n",
              "      <td>0.072684</td>\n",
              "      <td>6.350637</td>\n",
              "      <td>1</td>\n",
              "      <td>True</td>\n",
              "      <td>1</td>\n",
              "    </tr>\n",
              "  </tbody>\n",
              "</table>\n",
              "</div>\n",
              "      <button class=\"colab-df-convert\" onclick=\"convertToInteractive('df-38d3c8af-1b39-4cc6-b1e7-5fe93ee3c880')\"\n",
              "              title=\"Convert this dataframe to an interactive table.\"\n",
              "              style=\"display:none;\">\n",
              "        \n",
              "  <svg xmlns=\"http://www.w3.org/2000/svg\" height=\"24px\"viewBox=\"0 0 24 24\"\n",
              "       width=\"24px\">\n",
              "    <path d=\"M0 0h24v24H0V0z\" fill=\"none\"/>\n",
              "    <path d=\"M18.56 5.44l.94 2.06.94-2.06 2.06-.94-2.06-.94-.94-2.06-.94 2.06-2.06.94zm-11 1L8.5 8.5l.94-2.06 2.06-.94-2.06-.94L8.5 2.5l-.94 2.06-2.06.94zm10 10l.94 2.06.94-2.06 2.06-.94-2.06-.94-.94-2.06-.94 2.06-2.06.94z\"/><path d=\"M17.41 7.96l-1.37-1.37c-.4-.4-.92-.59-1.43-.59-.52 0-1.04.2-1.43.59L10.3 9.45l-7.72 7.72c-.78.78-.78 2.05 0 2.83L4 21.41c.39.39.9.59 1.41.59.51 0 1.02-.2 1.41-.59l7.78-7.78 2.81-2.81c.8-.78.8-2.07 0-2.86zM5.41 20L4 18.59l7.72-7.72 1.47 1.35L5.41 20z\"/>\n",
              "  </svg>\n",
              "      </button>\n",
              "      \n",
              "  <style>\n",
              "    .colab-df-container {\n",
              "      display:flex;\n",
              "      flex-wrap:wrap;\n",
              "      gap: 12px;\n",
              "    }\n",
              "\n",
              "    .colab-df-convert {\n",
              "      background-color: #E8F0FE;\n",
              "      border: none;\n",
              "      border-radius: 50%;\n",
              "      cursor: pointer;\n",
              "      display: none;\n",
              "      fill: #1967D2;\n",
              "      height: 32px;\n",
              "      padding: 0 0 0 0;\n",
              "      width: 32px;\n",
              "    }\n",
              "\n",
              "    .colab-df-convert:hover {\n",
              "      background-color: #E2EBFA;\n",
              "      box-shadow: 0px 1px 2px rgba(60, 64, 67, 0.3), 0px 1px 3px 1px rgba(60, 64, 67, 0.15);\n",
              "      fill: #174EA6;\n",
              "    }\n",
              "\n",
              "    [theme=dark] .colab-df-convert {\n",
              "      background-color: #3B4455;\n",
              "      fill: #D2E3FC;\n",
              "    }\n",
              "\n",
              "    [theme=dark] .colab-df-convert:hover {\n",
              "      background-color: #434B5C;\n",
              "      box-shadow: 0px 1px 3px 1px rgba(0, 0, 0, 0.15);\n",
              "      filter: drop-shadow(0px 1px 2px rgba(0, 0, 0, 0.3));\n",
              "      fill: #FFFFFF;\n",
              "    }\n",
              "  </style>\n",
              "\n",
              "      <script>\n",
              "        const buttonEl =\n",
              "          document.querySelector('#df-38d3c8af-1b39-4cc6-b1e7-5fe93ee3c880 button.colab-df-convert');\n",
              "        buttonEl.style.display =\n",
              "          google.colab.kernel.accessAllowed ? 'block' : 'none';\n",
              "\n",
              "        async function convertToInteractive(key) {\n",
              "          const element = document.querySelector('#df-38d3c8af-1b39-4cc6-b1e7-5fe93ee3c880');\n",
              "          const dataTable =\n",
              "            await google.colab.kernel.invokeFunction('convertToInteractive',\n",
              "                                                     [key], {});\n",
              "          if (!dataTable) return;\n",
              "\n",
              "          const docLinkHtml = 'Like what you see? Visit the ' +\n",
              "            '<a target=\"_blank\" href=https://colab.research.google.com/notebooks/data_table.ipynb>data table notebook</a>'\n",
              "            + ' to learn more about interactive tables.';\n",
              "          element.innerHTML = '';\n",
              "          dataTable['output_type'] = 'display_data';\n",
              "          await google.colab.output.renderOutput(dataTable, element);\n",
              "          const docLink = document.createElement('div');\n",
              "          docLink.innerHTML = docLinkHtml;\n",
              "          element.appendChild(docLink);\n",
              "        }\n",
              "      </script>\n",
              "    </div>\n",
              "  </div>\n",
              "  "
            ]
          },
          "metadata": {},
          "execution_count": 22
        }
      ]
    },
    {
      "cell_type": "markdown",
      "source": [
        "##### 예측"
      ],
      "metadata": {
        "id": "PM7n_QW4_PG6"
      }
    },
    {
      "cell_type": "code",
      "source": [
        "#어떤 모델이 가장 성능이 좋았는지\n",
        "model_to_use = predictor.get_model_best()\n",
        "model_to_use"
      ],
      "metadata": {
        "colab": {
          "base_uri": "https://localhost:8080/",
          "height": 35
        },
        "id": "8WxMblnLMXQT",
        "outputId": "0c777a0f-707b-4d25-a933-ce0cb449ecc2"
      },
      "execution_count": 29,
      "outputs": [
        {
          "output_type": "execute_result",
          "data": {
            "text/plain": [
              "'WeightedEnsemble_L2'"
            ],
            "application/vnd.google.colaboratory.intrinsic+json": {
              "type": "string"
            }
          },
          "metadata": {},
          "execution_count": 29
        }
      ]
    },
    {
      "cell_type": "code",
      "source": [
        "#가장 성능 좋은 모델로 예측\n",
        "predictor = TabularPredictor.load(\"AutogluonModels/ag-20230703_041124/\")\n",
        "pred = predictor.predict(test, model=model_to_use)"
      ],
      "metadata": {
        "id": "oUacpNZk-v7t"
      },
      "execution_count": 23,
      "outputs": []
    },
    {
      "cell_type": "code",
      "source": [
        "pred"
      ],
      "metadata": {
        "colab": {
          "base_uri": "https://localhost:8080/"
        },
        "id": "cbJefGRiJBPF",
        "outputId": "ad261ef9-87e3-4867-ba77-4e1a7795f473"
      },
      "execution_count": 24,
      "outputs": [
        {
          "output_type": "execute_result",
          "data": {
            "text/plain": [
              "0         92.595566\n",
              "1         26.624863\n",
              "2         87.392128\n",
              "3        125.270287\n",
              "4         46.227715\n",
              "            ...    \n",
              "14475     40.767590\n",
              "14476     23.771589\n",
              "14477    107.951439\n",
              "14478     51.633385\n",
              "14479     43.190853\n",
              "Name: 가격, Length: 14480, dtype: float32"
            ]
          },
          "metadata": {},
          "execution_count": 24
        }
      ]
    },
    {
      "cell_type": "code",
      "source": [
        "submission = pd.read_csv('/content/sample_submission.csv')\n",
        "submission['가격'] = pred\n",
        "submission.to_csv('AutoGluon_submit.csv', index=False)"
      ],
      "metadata": {
        "id": "p38t5TqJ_H3A"
      },
      "execution_count": 26,
      "outputs": []
    },
    {
      "cell_type": "code",
      "source": [],
      "metadata": {
        "id": "N1cUbrCSJpHS"
      },
      "execution_count": null,
      "outputs": []
    }
  ]
}